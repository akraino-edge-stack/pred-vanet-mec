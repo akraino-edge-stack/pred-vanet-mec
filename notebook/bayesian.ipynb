{
 "cells": [
  {
   "cell_type": "markdown",
   "id": "f2bce21c",
   "metadata": {},
   "source": [
    "# Note:\n",
    "* First of all, **run the libraries**\n",
    "* Then **download the file (*XML*)** by the following instructions provided after running \n",
    "* Set the paths for **downloaded *XML-file***\n",
    "* Set the path for **saving the *CSV-file*** (created from XML-file)"
   ]
  },
  {
   "cell_type": "markdown",
   "id": "b3b46d8f",
   "metadata": {},
   "source": [
    "# Libraries"
   ]
  },
  {
   "cell_type": "code",
   "execution_count": null,
   "id": "e458703f",
   "metadata": {},
   "outputs": [],
   "source": [
    "import pandas as pd \n",
    "import matplotlib.pyplot as plt \n",
    "\n",
    "from urllib.request import urlopen\n",
    "import xml.etree.ElementTree as et \n",
    "import math\n",
    "from datetime import datetime"
   ]
  },
  {
   "cell_type": "markdown",
   "id": "78dfbd69",
   "metadata": {},
   "source": [
    "## Download the XML file from below link"
   ]
  },
  {
   "cell_type": "markdown",
   "id": "a19e6d4f",
   "metadata": {},
   "source": [
    "##### https://jejuunivackr-my.sharepoint.com/:u:/g/personal/asif_office_jejunu_ac_kr/EVjo0oc4peJPvy6SOZuoqkEBHhtyyWru1yc3SFPFAJNjqg\n",
    "If above link does not work (contact me via malikasifmahmoodawan@gmail.com)"
   ]
  },
  {
   "cell_type": "markdown",
   "id": "a348042c",
   "metadata": {},
   "source": [
    "## Setting the path from we'll read the downloaded XML-file"
   ]
  },
  {
   "cell_type": "code",
   "execution_count": null,
   "id": "615602b2",
   "metadata": {},
   "outputs": [],
   "source": [
    "path_to_downloaded_xml_file = (\n",
    "    \"/media/ncl-akraino/Volume-HDD-1/akraino/ws-akraino-datasets/OpenStreetMap 2 Traces/\" \n",
    "    \"SelfOpenStreetMapTraceForASparseTraffic.xml\" \n",
    ")"
   ]
  },
  {
   "cell_type": "markdown",
   "id": "ac7a34e3",
   "metadata": {},
   "source": [
    "## Setting the path to where we'll save the created CSV-file"
   ]
  },
  {
   "cell_type": "code",
   "execution_count": null,
   "id": "0262bfa7",
   "metadata": {},
   "outputs": [],
   "source": [
    "path_to_save_csv_file = (\n",
    "    r\"/media/ncl-akraino/Volume-HDD-1/akraino/ws-akraino-datasets/OpenStreetMap 2 Traces/\" \n",
    "    \"SelfOpenStreetMapTraceForASparseTraffic.csv\" \n",
    ")"
   ]
  },
  {
   "cell_type": "markdown",
   "id": "5d27d878",
   "metadata": {},
   "source": [
    "## Initializing variables"
   ]
  },
  {
   "cell_type": "code",
   "execution_count": null,
   "id": "78d43a23",
   "metadata": {},
   "outputs": [],
   "source": [
    "display_max_rows = 60\n",
    "display_max_cols = 10"
   ]
  },
  {
   "cell_type": "code",
   "execution_count": null,
   "id": "25161b11",
   "metadata": {},
   "outputs": [],
   "source": [
    "df_cols = [\"time\", \"id\", \"x\", \"y\", \"angle\", \"speed\", \"pos\", \"lane\"]\n",
    "rows = []"
   ]
  },
  {
   "cell_type": "code",
   "execution_count": null,
   "id": "0e518f66",
   "metadata": {},
   "outputs": [],
   "source": [
    "pd.set_option(\"display.max_columns\", display_max_cols)"
   ]
  },
  {
   "cell_type": "markdown",
   "id": "db9821a1",
   "metadata": {},
   "source": [
    "<br>"
   ]
  },
  {
   "cell_type": "markdown",
   "id": "5ad7b6ba",
   "metadata": {},
   "source": [
    "## Displaying (wink) Copyrights information"
   ]
  },
  {
   "cell_type": "code",
   "execution_count": null,
   "id": "6141c71c",
   "metadata": {},
   "outputs": [],
   "source": [
    "# Copyrights by Asif Mehmood\n",
    "print (\"Asif©\"+datetime.now().strftime(\"%Y\"))"
   ]
  },
  {
   "cell_type": "markdown",
   "id": "cdc2d2f4",
   "metadata": {},
   "source": [
    "<br>"
   ]
  },
  {
   "cell_type": "markdown",
   "id": "0edf465f",
   "metadata": {},
   "source": [
    "## Provide the full path to above downloaded file"
   ]
  },
  {
   "cell_type": "code",
   "execution_count": null,
   "id": "7909a620",
   "metadata": {},
   "outputs": [],
   "source": [
    "xtree = et.parse(path_to_downloaded_xml_file)\n",
    "xroot = xtree.getroot() "
   ]
  },
  {
   "cell_type": "markdown",
   "id": "d9050c56",
   "metadata": {},
   "source": [
    "## Iterating the OpenStreetMap file and building an array from it for the dataset creation"
   ]
  },
  {
   "cell_type": "code",
   "execution_count": null,
   "id": "1a149fec",
   "metadata": {},
   "outputs": [],
   "source": [
    "for node in xroot: \n",
    "    for inner_node in node: \n",
    "        attribs = inner_node.attrib\n",
    "        rows.append({\n",
    "            \"time\": node.attrib.get(\"time\"), \n",
    "            \"id\": attribs.get(\"id\"), \n",
    "            \"x\": attribs.get(\"x\"), \n",
    "            \"y\": attribs.get(\"y\"), \n",
    "            \"angle\": attribs.get(\"angle\"), \n",
    "            \"speed\": attribs.get(\"speed\"), \n",
    "            \"pos\": attribs.get(\"pos\"), \n",
    "            \"lane\": attribs.get(\"lane\") \n",
    "        })"
   ]
  },
  {
   "cell_type": "markdown",
   "id": "ae27c629",
   "metadata": {},
   "source": [
    "## Displaying the rows formatted in arrays"
   ]
  },
  {
   "cell_type": "code",
   "execution_count": null,
   "id": "aff2823c",
   "metadata": {},
   "outputs": [],
   "source": [
    "rows"
   ]
  },
  {
   "cell_type": "markdown",
   "id": "fddc38eb",
   "metadata": {},
   "source": [
    "## Creating a pandas dataframe out of the array"
   ]
  },
  {
   "cell_type": "code",
   "execution_count": null,
   "id": "e0a70916",
   "metadata": {},
   "outputs": [],
   "source": [
    "out_df = pd.DataFrame(rows, columns = df_cols)"
   ]
  },
  {
   "cell_type": "markdown",
   "id": "5a572315",
   "metadata": {},
   "source": [
    "## Converting strings to float-values in the dataset"
   ]
  },
  {
   "cell_type": "code",
   "execution_count": null,
   "id": "205594de",
   "metadata": {},
   "outputs": [],
   "source": [
    "out_df[\"time\"] = out_df[\"time\"].astype(float)\n",
    "out_df[\"x\"] = out_df[\"x\"].astype(float)\n",
    "out_df[\"y\"] = out_df[\"y\"].astype(float)\n",
    "out_df[\"angle\"] = out_df[\"angle\"].astype(float)\n",
    "out_df[\"speed\"] = out_df[\"speed\"].astype(float)\n",
    "out_df[\"pos\"] = out_df[\"pos\"].astype(float)"
   ]
  },
  {
   "cell_type": "markdown",
   "id": "f2bed2a5",
   "metadata": {},
   "source": [
    "## Displaying the pandas dataframe"
   ]
  },
  {
   "cell_type": "code",
   "execution_count": null,
   "id": "37a5dcbe",
   "metadata": {},
   "outputs": [],
   "source": [
    "out_df[:display_max_rows+1]"
   ]
  },
  {
   "cell_type": "markdown",
   "id": "310e3667",
   "metadata": {},
   "source": [
    "## Exporting/saving the dataframe into CSV file"
   ]
  },
  {
   "cell_type": "code",
   "execution_count": null,
   "id": "396263cd",
   "metadata": {},
   "outputs": [],
   "source": [
    "out_df.to_csv(path_to_save_csv_file, index=False) "
   ]
  },
  {
   "cell_type": "markdown",
   "id": "b3bc1e69",
   "metadata": {},
   "source": [
    "## Number of records in the dataset"
   ]
  },
  {
   "cell_type": "code",
   "execution_count": null,
   "id": "ffaebc29",
   "metadata": {},
   "outputs": [],
   "source": [
    "number_of_records_total = out_df.shape[0]\n",
    "print (\"number of dataset-records: \", number_of_records_total)"
   ]
  },
  {
   "cell_type": "markdown",
   "id": "53847e3c",
   "metadata": {},
   "source": [
    "## Fetching minimum x and minimum y coordinates"
   ]
  },
  {
   "cell_type": "code",
   "execution_count": null,
   "id": "db35b196",
   "metadata": {},
   "outputs": [],
   "source": [
    "min_x = min(out_df[\"x\"])\n",
    "min_y = min(out_df[\"y\"])\n",
    "print (\"minimum longititude (X): \", min_x)\n",
    "print (\"minimum latitude (Y): \", min_y)"
   ]
  },
  {
   "cell_type": "markdown",
   "id": "f3c93e13",
   "metadata": {},
   "source": [
    "## Fetching maximum x and maximum y coordinates"
   ]
  },
  {
   "cell_type": "code",
   "execution_count": null,
   "id": "6ee0f390",
   "metadata": {},
   "outputs": [],
   "source": [
    "max_x = max(out_df[\"x\"])\n",
    "max_y = max(out_df[\"y\"])\n",
    "print (\"maximum longititude (X): \", max_x)\n",
    "print (\"maximum latitude (Y): \", max_y)"
   ]
  },
  {
   "cell_type": "markdown",
   "id": "b06b3900",
   "metadata": {},
   "source": [
    "## Graph should start from and end at these coordinates"
   ]
  },
  {
   "cell_type": "code",
   "execution_count": null,
   "id": "c6a27e2d",
   "metadata": {},
   "outputs": [],
   "source": [
    "print (\"From(X,Y): \", min_x, \",\", min_y)\n",
    "print (\"To(X,Y): \", max_x, \", \", max_y)"
   ]
  },
  {
   "cell_type": "markdown",
   "id": "cc828a7a",
   "metadata": {},
   "source": [
    "## Setting maximum, minimum limit for graphs in Pilot"
   ]
  },
  {
   "cell_type": "code",
   "execution_count": null,
   "id": "e85961dd",
   "metadata": {},
   "outputs": [],
   "source": [
    "plt.xlim([math.floor(min_x), math.ceil(max_x)])\n",
    "plt.ylim([math.floor(min_y), math.ceil(max_y)])\n",
    "plt.figure(figsize=(12, 8))"
   ]
  },
  {
   "cell_type": "markdown",
   "id": "472d1e7d",
   "metadata": {},
   "source": [
    "## Group data by time"
   ]
  },
  {
   "cell_type": "code",
   "execution_count": null,
   "id": "7f65452d",
   "metadata": {},
   "outputs": [],
   "source": [
    "df_grouped_by_time = out_df.drop(\n",
    "    columns=[\"x\", \"y\", \"angle\", \"speed\", \"pos\", \"lane\"]\n",
    ")\n",
    "df_grouped_by_time = df_grouped_by_time.groupby([\"time\"])\n",
    "df_grouped_by_time = df_grouped_by_time.count().reset_index()\n",
    "df_grouped_by_time = df_grouped_by_time.rename(\n",
    "    columns={\"id\": \"records\"}\n",
    ")\n",
    "df_grouped_by_time = df_grouped_by_time.sort_values(\n",
    "    [\"records\"], ascending=False\n",
    ")"
   ]
  },
  {
   "cell_type": "code",
   "execution_count": null,
   "id": "44c5cf91",
   "metadata": {},
   "outputs": [],
   "source": [
    "print (df_grouped_by_time[:display_max_rows+1])"
   ]
  },
  {
   "cell_type": "markdown",
   "id": "55bca02d",
   "metadata": {},
   "source": [
    "## Number of timesteps"
   ]
  },
  {
   "cell_type": "code",
   "execution_count": null,
   "id": "7b6d76a5",
   "metadata": {},
   "outputs": [],
   "source": [
    "number_of_records_grouped_by_time = df_grouped_by_time.shape[0]\n",
    "print (\"number of timesteps: \", number_of_records_grouped_by_time)"
   ]
  },
  {
   "cell_type": "markdown",
   "id": "9c69b70c",
   "metadata": {},
   "source": [
    "# From now on, notebook can be run remotely (only from jejunu network)"
   ]
  },
  {
   "cell_type": "markdown",
   "id": "a2c00f29",
   "metadata": {},
   "source": [
    "## Group data by vehicle id"
   ]
  },
  {
   "cell_type": "code",
   "execution_count": null,
   "id": "59b12d08",
   "metadata": {},
   "outputs": [],
   "source": [
    "df_grouped_by_id = out_df.drop(\n",
    "    columns=[\"x\", \"y\", \"angle\", \"speed\", \"pos\", \"lane\"]\n",
    ")\n",
    "df_grouped_by_id = df_grouped_by_id.groupby([\"id\"])\n",
    "df_grouped_by_id = df_grouped_by_id.count().reset_index()\n",
    "df_grouped_by_id = df_grouped_by_id.rename(\n",
    "    columns={\"time\": \"records\"}\n",
    ")\n",
    "df_grouped_by_id = df_grouped_by_id.sort_values(\n",
    "    [\"records\"], ascending=False\n",
    ")"
   ]
  },
  {
   "cell_type": "code",
   "execution_count": null,
   "id": "e17ec680",
   "metadata": {},
   "outputs": [],
   "source": [
    "print (df_grouped_by_id[:display_max_rows+1])"
   ]
  },
  {
   "cell_type": "markdown",
   "id": "a6be3dc6",
   "metadata": {},
   "source": [
    "## Number of vehicles"
   ]
  },
  {
   "cell_type": "code",
   "execution_count": null,
   "id": "20211dfa",
   "metadata": {},
   "outputs": [],
   "source": [
    "number_of_records_grouped_by_id = df_grouped_by_id.shape[0]\n",
    "print (\"number of vehicles: \", number_of_records_grouped_by_id)"
   ]
  },
  {
   "cell_type": "markdown",
   "id": "3ae867a6",
   "metadata": {},
   "source": [
    "## Displaying the route for vehicle with most number of records"
   ]
  },
  {
   "cell_type": "code",
   "execution_count": null,
   "id": "e504dade",
   "metadata": {},
   "outputs": [],
   "source": [
    "veh1501_records = out_df[out_df[\"id\"] == \"veh1501\"]"
   ]
  },
  {
   "cell_type": "code",
   "execution_count": null,
   "id": "0f2e45ae",
   "metadata": {},
   "outputs": [],
   "source": [
    "print (veh1501_records)"
   ]
  },
  {
   "cell_type": "markdown",
   "id": "3aa38377",
   "metadata": {},
   "source": [
    "## Plotting route (i.e. x, y coordinates for above vehicle"
   ]
  },
  {
   "cell_type": "code",
   "execution_count": null,
   "id": "5b789e68",
   "metadata": {},
   "outputs": [],
   "source": [
    "veh1501_plot = veh1501_records.plot(x=\"x\", y=\"y\", label=\"Vehicle 1501\", figsize=(12,8))\n",
    "veh1501_plot.legend(\"Vehicle 1501's mobility on map\")\n",
    "veh1501_plot.set_xlabel(\"longitude\")\n",
    "veh1501_plot.set_ylabel(\"latitude\")\n",
    "veh1501_plot.set_xlim([math.floor(min_x), math.ceil(max_x)])\n",
    "veh1501_plot.set_ylim([math.floor(min_y), math.ceil(max_y)])"
   ]
  },
  {
   "cell_type": "markdown",
   "id": "5b038928",
   "metadata": {},
   "source": [
    "## Displaying the route for another vehicle"
   ]
  },
  {
   "cell_type": "code",
   "execution_count": null,
   "id": "650ed9ba",
   "metadata": {},
   "outputs": [],
   "source": [
    "veh1551_records = out_df[out_df[\"id\"] == \"veh1551\"]"
   ]
  },
  {
   "cell_type": "code",
   "execution_count": null,
   "id": "45074c54",
   "metadata": {},
   "outputs": [],
   "source": [
    "print (veh1551_records)"
   ]
  },
  {
   "cell_type": "markdown",
   "id": "5296d933",
   "metadata": {},
   "source": [
    "## Plotting route (i.e. x, y coordinates for above vehicle"
   ]
  },
  {
   "cell_type": "code",
   "execution_count": null,
   "id": "29404bf3",
   "metadata": {},
   "outputs": [],
   "source": [
    "veh1551_plot = veh1551_records.plot(x=\"x\", y=\"y\", label=\"Vehicle 1551\", figsize=(12,8))\n",
    "veh1551_plot.set_xlabel(\"longitude\")\n",
    "veh1551_plot.set_ylabel(\"latitude\")\n",
    "veh1551_plot.set_xlim([math.floor(min_x), math.ceil(max_x)])\n",
    "veh1551_plot.set_ylim([math.floor(min_y), math.ceil(max_y)])"
   ]
  },
  {
   "cell_type": "markdown",
   "id": "ca405a9f",
   "metadata": {},
   "source": [
    "## Displaying the route for another vehicle"
   ]
  },
  {
   "cell_type": "code",
   "execution_count": null,
   "id": "b472b7f6",
   "metadata": {},
   "outputs": [],
   "source": [
    "veh1587_records = out_df[out_df[\"id\"] == \"veh1587\"]"
   ]
  },
  {
   "cell_type": "code",
   "execution_count": null,
   "id": "30b21c76",
   "metadata": {},
   "outputs": [],
   "source": [
    "print (veh1587_records)"
   ]
  },
  {
   "cell_type": "markdown",
   "id": "e14212ec",
   "metadata": {},
   "source": [
    "## Plotting route (i.e. x, y coordinates for above vehicle"
   ]
  },
  {
   "cell_type": "code",
   "execution_count": null,
   "id": "dfd0a631",
   "metadata": {},
   "outputs": [],
   "source": [
    "veh1587_plot = veh1587_records.plot(x=\"x\", y=\"y\", label=\"Vehicle 1587\", figsize=(12,8))\n",
    "veh1587_plot.set_xlabel(\"longitude\")\n",
    "veh1587_plot.set_ylabel(\"latitude\")\n",
    "veh1587_plot.set_xlim([math.floor(min_x), math.ceil(max_x)])\n",
    "veh1587_plot.set_ylim([math.floor(min_y), math.ceil(max_y)])"
   ]
  },
  {
   "cell_type": "markdown",
   "id": "7f37635f",
   "metadata": {},
   "source": [
    "## Fetching vehicle coordinates for Y<=1600"
   ]
  },
  {
   "cell_type": "code",
   "execution_count": null,
   "id": "bc6249b0",
   "metadata": {},
   "outputs": [],
   "source": [
    "vehbelowxy1600_records = out_df[out_df[\"y\"] <= 1600]"
   ]
  },
  {
   "cell_type": "code",
   "execution_count": null,
   "id": "8ebc7bbf",
   "metadata": {},
   "outputs": [],
   "source": [
    "vehbelowxy1600_records"
   ]
  },
  {
   "cell_type": "markdown",
   "id": "597b3f02",
   "metadata": {},
   "source": [
    "## Group data by vehicle id (for vehicle-below-X-Y)"
   ]
  },
  {
   "cell_type": "code",
   "execution_count": null,
   "id": "83d95f19",
   "metadata": {},
   "outputs": [],
   "source": [
    "vehbelowxy1600_records_grouped_by_id = vehbelowxy1600_records.drop(\n",
    "    columns=[\"x\", \"y\", \"angle\", \"speed\", \"pos\", \"lane\"]\n",
    ")\n",
    "vehbelowxy1600_records_grouped_by_id = vehbelowxy1600_records_grouped_by_id.groupby([\"id\"])\n",
    "vehbelowxy1600_records_grouped_by_id = vehbelowxy1600_records_grouped_by_id.count().reset_index()\n",
    "vehbelowxy1600_records_grouped_by_id = vehbelowxy1600_records_grouped_by_id.rename(\n",
    "    columns={\"time\": \"records\"}\n",
    ")\n",
    "vehbelowxy1600_records_grouped_by_id = vehbelowxy1600_records_grouped_by_id.sort_values(\n",
    "    [\"records\"], ascending=False\n",
    ")"
   ]
  },
  {
   "cell_type": "code",
   "execution_count": null,
   "id": "3dffe382",
   "metadata": {},
   "outputs": [],
   "source": [
    "print (vehbelowxy1600_records_grouped_by_id[:display_max_rows+1])"
   ]
  },
  {
   "cell_type": "markdown",
   "id": "e80640d4",
   "metadata": {},
   "source": [
    "## Displaying the route for another vehicle"
   ]
  },
  {
   "cell_type": "code",
   "execution_count": null,
   "id": "be62aac5",
   "metadata": {},
   "outputs": [],
   "source": [
    "veh2509_records = vehbelowxy1600_records[vehbelowxy1600_records[\"id\"] == \"veh2509\"]"
   ]
  },
  {
   "cell_type": "code",
   "execution_count": null,
   "id": "ded08503",
   "metadata": {},
   "outputs": [],
   "source": [
    "print (veh2509_records)"
   ]
  },
  {
   "cell_type": "markdown",
   "id": "23867db4",
   "metadata": {},
   "source": [
    "## Plotting route (i.e. x, y coordinates for above vehicle)"
   ]
  },
  {
   "cell_type": "code",
   "execution_count": null,
   "id": "2b741e14",
   "metadata": {},
   "outputs": [],
   "source": [
    "veh2509_plot = veh2509_records.plot(x=\"x\", y=\"y\", label=\"Vehicle 2509\", figsize=(12,8))\n",
    "veh2509_plot.set_xlabel(\"longitude\")\n",
    "veh2509_plot.set_ylabel(\"latitude\")\n",
    "veh2509_plot.set_xlim([math.floor(min_x), math.ceil(max_x)])\n",
    "veh2509_plot.set_ylim([math.floor(min_y), math.ceil(max_y)])"
   ]
  },
  {
   "cell_type": "markdown",
   "id": "e2e16cdf",
   "metadata": {},
   "source": [
    "## Fetching vehicle coordinates for Y<=1200"
   ]
  },
  {
   "cell_type": "code",
   "execution_count": null,
   "id": "6f391785",
   "metadata": {},
   "outputs": [],
   "source": [
    "vehbelowxy1200_records = out_df[out_df[\"y\"] <= 1200]"
   ]
  },
  {
   "cell_type": "code",
   "execution_count": null,
   "id": "ea86e5c3",
   "metadata": {},
   "outputs": [],
   "source": [
    "vehbelowxy1200_records"
   ]
  },
  {
   "cell_type": "markdown",
   "id": "b8e10d11",
   "metadata": {},
   "source": [
    "## Group data by vehicle id (for vehicle-below-X-Y, Y<=1200)"
   ]
  },
  {
   "cell_type": "code",
   "execution_count": null,
   "id": "3d68e7d6",
   "metadata": {},
   "outputs": [],
   "source": [
    "vehbelowxy1200_records_grouped_by_id = vehbelowxy1200_records.drop(\n",
    "    columns=[\"x\", \"y\", \"angle\", \"speed\", \"pos\", \"lane\"]\n",
    ")\n",
    "vehbelowxy1200_records_grouped_by_id = vehbelowxy1200_records_grouped_by_id.groupby([\"id\"])\n",
    "vehbelowxy1200_records_grouped_by_id = vehbelowxy1200_records_grouped_by_id.count().reset_index()\n",
    "vehbelowxy1200_records_grouped_by_id = vehbelowxy1200_records_grouped_by_id.rename(\n",
    "    columns={\"time\": \"records\"}\n",
    ")\n",
    "vehbelowxy1200_records_grouped_by_id = vehbelowxy1200_records_grouped_by_id.sort_values(\n",
    "    [\"records\"], ascending=False\n",
    ")"
   ]
  },
  {
   "cell_type": "code",
   "execution_count": null,
   "id": "8ceae079",
   "metadata": {},
   "outputs": [],
   "source": [
    "print (vehbelowxy1200_records_grouped_by_id[:display_max_rows+1])"
   ]
  },
  {
   "cell_type": "markdown",
   "id": "8488964a",
   "metadata": {},
   "source": [
    "## Displaying the route for another vehicle"
   ]
  },
  {
   "cell_type": "code",
   "execution_count": null,
   "id": "b4a3de82",
   "metadata": {},
   "outputs": [],
   "source": [
    "veh3869_records = vehbelowxy1200_records[vehbelowxy1200_records[\"id\"] == \"veh3869\"]"
   ]
  },
  {
   "cell_type": "code",
   "execution_count": null,
   "id": "905a1954",
   "metadata": {},
   "outputs": [],
   "source": [
    "print (veh3869_records)"
   ]
  },
  {
   "cell_type": "markdown",
   "id": "8824a0ae",
   "metadata": {},
   "source": [
    "## Plotting route (i.e. x, y coordinates for above vehicle)"
   ]
  },
  {
   "cell_type": "code",
   "execution_count": null,
   "id": "967fe935",
   "metadata": {},
   "outputs": [],
   "source": [
    "veh3869_plot = veh3869_records.plot(x=\"x\", y=\"y\", label=\"Vehicle 3869\", figsize=(12,8))\n",
    "veh3869_plot.set_xlabel(\"longitude\")\n",
    "veh3869_plot.set_ylabel(\"latitude\")\n",
    "veh3869_plot.set_xlim([math.floor(min_x), math.ceil(max_x)])\n",
    "veh3869_plot.set_ylim([math.floor(min_y), math.ceil(max_y)])"
   ]
  },
  {
   "cell_type": "markdown",
   "id": "3b22d544",
   "metadata": {},
   "source": [
    "## Displaying the route for another vehicle"
   ]
  },
  {
   "cell_type": "code",
   "execution_count": null,
   "id": "d0c49954",
   "metadata": {},
   "outputs": [],
   "source": [
    "veh4039_records = vehbelowxy1200_records[vehbelowxy1200_records[\"id\"] == \"veh4039\"]"
   ]
  },
  {
   "cell_type": "code",
   "execution_count": null,
   "id": "c51a7a0b",
   "metadata": {},
   "outputs": [],
   "source": [
    "print (veh4039_records)"
   ]
  },
  {
   "cell_type": "markdown",
   "id": "1f610349",
   "metadata": {},
   "source": [
    "## Plotting route (i.e. x, y coordinates for above vehicle)"
   ]
  },
  {
   "cell_type": "code",
   "execution_count": null,
   "id": "78dbd928",
   "metadata": {},
   "outputs": [],
   "source": [
    "veh4039_plot = veh4039_records.plot(x=\"x\", y=\"y\", label=\"Vehicle 4039\", figsize=(12,8))\n",
    "veh4039_plot.set_xlabel(\"longitude\")\n",
    "veh4039_plot.set_ylabel(\"latitude\")\n",
    "veh4039_plot.set_xlim([math.floor(min_x), math.ceil(max_x)])\n",
    "veh4039_plot.set_ylim([math.floor(min_y), math.ceil(max_y)])"
   ]
  },
  {
   "cell_type": "markdown",
   "id": "1f4509b3",
   "metadata": {},
   "source": [
    "## Displaying the route for another vehicle"
   ]
  },
  {
   "cell_type": "code",
   "execution_count": null,
   "id": "a72bc472",
   "metadata": {},
   "outputs": [],
   "source": [
    "veh3618_records = vehbelowxy1200_records[vehbelowxy1200_records[\"id\"] == \"veh3618\"]"
   ]
  },
  {
   "cell_type": "code",
   "execution_count": null,
   "id": "5917f912",
   "metadata": {},
   "outputs": [],
   "source": [
    "print (veh3618_records)"
   ]
  },
  {
   "cell_type": "markdown",
   "id": "2e3bf76a",
   "metadata": {},
   "source": [
    "## Plotting route (i.e. x, y coordinates for above vehicle)"
   ]
  },
  {
   "cell_type": "code",
   "execution_count": null,
   "id": "6906d5a8",
   "metadata": {},
   "outputs": [],
   "source": [
    "veh3618_plot = veh3618_records.plot(x=\"x\", y=\"y\", label=\"Vehicle 3618\", figsize=(12,8))\n",
    "veh3618_plot.set_xlabel(\"longitude\")\n",
    "veh3618_plot.set_ylabel(\"latitude\")\n",
    "veh3618_plot.set_xlim([math.floor(min_x), math.ceil(max_x)])\n",
    "veh3618_plot.set_ylim([math.floor(min_y), math.ceil(max_y)])"
   ]
  },
  {
   "cell_type": "markdown",
   "id": "a1537db0",
   "metadata": {},
   "source": [
    "## Sort data by time and lane number"
   ]
  },
  {
   "cell_type": "code",
   "execution_count": null,
   "id": "f154c087",
   "metadata": {},
   "outputs": [],
   "source": [
    "df_sorted_by_time_lane = out_df.sort_values([\"time\", \"lane\"], ascending=False)"
   ]
  },
  {
   "cell_type": "markdown",
   "id": "2d7391b9",
   "metadata": {},
   "source": [
    "## Displaying data sorted by time and lanes"
   ]
  },
  {
   "cell_type": "code",
   "execution_count": null,
   "id": "f3adfe37",
   "metadata": {},
   "outputs": [],
   "source": [
    "pd.set_option(\"display.max_rows\", out_df.shape[0])\n",
    "print (df_sorted_by_time_lane[:10000])\n",
    "pd.set_option(\"display.max_rows\", display_max_rows)"
   ]
  },
  {
   "cell_type": "markdown",
   "id": "e3a0d0e0",
   "metadata": {},
   "source": [
    "## Group data by time and lane number"
   ]
  },
  {
   "cell_type": "code",
   "execution_count": null,
   "id": "77e30d2c",
   "metadata": {},
   "outputs": [],
   "source": [
    "df_sorted_by_time_lane = df_sorted_by_time_lane.drop(\n",
    "    columns=[\"x\", \"y\", \"angle\", \"speed\", \"pos\"]\n",
    ")\n",
    "df_sorted_by_time_lane = df_sorted_by_time_lane[[\"time\", \"lane\", \"id\"]]\n",
    "df_sorted_by_time_lane = df_sorted_by_time_lane.groupby([\"time\", \"lane\"])\n",
    "df_sorted_by_time_lane = df_sorted_by_time_lane.count().reset_index()\n",
    "df_sorted_by_time_lane = df_sorted_by_time_lane.rename(\n",
    "    columns={\"id\": \"records\"}\n",
    ")\n",
    "df_sorted_by_time_lane = df_sorted_by_time_lane.sort_values([\"records\"], ascending=False)"
   ]
  },
  {
   "cell_type": "code",
   "execution_count": null,
   "id": "a5a27bad",
   "metadata": {},
   "outputs": [],
   "source": [
    "pd.set_option(\"display.max_rows\", df_sorted_by_time_lane.shape[0])\n",
    "print (df_sorted_by_time_lane[:50000])\n",
    "pd.set_option(\"display.max_rows\", display_max_rows)"
   ]
  },
  {
   "cell_type": "markdown",
   "id": "3577f1ae",
   "metadata": {},
   "source": [
    "## Displaying lane_and_time grouped/sorted maximum records"
   ]
  },
  {
   "cell_type": "code",
   "execution_count": null,
   "id": "ef52b606",
   "metadata": {},
   "outputs": [],
   "source": [
    "lanetime_516417601_0_6_2592_0_records = out_df[(out_df[\"lane\"] == \"516417601#0_6\") & (out_df[\"time\"] == 2592.0)]"
   ]
  },
  {
   "cell_type": "code",
   "execution_count": null,
   "id": "48b0a013",
   "metadata": {},
   "outputs": [],
   "source": [
    "pd.set_option(\"display.width\", 1000)"
   ]
  },
  {
   "cell_type": "code",
   "execution_count": null,
   "id": "9505685c",
   "metadata": {},
   "outputs": [],
   "source": [
    "print (lanetime_516417601_0_6_2592_0_records)"
   ]
  },
  {
   "cell_type": "markdown",
   "id": "898e72c0",
   "metadata": {},
   "source": [
    "## Displaying lane_and_time grouped/sorted maximum records (2)"
   ]
  },
  {
   "cell_type": "code",
   "execution_count": null,
   "id": "46a59354",
   "metadata": {},
   "outputs": [],
   "source": [
    "lanetime_516417601_0_6_2601_0_records = out_df[(out_df[\"lane\"] == \"516417601#0_6\") & (out_df[\"time\"] == 2601.0)]"
   ]
  },
  {
   "cell_type": "code",
   "execution_count": null,
   "id": "d46e5116",
   "metadata": {},
   "outputs": [],
   "source": [
    "print (lanetime_516417601_0_6_2601_0_records)"
   ]
  },
  {
   "cell_type": "markdown",
   "id": "189f0b70",
   "metadata": {},
   "source": [
    "## Displaying vehicle traffic for lane_516417601#0_6"
   ]
  },
  {
   "cell_type": "code",
   "execution_count": null,
   "id": "95915b66",
   "metadata": {},
   "outputs": [],
   "source": [
    "lane_516417601_0_6_records = out_df[(out_df[\"lane\"] == \"516417601#0_6\")]"
   ]
  },
  {
   "cell_type": "code",
   "execution_count": null,
   "id": "0f442eda",
   "metadata": {},
   "outputs": [],
   "source": [
    "print (lane_516417601_0_6_records)"
   ]
  },
  {
   "cell_type": "code",
   "execution_count": null,
   "id": "fffc5b3e",
   "metadata": {},
   "outputs": [],
   "source": [
    "lane_516417601_0_6_plot = lane_516417601_0_6_records.plot(x=\"x\", y=\"y\", label=\"lane_516417601_0_6\", figsize=(12,8))\n",
    "lane_516417601_0_6_plot.set_xlabel(\"longitude\")\n",
    "lane_516417601_0_6_plot.set_ylabel(\"latitude\")\n",
    "lane_516417601_0_6_plot.set_xlim([math.floor(min_x), math.ceil(max_x)])\n",
    "lane_516417601_0_6_plot.set_ylim([math.floor(min_y), math.ceil(max_y)])"
   ]
  },
  {
   "cell_type": "markdown",
   "id": "ab690be8",
   "metadata": {},
   "source": [
    "## Group data by time for lane_516417601#0_6"
   ]
  },
  {
   "cell_type": "code",
   "execution_count": null,
   "id": "bab79c0f",
   "metadata": {},
   "outputs": [],
   "source": [
    "lane_516417601_0_6_grouped_by_time_records = lane_516417601_0_6_records.drop(\n",
    "    columns=[\"x\", \"y\", \"angle\", \"speed\", \"pos\", \"lane\"]\n",
    ")\n",
    "lane_516417601_0_6_grouped_by_time_records = lane_516417601_0_6_grouped_by_time_records.groupby([\"time\"])\n",
    "lane_516417601_0_6_grouped_by_time_records = lane_516417601_0_6_grouped_by_time_records.count().reset_index()\n",
    "lane_516417601_0_6_grouped_by_time_records = lane_516417601_0_6_grouped_by_time_records.rename(\n",
    "    columns={\"id\": \"records\"}\n",
    ")\n",
    "lane_516417601_0_6_grouped_by_time_records = lane_516417601_0_6_grouped_by_time_records.sort_values(\n",
    "    [\"time\"], ascending=True\n",
    ")"
   ]
  },
  {
   "cell_type": "code",
   "execution_count": null,
   "id": "db46a087",
   "metadata": {},
   "outputs": [],
   "source": [
    "pd.set_option(\"display.max_rows\", lane_516417601_0_6_grouped_by_time_records.shape[0])\n",
    "print (lane_516417601_0_6_grouped_by_time_records[:6800])\n",
    "pd.set_option(\"display.max_rows\", display_max_rows)"
   ]
  },
  {
   "cell_type": "code",
   "execution_count": null,
   "id": "74eb73de",
   "metadata": {},
   "outputs": [],
   "source": [
    "print (lane_516417601_0_6_grouped_by_time_records)"
   ]
  },
  {
   "cell_type": "markdown",
   "id": "bab067ac",
   "metadata": {},
   "source": [
    "## Displaying graph for number of vehicles on lane_516417601#0_6 at time \"t\""
   ]
  },
  {
   "cell_type": "code",
   "execution_count": null,
   "id": "309433b2",
   "metadata": {},
   "outputs": [],
   "source": [
    "list(lane_516417601_0_6_grouped_by_time_records)"
   ]
  },
  {
   "cell_type": "code",
   "execution_count": null,
   "id": "80b26bc7",
   "metadata": {},
   "outputs": [],
   "source": [
    "lane_516417601_0_6_grouped_by_time_records_plot = lane_516417601_0_6_grouped_by_time_records.plot(\n",
    "    x=\"time\", y=\"records\", label=\"lane_516417601_0_6_grouped_by_time_records\", figsize=(12,8)\n",
    ")\n",
    "lane_516417601_0_6_grouped_by_time_records_plot.set_xlabel(\"time\")\n",
    "lane_516417601_0_6_grouped_by_time_records_plot.set_ylabel(\"records\")\n",
    "#lane_516417601_0_6_grouped_by_time_records_plot.set_xlim([math.floor(min_x), math.ceil(max_x)])\n",
    "#lane_516417601_0_6_grouped_by_time_records_plot.set_ylim([math.floor(min_y), math.ceil(max_y)])"
   ]
  },
  {
   "cell_type": "markdown",
   "id": "03be4f12",
   "metadata": {},
   "source": [
    "## Displaying vehicle traffic for lane_620634303#5_5"
   ]
  },
  {
   "cell_type": "code",
   "execution_count": null,
   "id": "624c73a6",
   "metadata": {},
   "outputs": [],
   "source": [
    "lane_620634303_5_5_records = out_df[(out_df[\"lane\"] == \"620634303#5_5\")]"
   ]
  },
  {
   "cell_type": "code",
   "execution_count": null,
   "id": "8ac9526d",
   "metadata": {},
   "outputs": [],
   "source": [
    "print (lane_620634303_5_5_records)"
   ]
  },
  {
   "cell_type": "code",
   "execution_count": null,
   "id": "e0071e70",
   "metadata": {},
   "outputs": [],
   "source": [
    "lane_620634303_5_5_plot = lane_620634303_5_5_records.plot(x=\"x\", y=\"y\", label=\"lane_620634303_5_5\", figsize=(12,8))\n",
    "lane_620634303_5_5_plot.set_xlabel(\"longitude\")\n",
    "lane_620634303_5_5_plot.set_ylabel(\"latitude\")\n",
    "lane_620634303_5_5_plot.set_xlim([math.floor(min_x), math.ceil(max_x)])\n",
    "lane_620634303_5_5_plot.set_ylim([math.floor(min_y), math.ceil(max_y)])"
   ]
  },
  {
   "cell_type": "markdown",
   "id": "c476f9db",
   "metadata": {},
   "source": [
    "## Group data by time for lane_620634303#5_5"
   ]
  },
  {
   "cell_type": "code",
   "execution_count": null,
   "id": "d7d1c7c9",
   "metadata": {},
   "outputs": [],
   "source": [
    "lane_620634303_5_5_grouped_by_time_records = lane_620634303_5_5_records.drop(\n",
    "    columns=[\"x\", \"y\", \"angle\", \"speed\", \"pos\", \"lane\"]\n",
    ")\n",
    "lane_620634303_5_5_grouped_by_time_records = lane_620634303_5_5_grouped_by_time_records.groupby([\"time\"])\n",
    "lane_620634303_5_5_grouped_by_time_records = lane_620634303_5_5_grouped_by_time_records.count().reset_index()\n",
    "lane_620634303_5_5_grouped_by_time_records = lane_620634303_5_5_grouped_by_time_records.rename(\n",
    "    columns={\"id\": \"records\"}\n",
    ")\n",
    "lane_620634303_5_5_grouped_by_time_records = lane_620634303_5_5_grouped_by_time_records.sort_values(\n",
    "    [\"time\"], ascending=True\n",
    ")"
   ]
  },
  {
   "cell_type": "code",
   "execution_count": null,
   "id": "266c0870",
   "metadata": {},
   "outputs": [],
   "source": [
    "pd.set_option(\"display.max_rows\", lane_620634303_5_5_grouped_by_time_records.shape[0])\n",
    "print (lane_620634303_5_5_grouped_by_time_records[:6800])\n",
    "pd.set_option(\"display.max_rows\", display_max_rows)"
   ]
  },
  {
   "cell_type": "code",
   "execution_count": null,
   "id": "21f81dad",
   "metadata": {},
   "outputs": [],
   "source": [
    "print (lane_620634303_5_5_grouped_by_time_records)"
   ]
  },
  {
   "cell_type": "markdown",
   "id": "dc046483",
   "metadata": {},
   "source": [
    "## Displaying graph for number of vehicles on lane_620634303#5_5 at time \"t\""
   ]
  },
  {
   "cell_type": "code",
   "execution_count": null,
   "id": "e498883e",
   "metadata": {},
   "outputs": [],
   "source": [
    "list(lane_620634303_5_5_grouped_by_time_records)"
   ]
  },
  {
   "cell_type": "code",
   "execution_count": null,
   "id": "c94d93c6",
   "metadata": {
    "scrolled": false
   },
   "outputs": [],
   "source": [
    "lane_620634303_5_5_grouped_by_time_records_plot = lane_620634303_5_5_grouped_by_time_records.plot(\n",
    "    x=\"time\", y=\"records\", label=\"lane_620634303_5_5_grouped_by_time_records\", figsize=(12,8)\n",
    ")\n",
    "lane_620634303_5_5_grouped_by_time_records_plot.set_xlabel(\"time\")\n",
    "lane_620634303_5_5_grouped_by_time_records_plot.set_ylabel(\"records\")\n",
    "#lane_620634303_5_5_grouped_by_time_records_plot.set_xlim([math.floor(min_x), math.ceil(max_x)])\n",
    "#lane_620634303_5_5_grouped_by_time_records_plot.set_ylim([math.floor(min_y), math.ceil(max_y)])"
   ]
  },
  {
   "cell_type": "code",
   "execution_count": null,
   "id": "5b24beb8",
   "metadata": {},
   "outputs": [],
   "source": []
  }
 ],
 "metadata": {
  "kernelspec": {
   "display_name": "Python 3",
   "language": "python",
   "name": "python3"
  },
  "language_info": {
   "codemirror_mode": {
    "name": "ipython",
    "version": 3
   },
   "file_extension": ".py",
   "mimetype": "text/x-python",
   "name": "python",
   "nbconvert_exporter": "python",
   "pygments_lexer": "ipython3",
   "version": "3.9.6"
  }
 },
 "nbformat": 4,
 "nbformat_minor": 5
}
