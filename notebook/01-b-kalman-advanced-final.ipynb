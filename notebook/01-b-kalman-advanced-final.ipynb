{
 "cells": [
  {
   "cell_type": "markdown",
   "id": "6b986985",
   "metadata": {},
   "source": [
    "# Note:\n",
    "* First of all, **run the libraries**\n",
    "* Set the path for ** *CSV-file*** \n",
    "* Then **load the file (*CSV*)** by the following instructions provided after running \n",
    "* Continue your work ..."
   ]
  },
  {
   "cell_type": "markdown",
   "id": "f83b68ac",
   "metadata": {},
   "source": [
    "# Libraries"
   ]
  },
  {
   "cell_type": "code",
   "execution_count": null,
   "id": "b5dd1781",
   "metadata": {},
   "outputs": [],
   "source": [
    "import filterpy.kalman as kf \n",
    "import filterpy.stats as stats \n",
    "\n",
    "import numpy as np \n",
    "import pandas as pd \n",
    "import matplotlib.pyplot as plt \n",
    "\n",
    "from urllib.request import urlopen \n",
    "import xml.etree.ElementTree as et \n",
    "import math \n",
    "from datetime import datetime \n",
    "from decimal import Decimal "
   ]
  },
  {
   "cell_type": "markdown",
   "id": "2de73baa",
   "metadata": {},
   "source": [
    "# Download the CSV file from below link"
   ]
  },
  {
   "cell_type": "markdown",
   "id": "aa28a499",
   "metadata": {},
   "source": [
    "##### https://jejuunivackr-my.sharepoint.com/:x:/g/personal/asif_office_jejunu_ac_kr/EfXmF0CYUolHrpEWuaFQFiYBE-Z3JKsYUBeqJXQN39uqOg\n",
    "If above link does not work (contact me via malikasifmahmoodawan@gmail.com)"
   ]
  },
  {
   "cell_type": "markdown",
   "id": "44850577",
   "metadata": {},
   "source": [
    "# Setting the path from where we'll load the CSV-file"
   ]
  },
  {
   "cell_type": "code",
   "execution_count": null,
   "id": "09ba2225",
   "metadata": {},
   "outputs": [],
   "source": [
    "path_to_csv_file = ( \n",
    "    r\"/media/ncl-akraino/Volume-HDD-1/akraino/ws-akraino-datasets/OpenStreetMap 2 Traces/\" \n",
    "    \"SelfOpenStreetMapTraceForASparseTraffic.csv\" \n",
    ") "
   ]
  },
  {
   "cell_type": "markdown",
   "id": "dbf92c3e",
   "metadata": {},
   "source": [
    "# Initializing variables"
   ]
  },
  {
   "cell_type": "code",
   "execution_count": null,
   "id": "90139fcd",
   "metadata": {},
   "outputs": [],
   "source": [
    "temp_counter = 0 "
   ]
  },
  {
   "cell_type": "code",
   "execution_count": null,
   "id": "a7c8f936",
   "metadata": {},
   "outputs": [],
   "source": [
    "dt = 1 "
   ]
  },
  {
   "cell_type": "code",
   "execution_count": null,
   "id": "13494684",
   "metadata": {},
   "outputs": [],
   "source": [
    "display_max_rows = 60 \n",
    "display_max_cols = 10 "
   ]
  },
  {
   "cell_type": "code",
   "execution_count": null,
   "id": "3d4545b3",
   "metadata": {},
   "outputs": [],
   "source": [
    "MARKER_SZ = 3"
   ]
  },
  {
   "cell_type": "code",
   "execution_count": null,
   "id": "bcf1ff69",
   "metadata": {},
   "outputs": [],
   "source": [
    "FIG_SZ = [10, 10] "
   ]
  },
  {
   "cell_type": "code",
   "execution_count": null,
   "id": "b7afc736",
   "metadata": {},
   "outputs": [],
   "source": []
  },
  {
   "cell_type": "code",
   "execution_count": null,
   "id": "a21451f9",
   "metadata": {},
   "outputs": [],
   "source": [
    "pd.set_option(\"display.max_columns\", display_max_cols) "
   ]
  },
  {
   "cell_type": "markdown",
   "id": "ffe6892d",
   "metadata": {},
   "source": [
    "# Functions"
   ]
  },
  {
   "cell_type": "markdown",
   "id": "1314f0a7",
   "metadata": {},
   "source": [
    "## Common functions"
   ]
  },
  {
   "cell_type": "code",
   "execution_count": null,
   "id": "cdab41b2",
   "metadata": {},
   "outputs": [],
   "source": [
    "# function to convert to subscript \n",
    "def get_sub(x): \n",
    "    normal = \"ABCDEFGHIJKLMNOPQRSTUVWXYZabcdefghijklmnopqrstuvwxyz0123456789+-=()\" \n",
    "    sub_s = \"ₐ₈CDₑբGₕᵢⱼₖₗₘₙₒₚQᵣₛₜᵤᵥwₓᵧZₐ♭꜀ᑯₑբ₉ₕᵢⱼₖₗₘₙₒₚ૧ᵣₛₜᵤᵥwₓᵧ₂₀₁₂₃₄₅₆₇₈₉₊₋₌₍₎\" \n",
    "    res = x.maketrans(''.join(normal), ''.join(sub_s)) \n",
    "    return x.translate(res) "
   ]
  },
  {
   "cell_type": "code",
   "execution_count": null,
   "id": "3feb1773",
   "metadata": {},
   "outputs": [],
   "source": [
    "# function to convert to superscript \n",
    "def get_super(x): \n",
    "    normal = \"ABCDEFGHIJKLMNOPQRSTUVWXYZabcdefghijklmnopqrstuvwxyz0123456789+-=()\" \n",
    "    super_s = \"ᴬᴮᶜᴰᴱᶠᴳᴴᴵᴶᴷᴸᴹᴺᴼᴾQᴿˢᵀᵁⱽᵂˣʸᶻᵃᵇᶜᵈᵉᶠᵍʰᶦʲᵏˡᵐⁿᵒᵖ۹ʳˢᵗᵘᵛʷˣʸᶻ⁰¹²³⁴⁵⁶⁷⁸⁹⁺⁻⁼⁽⁾\" \n",
    "    res = x.maketrans(''.join(normal), ''.join(super_s)) \n",
    "    return x.translate(res) "
   ]
  },
  {
   "cell_type": "markdown",
   "id": "83955854",
   "metadata": {},
   "source": [
    "## Specific functions"
   ]
  },
  {
   "cell_type": "code",
   "execution_count": null,
   "id": "22be0405",
   "metadata": {},
   "outputs": [],
   "source": [
    "# converts columns to floats \n",
    "def convert_df_cols_to_float(df, cols): \n",
    "    for column in cols: \n",
    "        df[column] = df[column].astype(float) \n",
    "    return df "
   ]
  },
  {
   "cell_type": "code",
   "execution_count": null,
   "id": "ba77f42d",
   "metadata": {},
   "outputs": [],
   "source": [
    "# finding the minimum/maximum coordinates of the dataset \n",
    "def find_min_max_coordinates(df, cols=[\"x\", \"y\"]): \n",
    "    min_vals = [] \n",
    "    max_vals = [] \n",
    "    for column in cols: \n",
    "        min_vals.append(min(df[column])) \n",
    "        max_vals.append(max(df[column])) \n",
    "    return [min_vals[0], min_vals[1]], [max_vals[0], max_vals[1]] "
   ]
  },
  {
   "cell_type": "code",
   "execution_count": null,
   "id": "a2435bac",
   "metadata": {},
   "outputs": [],
   "source": [
    "# get the unique values in columns of the dataset \n",
    "def get_dataset_unique_stats(df, cols): \n",
    "    unique_values = [] \n",
    "    for column in cols: \n",
    "        unique_values.append( \n",
    "            {column: df[column].unique()} \n",
    "        ) \n",
    "    return unique_values "
   ]
  },
  {
   "cell_type": "code",
   "execution_count": null,
   "id": "17d3468b",
   "metadata": {},
   "outputs": [],
   "source": [
    "# displays the unique values in columns of the dataset \n",
    "def display_dataset_unique_values(arr, cols): \n",
    "    for index, value in enumerate(cols): \n",
    "        print (\"Unique {:}(s): {:}\".format(value, arr[index][value])) "
   ]
  },
  {
   "cell_type": "code",
   "execution_count": null,
   "id": "02646a0e",
   "metadata": {},
   "outputs": [],
   "source": [
    "# get column index in the array \n",
    "def get_column_index(arr, search_col, search_cols): \n",
    "    index = search_cols.index(search_col)\n",
    "    return arr[index][search_col] "
   ]
  },
  {
   "cell_type": "markdown",
   "id": "cc26e728",
   "metadata": {},
   "source": [
    "## ."
   ]
  },
  {
   "cell_type": "code",
   "execution_count": null,
   "id": "85173529",
   "metadata": {},
   "outputs": [],
   "source": [
    "# detects the directions using the provided angle \n",
    "def detect_direction(angle=0.00): \n",
    "    if (angle == 0.00 or angle == 360.00): \n",
    "        return \"None\", \"North\" \n",
    "    elif (angle>0.00 and angle<90.00): # \n",
    "        return \"East\", \"North\" \n",
    "    elif (angle == 90.00): \n",
    "        return \"East\", \"None\" \n",
    "    elif (angle>90.00 and angle<180.00): # \n",
    "        return \"East\", \"South\" \n",
    "    elif (angle == 180.00): \n",
    "        return \"None\", \"South\" \n",
    "    elif (angle>180.00 and angle<270.00): # \n",
    "        return \"West\", \"South\" \n",
    "    elif (angle == 270.00): \n",
    "        return \"West\", \"None\" \n",
    "    elif (angle>270.00 and angle<360.00): # \n",
    "        return \"West\", \"North\" "
   ]
  },
  {
   "cell_type": "code",
   "execution_count": null,
   "id": "d1c5182d",
   "metadata": {},
   "outputs": [],
   "source": [
    "# detects the angle-range using the provided directions \n",
    "def detect_angle_range(x_dir, y_dir): \n",
    "    if (x_dir == \"East\" and y_dir == \"North\"): \n",
    "        return 0, 90 \n",
    "    elif (x_dir == \"East\" and y_dir == \"South\"): \n",
    "        return 90, 180 \n",
    "    elif (x_dir == \"West\" and y_dir == \"South\"): \n",
    "        return 180, 270 \n",
    "    elif (x_dir == \"West\" and y_dir == \"North\"): \n",
    "        return 270, 360 \n",
    "    else: \n",
    "        return 0.0, 0.0 "
   ]
  },
  {
   "cell_type": "code",
   "execution_count": null,
   "id": "4b0cf48d",
   "metadata": {},
   "outputs": [],
   "source": [
    "def get_prediction(x, y, a, s): \n",
    "    x_dir , y_dir = detect_direction(a) \n",
    "    minweight_angle, maxweight_angle = detect_angle_range(x_dir, y_dir) \n",
    "    weight_range = maxweight_angle-minweight_angle \n",
    "    if (x_dir == \"None\" or y_dir == \"None\"): \n",
    "        xweight_angle, yweight_angle = 0, 0 \n",
    "        if (x_dir == \"None\"): \n",
    "            yweight_angle = 1 \n",
    "            if (y_dir == \"North\"): \n",
    "                x_pred, y_pred = x, y+yweight_angle*dt*s \n",
    "            elif (y_dir == \"South\"): \n",
    "                x_pred, y_pred = x, y-yweight_angle*dt*s \n",
    "        elif (y_dir == \"None\"): \n",
    "            xweight_angle = 1 \n",
    "            if (x_dir == \"East\"): \n",
    "                x_pred, y_pred = x+yweight_angle*dt*s, y \n",
    "            elif (x_dir == \"West\"): \n",
    "                x_pred, y_pred = x-yweight_angle*dt*s, y \n",
    "    elif (x_dir == \"East\" and y_dir == \"North\"): \n",
    "        xweight_angle, yweight_angle = (a-minweight_angle)/weight_range, (maxweight_angle-a)/weight_range \n",
    "        x_pred, y_pred = x+xweight_angle*dt*s, y+yweight_angle*dt*s \n",
    "    elif (x_dir == \"East\" and y_dir == \"South\"): \n",
    "        xweight_angle, yweight_angle = (maxweight_angle-a)/weight_range, (a-minweight_angle)/weight_range \n",
    "        x_pred, y_pred = x+xweight_angle*dt*s, y-yweight_angle*dt*s \n",
    "    elif (x_dir == \"West\" and y_dir == \"South\"): \n",
    "        xweight_angle, yweight_angle = (a-minweight_angle)/weight_range, (maxweight_angle-a)/weight_range \n",
    "        x_pred, y_pred = x-xweight_angle*dt*s, y-yweight_angle*dt*s \n",
    "    elif (x_dir == \"West\" and y_dir == \"North\"): \n",
    "        xweight_angle, yweight_angle = (maxweight_angle-a)/weight_range, (a-minweight_angle)/weight_range \n",
    "        x_pred, y_pred = x-xweight_angle*dt*s, y+yweight_angle*dt*s \n",
    "    return round(x_pred, 2), round(y_pred, 2) "
   ]
  },
  {
   "cell_type": "code",
   "execution_count": null,
   "id": "48d23d48",
   "metadata": {},
   "outputs": [],
   "source": [
    "def get_predictions(df): \n",
    "    arr_pred_cols = [\"time\", \"x\", \"y\"] \n",
    "    arr_pred_rows = [] \n",
    "    for index, item in df.iterrows(): \n",
    "        x, y = get_prediction(item[\"x\"], item[\"y\"], item[\"angle\"], item[\"speed\"]) \n",
    "        arr_pred_rows.append({ \n",
    "            \"time\": item[\"time\"]+1, \n",
    "            \"x\": x, \n",
    "            \"y\": y, \n",
    "        }) \n",
    "    df = pd.DataFrame(arr_pred_rows, columns = arr_pred_cols) \n",
    "    return df "
   ]
  },
  {
   "cell_type": "markdown",
   "id": "2d79e059",
   "metadata": {},
   "source": [
    "## ."
   ]
  },
  {
   "cell_type": "code",
   "execution_count": null,
   "id": "f05fd0f2",
   "metadata": {},
   "outputs": [],
   "source": [
    "# get start/end coordinates for the dataframe \n",
    "def get_start_end_coordinates(df, col=\"time\"): \n",
    "    min_df = df[df[col] == min(df[col])] \n",
    "    max_df = df[df[col] == max(df[col])] \n",
    "    return [ \n",
    "        min_df[\"x\"].values[0], min_df[\"y\"].values[0]\n",
    "    ], [\n",
    "        max_df[\"x\"].values[0], max_df[\"y\"].values[0] \n",
    "    ] "
   ]
  },
  {
   "cell_type": "markdown",
   "id": "d6bfde0e",
   "metadata": {},
   "source": [
    "## ."
   ]
  },
  {
   "cell_type": "code",
   "execution_count": null,
   "id": "438ae9bf",
   "metadata": {},
   "outputs": [],
   "source": [
    "# filtering the items in dataframe having angleidiff > 180 \n",
    "def get_items_having_greater_anglediff(df, angle_threshold): \n",
    "    df = df[df[\"anglediff\"]>angle_threshold[1]] \n",
    "    if not df.empty: \n",
    "        arr_rows = [] \n",
    "        arr_cols = cols_to_convert \n",
    "        for index, item in df.iterrows(): \n",
    "            if(angle_threshold[2]-item[\"anglediff\"]>=angle_threshold[0]): \n",
    "                arr_rows.append( \n",
    "                    { \n",
    "                        \"x\": item[\"x\"], \n",
    "                        \"y\": item[\"y\"], \n",
    "                        \"time\": item[\"time\"], \n",
    "                        \"speed\": item[\"speed\"], \n",
    "                        \"angle\": item[\"angle\"] \n",
    "                    } \n",
    "                ) \n",
    "        df = pd.DataFrame( \n",
    "            arr_rows, columns = arr_cols \n",
    "        ) \n",
    "    return df "
   ]
  },
  {
   "cell_type": "code",
   "execution_count": null,
   "id": "d4672c4d",
   "metadata": {},
   "outputs": [],
   "source": [
    "# filtering the items in dataframe having angleidiff <= 180 based on angle-threshold≈30 \n",
    "def get_items_having_smaller_anglediff(df, angle_threshold): \n",
    "    df =  df.loc[ \n",
    "        (df[\"anglediff\"]>=angle_threshold[0]) & (df[\"anglediff\"]<angle_threshold[1]) \n",
    "    ] \n",
    "    if not df.empty: \n",
    "        arr_rows = [] \n",
    "        arr_cols = cols_to_convert \n",
    "        for index, item in df.iterrows(): \n",
    "            if(item[\"anglediff\"]>=angle_threshold[0]): \n",
    "                arr_rows.append( \n",
    "                    { \n",
    "                        \"x\": item[\"x\"], \n",
    "                        \"y\": item[\"y\"], \n",
    "                        \"time\": item[\"time\"], \n",
    "                        \"speed\": item[\"speed\"], \n",
    "                        \"angle\": item[\"angle\"] \n",
    "                    } \n",
    "                ) \n",
    "        df = pd.DataFrame( \n",
    "            arr_rows, columns = arr_cols \n",
    "        ) \n",
    "    return df "
   ]
  },
  {
   "cell_type": "code",
   "execution_count": null,
   "id": "ad92dc52",
   "metadata": {},
   "outputs": [],
   "source": [
    "# merge two dataframes \n",
    "def merge_dataframes(df1, df2): \n",
    "    df_frames = [df1, df2] \n",
    "    df = pd.concat(df_frames) \n",
    "    return df "
   ]
  },
  {
   "cell_type": "code",
   "execution_count": null,
   "id": "dcf8c9e4",
   "metadata": {},
   "outputs": [],
   "source": [
    "# get sharp turns \n",
    "def get_sharp_turns(df, angle_threshold): \n",
    "    df = df.assign( \n",
    "        anglediff=abs(df[\"angle\"].diff(periods=1)) \n",
    "    ) \n",
    "    df1 = get_items_having_greater_anglediff(df, angle_threshold) \n",
    "    df2 = get_items_having_smaller_anglediff(df, angle_threshold) \n",
    "    df = merge_dataframes(df1, df2) \n",
    "    return df "
   ]
  },
  {
   "cell_type": "markdown",
   "id": "c5361c8b",
   "metadata": {},
   "source": [
    "## ."
   ]
  },
  {
   "cell_type": "code",
   "execution_count": null,
   "id": "c2e6490d",
   "metadata": {},
   "outputs": [],
   "source": [
    "def setup_actual_and_predicted_dataframes(df1, df2): \n",
    "    df1 = df1.drop(df1.index[0], inplace=False) \n",
    "    df2 = df2.drop(df2.index[-1], inplace=False) \n",
    "    return df1, df2 "
   ]
  },
  {
   "cell_type": "code",
   "execution_count": null,
   "id": "716f50bc",
   "metadata": {},
   "outputs": [],
   "source": [
    "def get_distance_between_two_points(point1, point2): \n",
    "    distance = math.sqrt( \n",
    "        ((point2[1]-point1[1])**2) \n",
    "        + \n",
    "        ((point2[0]-point1[0])**2) \n",
    "    ) \n",
    "    return distance "
   ]
  },
  {
   "cell_type": "code",
   "execution_count": null,
   "id": "ec0bad34",
   "metadata": {},
   "outputs": [],
   "source": [
    "def get_distance_between_arrays( \n",
    "    arr1, arr2, cols \n",
    "): \n",
    "    arr1 = arr1.reset_index() \n",
    "    distance_rows = [] \n",
    "    distance_cols = [\"distance\"] \n",
    "    n = arr1.shape[0] \n",
    "    for index, coordinate in arr1.iterrows(): \n",
    "        point1 = [ \n",
    "            coordinate[cols[0]], \n",
    "            coordinate[cols[1]] \n",
    "        ] \n",
    "        point2 = [ \n",
    "            arr2[cols[0]].values[index], \n",
    "            arr2[cols[1]].values[index] \n",
    "        ] \n",
    "        distance = get_distance_between_two_points(point1, point2) \n",
    "        distance_rows.append( \n",
    "            {\"distance\": distance} \n",
    "        ) \n",
    "    df = pd.DataFrame(distance_rows, columns = distance_cols) \n",
    "    return df "
   ]
  },
  {
   "cell_type": "code",
   "execution_count": null,
   "id": "0a383a5a",
   "metadata": {},
   "outputs": [],
   "source": [
    "def get_error_data(df1, df2, cols=[\"x\", \"y\"]): \n",
    "    n = df1.shape[0] \n",
    "    total_difference = 0 \n",
    "    distance_array = get_distance_between_arrays( \n",
    "        df1, df2, cols \n",
    "    ) \n",
    "    return distance_array "
   ]
  },
  {
   "cell_type": "code",
   "execution_count": null,
   "id": "6e34af77",
   "metadata": {},
   "outputs": [],
   "source": [
    "def root_mean_square_error(error_data): \n",
    "    number_of_entries = error_data.shape[0] \n",
    "    sum_of_entries = error_data[\"distance\"].sum() \n",
    "    error_mean_square = math.sqrt(sum_of_entries/number_of_entries) \n",
    "    return error_mean_square "
   ]
  },
  {
   "cell_type": "markdown",
   "id": "79810efc",
   "metadata": {},
   "source": [
    "## Not-used functions"
   ]
  },
  {
   "cell_type": "code",
   "execution_count": null,
   "id": "9a2fa851",
   "metadata": {},
   "outputs": [],
   "source": [
    "def difference_between_columns(col1, col2, unit=\"distance\"): \n",
    "    return (col2-col1) "
   ]
  },
  {
   "cell_type": "markdown",
   "id": "0621a58d",
   "metadata": {},
   "source": [
    "# Displaying (wink) Copyrights information"
   ]
  },
  {
   "cell_type": "code",
   "execution_count": null,
   "id": "fe7a3c3e",
   "metadata": {},
   "outputs": [],
   "source": [
    "# Copyrights by Asif Mehmood \n",
    "print (\"Asif©{:}\".format(datetime.now().strftime(\"%Y\"))) "
   ]
  },
  {
   "cell_type": "markdown",
   "id": "d7c9fe98",
   "metadata": {},
   "source": [
    "# Creating/preprocessing/preparing pandas dataframe from CSV-file"
   ]
  },
  {
   "cell_type": "code",
   "execution_count": null,
   "id": "ae06b600",
   "metadata": {},
   "outputs": [],
   "source": [
    "df_org = pd.read_csv(path_to_csv_file) "
   ]
  },
  {
   "cell_type": "markdown",
   "id": "5e0e33b5",
   "metadata": {},
   "source": [
    "## Converting strings to float-values in the dataset"
   ]
  },
  {
   "cell_type": "code",
   "execution_count": null,
   "id": "3181e001",
   "metadata": {},
   "outputs": [],
   "source": [
    "cols_to_convert = [ \n",
    "    \"time\", \"x\", \"y\", \"angle\", \"speed\" \n",
    "] \n",
    "df_org = convert_df_cols_to_float(df_org, cols_to_convert) "
   ]
  },
  {
   "cell_type": "markdown",
   "id": "8e4f5c55",
   "metadata": {},
   "source": [
    "## Dropping unnecessary columns in the dataset"
   ]
  },
  {
   "cell_type": "code",
   "execution_count": null,
   "id": "4c8bf073",
   "metadata": {},
   "outputs": [],
   "source": [
    "df_org = df_org.drop( \n",
    "    columns=[\"lane\", \"pos\"] \n",
    ") "
   ]
  },
  {
   "cell_type": "markdown",
   "id": "f7182f40",
   "metadata": {},
   "source": [
    "## Sorting dataset with vehicle-id, time"
   ]
  },
  {
   "cell_type": "code",
   "execution_count": null,
   "id": "a408b7c0",
   "metadata": {},
   "outputs": [],
   "source": [
    "df_org = df_org.sort_values( \n",
    "    [\"id\", \"time\"], ascending=True \n",
    ") "
   ]
  },
  {
   "cell_type": "markdown",
   "id": "49d5dbe0",
   "metadata": {},
   "source": [
    "## Setting maximum, minimum limit for graphs in Pilot"
   ]
  },
  {
   "cell_type": "code",
   "execution_count": null,
   "id": "46b5a3fc",
   "metadata": {},
   "outputs": [],
   "source": [
    "cols_to_search = [ \n",
    "    \"x\", \"y\" \n",
    "] \n",
    "start_coordinate, end_coordinate = find_min_max_coordinates(df_org, cols_to_search) \n",
    "print (\"start [long, lat]: {:}\".format(start_coordinate)) \n",
    "print (\"end.. [long, lat]: {:}\".format(end_coordinate)) "
   ]
  },
  {
   "cell_type": "markdown",
   "id": "ce532d0b",
   "metadata": {},
   "source": [
    "## Setting maximum, minimum limit for graphs in Pilot"
   ]
  },
  {
   "cell_type": "code",
   "execution_count": null,
   "id": "4c0742f3",
   "metadata": {},
   "outputs": [],
   "source": [
    "plt.xlim([math.floor(start_coordinate[0]), math.ceil(end_coordinate[0])]) \n",
    "plt.ylim([math.floor(start_coordinate[1]), math.ceil(end_coordinate[1])]) \n",
    "plt.figure(figsize=(FIG_SZ[0], FIG_SZ[1])) "
   ]
  },
  {
   "cell_type": "markdown",
   "id": "e2748d39",
   "metadata": {},
   "source": [
    "## Getting unique values for different columns"
   ]
  },
  {
   "cell_type": "code",
   "execution_count": null,
   "id": "f4702647",
   "metadata": {},
   "outputs": [],
   "source": [
    "cols_to_unique_values = [ \n",
    "    \"id\", \"speed\", \"angle\", \"time\" \n",
    "] \n",
    "unique_values = get_dataset_unique_stats(df_org, cols_to_unique_values) \n",
    "display_dataset_unique_values(unique_values, cols_to_unique_values) "
   ]
  },
  {
   "cell_type": "markdown",
   "id": "cf8591ba",
   "metadata": {},
   "source": [
    "# Plotting vehicle graphs"
   ]
  },
  {
   "cell_type": "markdown",
   "id": "e44efb53",
   "metadata": {},
   "source": [
    "## Setting variables for vehicles to be plotted"
   ]
  },
  {
   "cell_type": "code",
   "execution_count": null,
   "id": "c0245d1a",
   "metadata": {},
   "outputs": [],
   "source": [
    "col_to_group_by_id = \"id\" \n",
    "col_to_sort_by_id = \"time\" \n",
    "start_index_of_vehicle_id = 127 \n",
    "number_of_vehicles_to_plot = 4 # this value should be: [an even number, more than 3] \n",
    "angle_threshold = [30, 180, 360] "
   ]
  },
  {
   "cell_type": "markdown",
   "id": "c313857f",
   "metadata": {},
   "source": [
    "## Getting all vehicles"
   ]
  },
  {
   "cell_type": "code",
   "execution_count": null,
   "id": "555a9cda",
   "metadata": {},
   "outputs": [],
   "source": [
    "all_vehicles = get_column_index(unique_values, col_to_group_by_id, cols_to_unique_values) "
   ]
  },
  {
   "cell_type": "markdown",
   "id": "703de228",
   "metadata": {},
   "source": [
    "## Plotting vehicles"
   ]
  },
  {
   "cell_type": "code",
   "execution_count": null,
   "id": "2e7b4bb4",
   "metadata": {},
   "outputs": [],
   "source": [
    "def plot_each_vehicle( \n",
    "    df, vehicle_ids, search_col, search_cols, sort_by_col = \"time\", \n",
    "    base_index_of_vehicle_to_plot=0, vehicles_to_plot = 4, angle_threshold = [30, 180, 360] \n",
    "): \n",
    "    if(vehicles_to_plot%2==1): vehicles_to_plot+=1 \n",
    "    if(vehicles_to_plot<4): vehicles_to_plot = 4 \n",
    "    vehicle_ids = vehicle_ids[ \n",
    "        base_index_of_vehicle_to_plot:(base_index_of_vehicle_to_plot+vehicles_to_plot) \n",
    "    ] \n",
    "    df = df.sort_values([search_col, sort_by_col], ascending=True) \n",
    "    vehicle_plot, axes_plot = plt.subplots( \n",
    "        int(vehicles_to_plot/2), 2, \n",
    "#         sharex=True, sharey=True, \n",
    "        figsize=(FIG_SZ[0]*3, FIG_SZ[1]*1.5*(vehicles_to_plot/2)), \n",
    "    ) \n",
    "    vehicle_plot.supxlabel(\"longitude\") \n",
    "    vehicle_plot.supylabel(\"latitude\") \n",
    "    rowcounter = 0 \n",
    "    colcounter = 0 \n",
    "    for vehicle_index, vehicle_id in enumerate(vehicle_ids): \n",
    "        # Plotting actual path followed by the vehicle \n",
    "        vehicle_actual = df[df[search_col] == vehicle_id] \n",
    "        vehicle_actual_plot, = axes_plot[rowcounter, colcounter].plot( \n",
    "            vehicle_actual[\"x\"], \n",
    "            vehicle_actual[\"y\"], \n",
    "            marker=\".\", \n",
    "            markersize=MARKER_SZ*1, \n",
    "        ) \n",
    "        \n",
    "        # Plotting predicted path followed by the vehicle \n",
    "        vehicle_prediction = get_predictions(vehicle_actual) \n",
    "        vehicle_prediction_plot, = axes_plot[rowcounter, colcounter].plot( \n",
    "            vehicle_prediction[\"x\"], \n",
    "            vehicle_prediction[\"y\"], \n",
    "            \"ro\", \n",
    "            markersize=MARKER_SZ*2, \n",
    "            mfc=\"None\", \n",
    "            mew=2, \n",
    "            alpha=0.7, \n",
    "            linewidth=1.0, \n",
    "        ) \n",
    "        \n",
    "        # Plotting start/end coordinate of the vehicle \n",
    "        vehicle_start_coordinate, vehicle_end_coordinate = get_start_end_coordinates(vehicle_actual, \"time\") \n",
    "        vehicle_start_plot, = axes_plot[rowcounter, colcounter].plot( \n",
    "            vehicle_start_coordinate[0], \n",
    "            vehicle_start_coordinate[1], \n",
    "            \"go\", \n",
    "            markersize=MARKER_SZ*2.5, \n",
    "            mfc=\"None\", \n",
    "            mew=2, \n",
    "            alpha=0.7, \n",
    "            linewidth=1.0, \n",
    "        ) \n",
    "        vehicle_end_plot, = axes_plot[rowcounter, colcounter].plot( \n",
    "            vehicle_end_coordinate[0], \n",
    "            vehicle_end_coordinate[1], \n",
    "            \"ko\", \n",
    "            markersize=MARKER_SZ*2.5, \n",
    "            mfc=\"None\", \n",
    "            mew=2, \n",
    "            alpha=0.7, \n",
    "            linewidth=1.0, \n",
    "        ) \n",
    "        \n",
    "        # Plotting sharp turns of the vehicle \n",
    "        vehicle_sharp_turns = get_sharp_turns(vehicle_actual, angle_threshold)\n",
    "        vehicle_sharp_turns_plot, = axes_plot[rowcounter, colcounter].plot( \n",
    "            vehicle_sharp_turns[\"x\"], \n",
    "            vehicle_sharp_turns[\"y\"], \n",
    "            \"k>\", \n",
    "            markersize=MARKER_SZ*3, \n",
    "        ) \n",
    "        \n",
    "        # Calculating errors of the predictions \n",
    "        vehicle_actual, vehicle_prediction = setup_actual_and_predicted_dataframes( \n",
    "            vehicle_actual, vehicle_prediction \n",
    "        ) \n",
    "        vehicle_error_data = get_error_data(vehicle_actual, vehicle_prediction, cols_to_search) \n",
    "        vehicle_error_mean_square = root_mean_square_error(vehicle_error_data) \n",
    "        error_rows = [] \n",
    "        vehicle_error = pd.DataFrame(error_rows,columns=cols_to_search) \n",
    "        vehicle_erro_plot, = axes_plot[rowcounter, colcounter].plot( \n",
    "            vehicle_error[\"x\"], \n",
    "            vehicle_error[\"y\"], \n",
    "            alpha=0.0, \n",
    "        ) \n",
    "        \n",
    "        # Configuring the legends of above plots \n",
    "        vehicle_plot_legend = axes_plot[rowcounter, colcounter].legend( \n",
    "            [\n",
    "                vehicle_actual_plot, \n",
    "                vehicle_prediction_plot, \n",
    "                vehicle_start_plot, \n",
    "                vehicle_end_plot, \n",
    "                vehicle_sharp_turns_plot, \n",
    "                vehicle_erro_plot \n",
    "            ], \n",
    "            [ \n",
    "                \"Actual path\".format(vehicle_id), \n",
    "                \"Predicted path\".format(vehicle_id), \n",
    "                \"Start: [{:}, {:}]\".format(int(vehicle_start_coordinate[0]), int(vehicle_start_coordinate[1])), \n",
    "                \"End: [{:}, {:}]\".format(int(vehicle_end_coordinate[0]), int(vehicle_end_coordinate[1])), \n",
    "                \"Sharp turns\", \n",
    "                \"RMSE: {:.2f}\".format(vehicle_error_mean_square), \n",
    "            ], \n",
    "            loc=\"best\" \n",
    "        ) \n",
    "        axes_plot[rowcounter, colcounter].add_artist(vehicle_plot_legend) \n",
    "        axes_plot[rowcounter, colcounter].set_title(\"{:} trajectory\".format(vehicle_id)) \n",
    "        colcounter=(colcounter+1)%2 \n",
    "        if(colcounter%2 == 0): rowcounter+=1 "
   ]
  },
  {
   "cell_type": "code",
   "execution_count": null,
   "id": "f198a0be",
   "metadata": {
    "scrolled": false
   },
   "outputs": [],
   "source": [
    "plot_each_vehicle( \n",
    "    df_org, all_vehicles, col_to_group_by_id, cols_to_unique_values, col_to_sort_by_id, \n",
    "    start_index_of_vehicle_id, number_of_vehicles_to_plot, angle_threshold \n",
    ") "
   ]
  },
  {
   "cell_type": "markdown",
   "id": "d4efa473",
   "metadata": {},
   "source": [
    "# Calculate RMSE for all vehicles"
   ]
  },
  {
   "cell_type": "code",
   "execution_count": null,
   "id": "d2521756",
   "metadata": {},
   "outputs": [],
   "source": [
    "def error_all_vehicles( \n",
    "    df, vehicle_ids, search_col, search_cols, sort_by_col = \"time\", \n",
    "    vehicles_to_plot = 4, angle_threshold = [30, 180, 360], cols_error = [\"id\", \"rmse\"] \n",
    "): \n",
    "    vehicles_to_plot = vehicle_ids.shape[0] \n",
    "    vehicle_ids = vehicle_ids[0:vehicles_to_plot] \n",
    "#     print (vehicle_ids) \n",
    "    df = df.sort_values([search_col, sort_by_col], ascending=True) \n",
    "    \n",
    "    error_rows = [] \n",
    "    for vehicle_index, vehicle_id in enumerate(vehicle_ids): \n",
    "        vehicle_actual = df[df[search_col] == vehicle_id] \n",
    "\n",
    "        # Getting the predicted path followed by the vehicle \n",
    "        vehicle_prediction = get_predictions(vehicle_actual) \n",
    "\n",
    "        # Calculating errors of the predictions \n",
    "        vehicle_actual, vehicle_prediction = setup_actual_and_predicted_dataframes( \n",
    "            vehicle_actual, vehicle_prediction \n",
    "        ) \n",
    "        vehicle_error_data = get_error_data(vehicle_actual, vehicle_prediction, cols_to_search) \n",
    "        vehicle_error_mean_square = root_mean_square_error(vehicle_error_data) \n",
    "        error_rows.append({ \n",
    "            \"id\": vehicle_id, \n",
    "            \"rmse\": vehicle_error_mean_square, \n",
    "        }) \n",
    "    \n",
    "    vehicle_error = pd.DataFrame(error_rows,columns=cols_error) \n",
    "    return vehicle_error"
   ]
  },
  {
   "cell_type": "code",
   "execution_count": null,
   "id": "2d085eca",
   "metadata": {},
   "outputs": [],
   "source": [
    "df_error = error_all_vehicles( \n",
    "    df_org, all_vehicles, col_to_group_by_id, cols_to_unique_values, col_to_sort_by_id, \n",
    "    number_of_vehicles_to_plot, angle_threshold, cols_error = [\"id\", \"rmse\"] \n",
    ") "
   ]
  },
  {
   "cell_type": "code",
   "execution_count": null,
   "id": "d08b913b",
   "metadata": {},
   "outputs": [],
   "source": [
    "df_error = df_error.sort_values( \n",
    "    [\"rmse\"], ascending=True \n",
    ") "
   ]
  },
  {
   "cell_type": "code",
   "execution_count": null,
   "id": "daa920b5",
   "metadata": {},
   "outputs": [],
   "source": [
    "print (\"Error DataFrame: \") \n",
    "print (df_error) "
   ]
  },
  {
   "cell_type": "code",
   "execution_count": null,
   "id": "50ace076",
   "metadata": {},
   "outputs": [],
   "source": [
    "number_of_error_items = df_error[\"id\"].shape[0] \n",
    "error_sum = df_error[\"rmse\"].sum() \n",
    "print (\"RMSE for all vehicles: {:.3f}\".format(error_sum/number_of_error_items)) "
   ]
  },
  {
   "cell_type": "markdown",
   "id": "439f3802",
   "metadata": {},
   "source": [
    "# Plotting RMSE for all vehicles"
   ]
  },
  {
   "cell_type": "code",
   "execution_count": null,
   "id": "e05fd7fd",
   "metadata": {},
   "outputs": [],
   "source": [
    "def plot_each_error(df): \n",
    "    df = df.sort_values([\"rmse\"], ascending=True) \n",
    "    vehicle_error_plot, axes_error_plot = plt.subplots( \n",
    "        1, \n",
    "#         sharex=True, sharey=True, \n",
    "        figsize=(FIG_SZ[0]*2.5, FIG_SZ[1]*2.5), \n",
    "    ) \n",
    "    vehicle_error_plot.supxlabel(\"\") \n",
    "    vehicle_error_plot.supylabel(\"error\") \n",
    "    vehicle_error_plot, = axes_error_plot.plot(\n",
    "        df[\"rmse\"], \n",
    "#         df[\"id\"], \n",
    "        \"ro\", \n",
    "        markersize=MARKER_SZ*2, \n",
    "        mfc=\"None\", \n",
    "        mew=2, \n",
    "        alpha=0.7, \n",
    "        linewidth=1.0, \n",
    "#         marker=\".\", color=\"red\", markerfacecolor=\"None\" \n",
    "    ) \n",
    "        \n",
    "    # Configuring the legend of above plot \n",
    "    vehicle_plot_legend = axes_error_plot.legend( \n",
    "        [vehicle_error_plot], [\"Prediction error of all vehciles\"], loc=\"best\" \n",
    "    ) \n",
    "    axes_error_plot.add_artist(vehicle_plot_legend) \n",
    "    axes_error_plot.set_title(\"Prediction error of all vehciles\") "
   ]
  },
  {
   "cell_type": "code",
   "execution_count": null,
   "id": "1cf25e3e",
   "metadata": {},
   "outputs": [],
   "source": [
    "plot_each_error(df_error)"
   ]
  },
  {
   "cell_type": "code",
   "execution_count": null,
   "id": "a3318f17",
   "metadata": {},
   "outputs": [],
   "source": []
  }
 ],
 "metadata": {
  "kernelspec": {
   "display_name": "Python 3",
   "language": "python",
   "name": "python3"
  },
  "language_info": {
   "codemirror_mode": {
    "name": "ipython",
    "version": 3
   },
   "file_extension": ".py",
   "mimetype": "text/x-python",
   "name": "python",
   "nbconvert_exporter": "python",
   "pygments_lexer": "ipython3",
   "version": "3.9.6"
  }
 },
 "nbformat": 4,
 "nbformat_minor": 5
}
