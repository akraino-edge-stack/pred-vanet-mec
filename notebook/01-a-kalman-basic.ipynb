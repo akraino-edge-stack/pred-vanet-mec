{
 "cells": [
  {
   "cell_type": "markdown",
   "id": "c8d67c38",
   "metadata": {},
   "source": [
    "# Note:\n",
    "* First of all, **run the libraries**\n",
    "* Set the path for ** *CSV-file*** \n",
    "* Then **load the file (*CSV*)** by the following instructions provided after running \n",
    "* Continue your work ..."
   ]
  },
  {
   "cell_type": "markdown",
   "id": "b3b46d8f",
   "metadata": {},
   "source": [
    "# Libraries"
   ]
  },
  {
   "cell_type": "code",
   "execution_count": null,
   "id": "e458703f",
   "metadata": {
    "scrolled": true
   },
   "outputs": [],
   "source": [
    "import filterpy.kalman as kf\n",
    "import filterpy.stats as stats\n",
    "\n",
    "import numpy as np\n",
    "import pandas as pd \n",
    "import matplotlib.pyplot as plt \n",
    "\n",
    "from urllib.request import urlopen\n",
    "import xml.etree.ElementTree as et \n",
    "import math\n",
    "from datetime import datetime\n",
    "from decimal import Decimal"
   ]
  },
  {
   "cell_type": "markdown",
   "id": "b0f6ade3",
   "metadata": {},
   "source": [
    "# Functions"
   ]
  },
  {
   "cell_type": "code",
   "execution_count": null,
   "id": "1c3d3c58",
   "metadata": {
    "scrolled": true
   },
   "outputs": [],
   "source": [
    "def difference_in_unit(item1, item2, unit=\"distance\"):\n",
    "    return (item2-item1)"
   ]
  },
  {
   "cell_type": "code",
   "execution_count": null,
   "id": "6e100881",
   "metadata": {
    "scrolled": true
   },
   "outputs": [],
   "source": [
    "# function to convert to subscript\n",
    "def get_sub(x):\n",
    "    normal = \"ABCDEFGHIJKLMNOPQRSTUVWXYZabcdefghijklmnopqrstuvwxyz0123456789+-=()\"\n",
    "    sub_s = \"ₐ₈CDₑբGₕᵢⱼₖₗₘₙₒₚQᵣₛₜᵤᵥwₓᵧZₐ♭꜀ᑯₑբ₉ₕᵢⱼₖₗₘₙₒₚ૧ᵣₛₜᵤᵥwₓᵧ₂₀₁₂₃₄₅₆₇₈₉₊₋₌₍₎\"\n",
    "    res = x.maketrans(''.join(normal), ''.join(sub_s))\n",
    "    return x.translate(res)"
   ]
  },
  {
   "cell_type": "code",
   "execution_count": null,
   "id": "018fab07",
   "metadata": {
    "scrolled": true
   },
   "outputs": [],
   "source": [
    "# function to convert to superscript\n",
    "def get_super(x):\n",
    "    normal = \"ABCDEFGHIJKLMNOPQRSTUVWXYZabcdefghijklmnopqrstuvwxyz0123456789+-=()\"\n",
    "    super_s = \"ᴬᴮᶜᴰᴱᶠᴳᴴᴵᴶᴷᴸᴹᴺᴼᴾQᴿˢᵀᵁⱽᵂˣʸᶻᵃᵇᶜᵈᵉᶠᵍʰᶦʲᵏˡᵐⁿᵒᵖ۹ʳˢᵗᵘᵛʷˣʸᶻ⁰¹²³⁴⁵⁶⁷⁸⁹⁺⁻⁼⁽⁾\"\n",
    "    res = x.maketrans(''.join(normal), ''.join(super_s))\n",
    "    return x.translate(res)"
   ]
  },
  {
   "cell_type": "code",
   "execution_count": null,
   "id": "98a64e47",
   "metadata": {},
   "outputs": [],
   "source": [
    "def detect_direction(angle=0.00): \n",
    "    if (angle == 0.00): \n",
    "        return \"None\", \"North\" \n",
    "    elif (angle>0.00 and angle<90.00): #\n",
    "        return \"East\", \"North\" \n",
    "    elif (angle == 90.00): \n",
    "        return \"East\", \"None\" \n",
    "    elif (angle>90.00 and angle<180.00): #\n",
    "        return \"East\", \"South\" \n",
    "    elif (angle == 180.00): \n",
    "        return \"None\", \"South\" \n",
    "    elif (angle>180.00 and angle<270.00): #\n",
    "        return \"West\", \"South\" \n",
    "    elif (angle == 270.00): \n",
    "        return \"West\", \"None\" \n",
    "    elif (angle>270.00 and angle<360.00): #\n",
    "        return \"West\", \"North\" "
   ]
  },
  {
   "cell_type": "code",
   "execution_count": null,
   "id": "dc7d5a12",
   "metadata": {},
   "outputs": [],
   "source": [
    "def find_min_max_weight(x_dir, y_dir): \n",
    "    if (x_dir == \"East\" and y_dir == \"North\"): \n",
    "        return 0, 90\n",
    "    elif (x_dir == \"East\" and y_dir == \"South\"): \n",
    "        return 90, 180\n",
    "    elif (x_dir == \"West\" and y_dir == \"South\"): \n",
    "        return 180, 270\n",
    "    elif (x_dir == \"West\" and y_dir == \"North\"): \n",
    "        return 270, 360\n",
    "    else: \n",
    "        return 0.0, 0.0"
   ]
  },
  {
   "cell_type": "code",
   "execution_count": null,
   "id": "4dd0f9a0",
   "metadata": {},
   "outputs": [],
   "source": [
    "def preaict(x, y, a, s): \n",
    "    x_dir , y_dir = detect_direction(a)\n",
    "    minweight_angle, maxweight_angle = find_min_max_weight(x_dir, y_dir)\n",
    "    weight_range = maxweight_angle-minweight_angle\n",
    "    xweight_angle, yweight_angle = (maxweight_angle-a)/weight_range, (a-minweight_angle)/weight_range\n",
    "    print (\"{:}, {:}, {:.2f}, {:.2f}, {:.2f}\".format(\n",
    "        x_dir, y_dir, a, xweight_angle, yweight_angle\n",
    "    ))\n",
    "    if (x_dir == \"None\" or y_dir == \"None\"): \n",
    "        if (x_dir == \"None\"): \n",
    "            yweight_angle = 1\n",
    "            if (y_dir == \"North\"): \n",
    "                #print (\"None-North: {:.2f}\".format(a))\n",
    "                x_pred, y_pred = x, y+yweight_angle*dt*s\n",
    "            elif (y_dir == \"South\"): \n",
    "                #print (\"None-South: {:.2f}\".format(a))\n",
    "                x_pred, y_pred = x, y-yweight_angle*dt*s\n",
    "        elif (y_dir == \"None\"): \n",
    "            xweight_angle = 1\n",
    "            if (x_dir == \"East\"): \n",
    "                #print (\"East-None: {:.2f}\".format(a))\n",
    "                x_pred, y_pred = x+yweight_angle*dt*s, y\n",
    "            elif (x_dir == \"West\"): \n",
    "                #print (\"West-None: {:.2f}\".format(a))\n",
    "                x_pred, y_pred = x-yweight_angle*dt*s, y\n",
    "    elif (x_dir == \"East\" and y_dir == \"North\"): \n",
    "        #print (\"East-North: {:.2f}\".format(a))\n",
    "        xweight_angle, yweight_angle = (a-minweight_angle)/weight_range, (maxweight_angle-a)/weight_range\n",
    "        x_pred, y_pred = x+xweight_angle*dt*s, y+yweight_angle*dt*s\n",
    "    elif (x_dir == \"East\" and y_dir == \"South\"): \n",
    "        #print (\"East-South: {:.2f}\".format(a))\n",
    "        xweight_angle, yweight_angle = (maxweight_angle-a)/weight_range, (a-minweight_angle)/weight_range\n",
    "        x_pred, y_pred = x+xweight_angle*dt*s, y-yweight_angle*dt*s\n",
    "    elif (x_dir == \"West\" and y_dir == \"South\"): \n",
    "        #print (\"West-South: {:.2f}\".format(a))\n",
    "        xweight_angle, yweight_angle = (a-minweight_angle)/weight_range, (maxweight_angle-a)/weight_range\n",
    "        x_pred, y_pred = x-xweight_angle*dt*s, y-yweight_angle*dt*s\n",
    "    elif (x_dir == \"West\" and y_dir == \"North\"): \n",
    "        #print (\"West-North: {:.2f}\".format(a))\n",
    "        xweight_angle, yweight_angle = (maxweight_angle-a)/weight_range, (a-minweight_angle)/weight_range\n",
    "        x_pred, y_pred = x-xweight_angle*dt*s, y+yweight_angle*dt*s\n",
    "    return round(x_pred, 2), round(y_pred, 2)"
   ]
  },
  {
   "cell_type": "code",
   "execution_count": null,
   "id": "1ddb06ec",
   "metadata": {},
   "outputs": [],
   "source": [
    "def distance_xy_between_two_points(x_actual, y_actual, x_pred, y_pred): \n",
    "    distance = math.sqrt(\n",
    "        ((y_actual-y_pred)**2)\n",
    "        +\n",
    "        ((x_actual-x_pred)**2)\n",
    "    )\n",
    "    return distance"
   ]
  },
  {
   "cell_type": "code",
   "execution_count": null,
   "id": "2b077a73",
   "metadata": {},
   "outputs": [],
   "source": [
    "def distance_xy_between_two_array(\n",
    "    xy_array_actual, xy_array_pred, actual_cols=[\"x\", \"y\"], pred_cols=[\"x\", \"y\"]\n",
    "): \n",
    "    xy_array_actual = xy_array_actual.reset_index()\n",
    "    distance_rows = []\n",
    "    distance_cols = [\"distance\"]\n",
    "    n = xy_array_actual.shape[0]\n",
    "    for index, coordinate in xy_array_actual.iterrows(): \n",
    "        x_actual = coordinate[actual_cols[0]]\n",
    "        y_actual = coordinate[actual_cols[1]]\n",
    "        x_pred = xy_array_pred[pred_cols[0]].values[index]\n",
    "        y_pred = xy_array_pred[pred_cols[1]].values[index]\n",
    "        \n",
    "        distance = distance_xy_between_two_points(\n",
    "            x_actual, y_actual, x_pred, y_pred\n",
    "        )\n",
    "        distance_rows.append({\n",
    "            \"distance\": distance\n",
    "        })\n",
    "    new_df = pd.DataFrame(distance_rows, columns = distance_cols)\n",
    "    return new_df"
   ]
  },
  {
   "cell_type": "code",
   "execution_count": null,
   "id": "a0cb0b24",
   "metadata": {},
   "outputs": [],
   "source": [
    "def error_xy_array(veh1503_records_actual1, veh1503_records_pred1): \n",
    "    n = veh1503_records_actual1.shape[0]\n",
    "    total_difference = 0\n",
    "    distance_array = distance_xy_between_two_array(\n",
    "        veh1503_records_actual1, veh1503_records_pred1, [\"x\", \"y\"], [\"xp\", \"yp\"]\n",
    "    )\n",
    "    return distance_array"
   ]
  },
  {
   "cell_type": "code",
   "execution_count": null,
   "id": "24c76ed6",
   "metadata": {},
   "outputs": [],
   "source": [
    "def root_mean_square_error(error_data): \n",
    "    number_of_entries = error_data.shape[0] \n",
    "    sum_of_entries = error_data[\"distance\"].sum() \n",
    "    error_mean = math.sqrt(sum_of_entries/number_of_entries) \n",
    "    print (\"RMSE: \", error_mean) "
   ]
  },
  {
   "cell_type": "markdown",
   "id": "c6a677a3",
   "metadata": {},
   "source": [
    "# Setting the path from where we'll load the CSV-file"
   ]
  },
  {
   "cell_type": "code",
   "execution_count": null,
   "id": "c513ad88",
   "metadata": {
    "scrolled": true
   },
   "outputs": [],
   "source": [
    "path_to_csv_file = (\n",
    "    r\"/media/ncl-akraino/Volume-HDD-1/akraino/ws-akraino-datasets/OpenStreetMap 2 Traces/\" \n",
    "    \"SelfOpenStreetMapTraceForASparseTraffic.csv\" \n",
    ")"
   ]
  },
  {
   "cell_type": "markdown",
   "id": "5d27d878",
   "metadata": {},
   "source": [
    "# Initializing variables"
   ]
  },
  {
   "cell_type": "code",
   "execution_count": null,
   "id": "d94daeb2",
   "metadata": {
    "scrolled": true
   },
   "outputs": [],
   "source": [
    "temp_counter = 0"
   ]
  },
  {
   "cell_type": "code",
   "execution_count": null,
   "id": "889765a0",
   "metadata": {
    "scrolled": true
   },
   "outputs": [],
   "source": [
    "MARKER_SZ = 7"
   ]
  },
  {
   "cell_type": "code",
   "execution_count": null,
   "id": "f5b08697",
   "metadata": {
    "scrolled": true
   },
   "outputs": [],
   "source": [
    "dt = 1"
   ]
  },
  {
   "cell_type": "code",
   "execution_count": null,
   "id": "78d43a23",
   "metadata": {
    "scrolled": true
   },
   "outputs": [],
   "source": [
    "display_max_rows = 60\n",
    "display_max_cols = 10"
   ]
  },
  {
   "cell_type": "code",
   "execution_count": null,
   "id": "0e518f66",
   "metadata": {
    "scrolled": true
   },
   "outputs": [],
   "source": [
    "pd.set_option(\"display.max_columns\", display_max_cols)"
   ]
  },
  {
   "cell_type": "markdown",
   "id": "6d7526da",
   "metadata": {},
   "source": [
    "<br>"
   ]
  },
  {
   "cell_type": "markdown",
   "id": "5ad7b6ba",
   "metadata": {},
   "source": [
    "## Displaying (wink) Copyrights information"
   ]
  },
  {
   "cell_type": "code",
   "execution_count": null,
   "id": "6141c71c",
   "metadata": {
    "scrolled": true
   },
   "outputs": [],
   "source": [
    "# Copyrights by Asif Mehmood\n",
    "print (\"Asif©\"+datetime.now().strftime(\"%Y\"))"
   ]
  },
  {
   "cell_type": "markdown",
   "id": "d40c6b23",
   "metadata": {},
   "source": [
    "<br>"
   ]
  },
  {
   "cell_type": "markdown",
   "id": "df0401ae",
   "metadata": {},
   "source": [
    "## Creating the pandas dataframe from CSV-file"
   ]
  },
  {
   "cell_type": "code",
   "execution_count": null,
   "id": "07216f3d",
   "metadata": {
    "scrolled": true
   },
   "outputs": [],
   "source": [
    "df_org = pd.read_csv(path_to_csv_file)"
   ]
  },
  {
   "cell_type": "markdown",
   "id": "5a572315",
   "metadata": {},
   "source": [
    "## Converting strings to float-values in the dataset"
   ]
  },
  {
   "cell_type": "code",
   "execution_count": null,
   "id": "5960309a",
   "metadata": {
    "scrolled": true
   },
   "outputs": [],
   "source": [
    "df_org[\"time\"] = df_org[\"time\"].astype(float)\n",
    "df_org[\"x\"] = df_org[\"x\"].astype(float)\n",
    "df_org[\"y\"] = df_org[\"y\"].astype(float)\n",
    "df_org[\"angle\"] = df_org[\"angle\"].astype(float)\n",
    "df_org[\"speed\"] = df_org[\"speed\"].astype(float)"
   ]
  },
  {
   "cell_type": "code",
   "execution_count": null,
   "id": "9ffd334b",
   "metadata": {
    "scrolled": true
   },
   "outputs": [],
   "source": [
    "df_org = df_org.drop(\n",
    "    columns=[\"lane\", \"pos\"]\n",
    ")"
   ]
  },
  {
   "cell_type": "markdown",
   "id": "4fe790d1",
   "metadata": {},
   "source": [
    "## Fetching the maximum, minimum coordinates"
   ]
  },
  {
   "cell_type": "code",
   "execution_count": null,
   "id": "29f40c97",
   "metadata": {
    "scrolled": true
   },
   "outputs": [],
   "source": [
    "min_x = min(df_org[\"x\"])\n",
    "min_y = min(df_org[\"y\"])\n",
    "max_x = max(df_org[\"x\"])\n",
    "max_y = max(df_org[\"y\"])\n",
    "print (\"min/max longititude (X): \", min_x, \", \", max_x)\n",
    "print (\"min/max latitude (Y):\\t \", min_y, \", \", max_y)"
   ]
  },
  {
   "cell_type": "markdown",
   "id": "cc828a7a",
   "metadata": {},
   "source": [
    "## Setting maximum, minimum limit for graphs in Pilot"
   ]
  },
  {
   "cell_type": "code",
   "execution_count": null,
   "id": "e85961dd",
   "metadata": {
    "scrolled": true
   },
   "outputs": [],
   "source": [
    "plt.xlim([math.floor(min_x), math.ceil(max_x)])\n",
    "plt.ylim([math.floor(min_y), math.ceil(max_y)])\n",
    "plt.figure(figsize=(12, 8))"
   ]
  },
  {
   "cell_type": "code",
   "execution_count": null,
   "id": "d66d50a4",
   "metadata": {
    "scrolled": true
   },
   "outputs": [],
   "source": [
    "veh1501_records = df_org[df_org[\"id\"] == \"veh1501\"]"
   ]
  },
  {
   "cell_type": "markdown",
   "id": "a8089006",
   "metadata": {},
   "source": [
    "### Plot longitude/latitude for vehicle 1501"
   ]
  },
  {
   "cell_type": "code",
   "execution_count": null,
   "id": "8733d8c6",
   "metadata": {
    "scrolled": false
   },
   "outputs": [],
   "source": [
    "veh1501_plot = veh1501_records.plot(x=\"x\", y=\"y\", label=\"Vehicle 1501\", figsize=(12,8))\n",
    "veh1501_plot.legend(\"Vehicle 1501's mobility on map\")\n",
    "veh1501_plot.set_xlabel(\"longitude\")\n",
    "veh1501_plot.set_ylabel(\"latitude\")\n",
    "veh1501_plot.set_xlim([math.floor(min_x), math.ceil(max_x)])\n",
    "veh1501_plot.set_ylim([math.floor(min_y), math.ceil(max_y)])"
   ]
  },
  {
   "cell_type": "code",
   "execution_count": null,
   "id": "93476e34",
   "metadata": {},
   "outputs": [],
   "source": [
    "### Plot x/time for vehicle 1501"
   ]
  },
  {
   "cell_type": "code",
   "execution_count": null,
   "id": "2023caaa",
   "metadata": {
    "scrolled": false
   },
   "outputs": [],
   "source": [
    "veh1501_plot2 = veh1501_records.plot(x=\"x\", y=\"time\", label=\"Vehicle 1501\", figsize=(12,8))\n",
    "veh1501_plot2.legend(\"Vehicle 1501's mobility on map\")\n",
    "veh1501_plot2.set_xlabel(\"x\")\n",
    "veh1501_plot2.set_ylabel(\"time\")\n",
    "veh1501_plot2.set_xlim([math.floor(min_x), math.ceil(max_x)])\n",
    "veh1501_plot2.set_ylim([math.floor(min_y), math.ceil(max_y)])"
   ]
  },
  {
   "cell_type": "markdown",
   "id": "f74d7035",
   "metadata": {},
   "source": [
    "### KF testing (start)"
   ]
  },
  {
   "cell_type": "code",
   "execution_count": null,
   "id": "32c06562",
   "metadata": {
    "scrolled": true
   },
   "outputs": [],
   "source": [
    "kf.predict(x=10., P=3., u=1., Q=4.)"
   ]
  },
  {
   "cell_type": "code",
   "execution_count": null,
   "id": "137f5af5",
   "metadata": {
    "scrolled": true
   },
   "outputs": [],
   "source": [
    "stats.plot_gaussian_pdf(\n",
    "    mean=10., \n",
    "    variance=1., \n",
    "    xlim=(4, 16), \n",
    "    ylim=(0, .5) \n",
    ");"
   ]
  },
  {
   "cell_type": "code",
   "execution_count": null,
   "id": "bd3a761a",
   "metadata": {
    "scrolled": true
   },
   "outputs": [],
   "source": [
    "xs = range(500)\n",
    "ys = np.random.randn(500)*1. + 10.\n",
    "plt.plot(xs, ys)\n",
    "print(f'Mean of readings is {np.mean(ys):.3f}')"
   ]
  },
  {
   "cell_type": "code",
   "execution_count": null,
   "id": "9e4499f8",
   "metadata": {
    "scrolled": true
   },
   "outputs": [],
   "source": [
    "xs = range(500)"
   ]
  },
  {
   "cell_type": "code",
   "execution_count": null,
   "id": "e39f2714",
   "metadata": {
    "scrolled": true
   },
   "outputs": [],
   "source": [
    "type(xs)"
   ]
  },
  {
   "cell_type": "code",
   "execution_count": null,
   "id": "5024ed8d",
   "metadata": {
    "scrolled": true
   },
   "outputs": [],
   "source": [
    "ys = np.random.randn(500)*1. +10\n",
    "type(ys)"
   ]
  },
  {
   "cell_type": "code",
   "execution_count": null,
   "id": "7c92a806",
   "metadata": {
    "scrolled": true
   },
   "outputs": [],
   "source": [
    "type(np.random.randn(500)*1)"
   ]
  },
  {
   "cell_type": "code",
   "execution_count": null,
   "id": "2a05643f",
   "metadata": {
    "scrolled": true
   },
   "outputs": [],
   "source": [
    "from collections import namedtuple\n",
    "gaussian = namedtuple('Gaussian', ['mean', 'var'])\n",
    "gaussian.__repr__ = lambda s: '𝒩(μ={:.3f}, 𝜎²={:.3f})'.format(s[0], s[1])"
   ]
  },
  {
   "cell_type": "code",
   "execution_count": null,
   "id": "4d695843",
   "metadata": {
    "scrolled": true
   },
   "outputs": [],
   "source": [
    "g1 = gaussian(3.4, 10.1)\n",
    "g2 = gaussian(mean=4.5, var=0.2**2)\n",
    "print(g1)\n",
    "print(g2)"
   ]
  },
  {
   "cell_type": "markdown",
   "id": "1dad1ef2",
   "metadata": {},
   "source": [
    "### KF testing (end)"
   ]
  },
  {
   "cell_type": "markdown",
   "id": "7e85972b",
   "metadata": {},
   "source": [
    "## Explaining the demonstration of prediction in different situations"
   ]
  },
  {
   "cell_type": "code",
   "execution_count": null,
   "id": "44c2ef8b",
   "metadata": {
    "scrolled": true
   },
   "outputs": [],
   "source": [
    "veh1501_records_temp = veh1501_records[6780:6830]"
   ]
  },
  {
   "cell_type": "code",
   "execution_count": null,
   "id": "ffafea40",
   "metadata": {
    "scrolled": false
   },
   "outputs": [],
   "source": [
    "veh1501_records_temp"
   ]
  },
  {
   "cell_type": "code",
   "execution_count": null,
   "id": "443b46c4",
   "metadata": {
    "scrolled": true
   },
   "outputs": [],
   "source": [
    "veh1501_records_temp1 = veh1501_records_temp[veh1501_records_temp[\"time\"] == 8047]\n",
    "veh1501_records_temp2 = veh1501_records_temp[veh1501_records_temp[\"time\"] == 8048]\n",
    "veh1501_records_temp3 = veh1501_records_temp[veh1501_records_temp[\"time\"] == 8049]\n",
    "\n",
    "veh1501_records_temp4 = veh1501_records_temp[veh1501_records_temp[\"time\"] == 8063]\n",
    "veh1501_records_temp5 = veh1501_records_temp[veh1501_records_temp[\"time\"] == 8064]\n",
    "veh1501_records_temp6 = veh1501_records_temp[veh1501_records_temp[\"time\"] == 8065]"
   ]
  },
  {
   "cell_type": "code",
   "execution_count": null,
   "id": "1b6d1d3c",
   "metadata": {
    "scrolled": false
   },
   "outputs": [],
   "source": [
    "fig = plt.figure(figsize=(12,8))\n",
    "\n",
    "plt.plot(\n",
    "    veh1501_records_temp[\"x\"], \n",
    "    veh1501_records_temp[\"y\"], \n",
    "    label=\"Temp: Vehicle 1501\", \n",
    "    marker=\".\", \n",
    "    markersize=MARKER_SZ \n",
    ")\n",
    "\n",
    "plt.plot(\n",
    "    veh1501_records_temp1[\"x\"], \n",
    "    veh1501_records_temp1[\"y\"], \n",
    "    \"ro\", \n",
    "    markersize=MARKER_SZ, \n",
    "    mfc=\"None\", \n",
    "    mew=2, \n",
    "    alpha=0.7, \n",
    "    linewidth=1.5, \n",
    "    label=\"\\u0394(\\u03F4) > 20\\u00B0\"\n",
    ")\n",
    "\n",
    "plt.plot(\n",
    "    veh1501_records_temp2[\"x\"], \n",
    "    veh1501_records_temp2[\"y\"], \n",
    "    \"ro\", \n",
    "    markersize=MARKER_SZ, \n",
    "    mfc=\"None\", \n",
    "    mew=2, \n",
    "    alpha=0.7, \n",
    "    linewidth=1.5, \n",
    "    #label=\"\\u0394(\\u03F4) > 20\\u00B0\"\n",
    ")\n",
    "\n",
    "plt.plot(\n",
    "    veh1501_records_temp3[\"x\"], \n",
    "    veh1501_records_temp3[\"y\"], \n",
    "    \"ro\", \n",
    "    markersize=MARKER_SZ, \n",
    "    mfc=\"None\", \n",
    "    mew=2, \n",
    "    alpha=0.7, \n",
    "    linewidth=1.5, \n",
    "    #label=\"\\u0394(\\u03F4) > 20\\u00B0\"\n",
    ")\n",
    "\n",
    "plt.plot(\n",
    "    veh1501_records_temp4[\"x\"], \n",
    "    veh1501_records_temp4[\"y\"], \n",
    "    \"ro\", \n",
    "    markersize=MARKER_SZ, \n",
    "    mfc=\"None\", \n",
    "    mew=2, \n",
    "    alpha=0.7, \n",
    "    linewidth=1.5, \n",
    "    #label=\"\\u0394(\\u03F4) > 20\\u00B0\"\n",
    ")\n",
    "\n",
    "plt.plot(\n",
    "    veh1501_records_temp5[\"x\"], \n",
    "    veh1501_records_temp5[\"y\"], \n",
    "    \"ro\", \n",
    "    markersize=MARKER_SZ, \n",
    "    mfc=\"None\", \n",
    "    mew=2, \n",
    "    alpha=0.7, \n",
    "    linewidth=1.5, \n",
    "    #label=\"\\u0394(\\u03F4) > 20\\u00B0\"\n",
    ")\n",
    "\n",
    "plt.plot(\n",
    "    veh1501_records_temp6[\"x\"], \n",
    "    veh1501_records_temp6[\"y\"], \n",
    "    \"ro\", \n",
    "    markersize=MARKER_SZ, \n",
    "    mfc=\"None\", \n",
    "    mew=2, \n",
    "    alpha=.7, \n",
    "    linewidth=1.5, \n",
    "    #label=\"\\u0394(\\u03F4) > 20\\u00B0\"\n",
    ")\n",
    "\n",
    "plt.legend(loc='best', fontsize=14)"
   ]
  },
  {
   "cell_type": "markdown",
   "id": "70a477de",
   "metadata": {},
   "source": [
    "### 1(a) Finding new location between two consecutive coordinates via angle"
   ]
  },
  {
   "cell_type": "code",
   "execution_count": null,
   "id": "f951fdac",
   "metadata": {
    "scrolled": false
   },
   "outputs": [],
   "source": [
    "print (veh1501_records_temp1)\n",
    "print (veh1501_records_temp2)"
   ]
  },
  {
   "cell_type": "code",
   "execution_count": null,
   "id": "9ff86099",
   "metadata": {
    "scrolled": true
   },
   "outputs": [],
   "source": [
    "c1_dif_x = difference_in_unit(veh1501_records_temp1[\"x\"].values[0], veh1501_records_temp2[\"x\"].values[0])\n",
    "c1_dir_x = \"East\" if c1_dif_x>0 else \"West\"\n",
    "c1_dif_y = difference_in_unit(veh1501_records_temp1[\"y\"].values[0], veh1501_records_temp2[\"y\"].values[0])\n",
    "c1_dir_y = \"North\" if c1_dif_y>0 else \"South\"\n",
    "c1_dif_a = difference_in_unit(veh1501_records_temp1[\"angle\"].values[0], veh1501_records_temp2[\"angle\"].values[0])\n",
    "c1_dif_s = difference_in_unit(veh1501_records_temp1[\"speed\"].values[0], veh1501_records_temp2[\"speed\"].values[0])\n",
    "\n",
    "print (\n",
    "    \"Direction:\\t{:}-{:}\".format(c1_dir_y, c1_dir_x)\n",
    ")\n",
    "print (\n",
    "    \"(m)\\t\", \"{:.20f}\\t\\t\".format(c1_dif_x), \n",
    "    \"({:.2f}-{:.2f})\".format(veh1501_records_temp2[\"x\"].values[0], veh1501_records_temp1[\"x\"].values[0]), \n",
    ")\n",
    "print (\n",
    "    \"(m)\\t\", \"{:.20f}\\t\".format(c1_dif_y), \n",
    "    \"({:.2f}-{:.2f})\".format(veh1501_records_temp2[\"y\"].values[0], veh1501_records_temp1[\"y\"].values[0]), \n",
    ")\n",
    "print (\n",
    "    \"(\\u00B0)\\t\", \"{:.20f}\\t\".format(c1_dif_a), \n",
    "    \"({:.2f}-{:.2f})\".format(veh1501_records_temp2[\"angle\"].values[0], veh1501_records_temp1[\"angle\"].values[0]), \n",
    ")\n",
    "print (\n",
    "    \"(m/s)\\t\", \"{:.20f}\\t\\t\".format(c1_dif_s), \n",
    "    \"({:.2f}-{:.2f})\".format(veh1501_records_temp2[\"speed\"].values[0], veh1501_records_temp1[\"speed\"].values[0]), \n",
    ")"
   ]
  },
  {
   "cell_type": "code",
   "execution_count": null,
   "id": "5e888b38",
   "metadata": {
    "scrolled": true
   },
   "outputs": [],
   "source": [
    "c1_point_1 = [\n",
    "    veh1501_records_temp1[\"x\"].values[0], \n",
    "    veh1501_records_temp1[\"y\"].values[0], \n",
    "    veh1501_records_temp1[\"speed\"].values[0], \n",
    "    veh1501_records_temp1[\"angle\"].values[0] \n",
    "]\n",
    "c1_point_2 = [\n",
    "    veh1501_records_temp2[\"x\"].values[0], \n",
    "    veh1501_records_temp2[\"y\"].values[0], \n",
    "    veh1501_records_temp2[\"speed\"].values[0], \n",
    "    veh1501_records_temp2[\"angle\"].values[0] \n",
    "]\n",
    "\n",
    "if(c1_dir_y==\"South\"):\n",
    "    c1_point_3_y = c1_point_2[1]\n",
    "    print (\"extended-point (y) should be taken from point_2\")\n",
    "if(c1_dir_y==\"North\"):\n",
    "    c1_point_3_y = c1_point_2[1]\n",
    "    print (\"extended-point (y) should be taken from point_1\")\n",
    "\n",
    "if(c1_dir_x==\"East\"):\n",
    "    c1_point_3_x = c1_point_1[0]\n",
    "    print (\"extended-point (x) should be taken from point_1\")\n",
    "if(c1_dir_x==\"West\"):\n",
    "    c1_point_3_x = c1_point_1[0]\n",
    "    print (\"extended-point (x) should be taken from point_2\")\n",
    "\n",
    "c1_point_3 = [c1_point_1[0], c1_point_2[1]]\n",
    "print (c1_point_3)\n",
    "c1_point_3 = [c1_point_3_x, c1_point_3_y]\n",
    "print (c1_point_3)"
   ]
  },
  {
   "cell_type": "code",
   "execution_count": null,
   "id": "24df5fa9",
   "metadata": {
    "scrolled": false
   },
   "outputs": [],
   "source": [
    "c_fig_2ps, ax_2ps = plt.subplots(\n",
    "    2, \n",
    "    # sharex=True, sharey=True, \n",
    "    figsize=(18,12)\n",
    ")\n",
    "\n",
    "c1_fig_2ps_g1_p1, = ax_2ps[0].plot(\n",
    "    c1_point_1[0], \n",
    "    c1_point_1[1], \n",
    "    \"ro\", \n",
    "    markersize=MARKER_SZ+5, \n",
    "    mfc=\"None\", \n",
    "    mew=2, \n",
    "    alpha=0.7, \n",
    "    linewidth=1.5, \n",
    "    label=\"point # {:}\".format(temp_counter+1)\n",
    ")\n",
    "\n",
    "c1_fig_2ps_g1_p2, = ax_2ps[0].plot(\n",
    "    c1_point_2[0], \n",
    "    c1_point_2[1], \n",
    "    \"go\", \n",
    "    markersize=MARKER_SZ+5, \n",
    "    mfc=\"None\", \n",
    "    mew=2, \n",
    "    alpha=0.7, \n",
    "    linewidth=1.5, \n",
    "    label=\"point # {:}\".format(temp_counter+2)\n",
    ")\n",
    "\n",
    "c1_fig_2ps_g1_p3, = ax_2ps[0].plot(\n",
    "    c1_point_3[0], \n",
    "    c1_point_3[1], \n",
    "    \"ys\", \n",
    "    markersize=MARKER_SZ+4, \n",
    "    mfc=\"None\", \n",
    "    mew=2, \n",
    "    alpha=0.7, \n",
    "    linewidth=1.5, \n",
    "    label=\"self-extended point\", \n",
    ")\n",
    "\n",
    "c1_fig_2ps_g1_p4, = ax_2ps[0].plot(\n",
    "    [c1_point_2[0], c1_point_3[0]], \n",
    "    [c1_point_2[1], c1_point_3[1]], \n",
    "    \"c\", \n",
    "    label=\"base: {:.2f}m\".format(abs(c1_point_3[0]-c1_point_2[0])) \n",
    ")\n",
    "\n",
    "c1_fig_2ps_g1_p5, = ax_2ps[0].plot(\n",
    "    [c1_point_1[0], c1_point_3[0]], \n",
    "    [c1_point_1[1], c1_point_3[1]], \n",
    "    \"m\", \n",
    "    label=\"perpendicular: {:.2f}m\".format(abs(c1_point_3[1]-c1_point_1[1])) \n",
    ")\n",
    "\n",
    "c1_fig_2ps_g1_p6, = ax_2ps[0].plot(\n",
    "    [c1_point_1[0], c1_point_2[0]], \n",
    "    [c1_point_1[1], c1_point_2[1]], \n",
    "    \"r\", \n",
    "    label=\"hypotenuse: {:.2f}m\".format(\n",
    "        math.sqrt(\n",
    "            ((c1_point_3[1]-c1_point_1[1])**2)\n",
    "            +\n",
    "            ((c1_point_3[0]-c1_point_2[0])**2)\n",
    "        )\n",
    "    ), \n",
    "    linestyle=\"dashed\", \n",
    ")\n",
    "\n",
    "c1_leg1 = ax_2ps[0].legend(\n",
    "    [c1_fig_2ps_g1_p1, c1_fig_2ps_g1_p2, c1_fig_2ps_g1_p3, c1_fig_2ps_g1_p4, c1_fig_2ps_g1_p5, c1_fig_2ps_g1_p6], \n",
    "    [\n",
    "        \"point # {:}\".format(temp_counter+1), \n",
    "        \"point # {:}\".format(temp_counter+2), \n",
    "        \"self-extended point\", \n",
    "        \"base: {:.2f}m\".format(abs(c1_point_3[0]-c1_point_2[0])), \n",
    "        \"perpendicular: {:.2f}m\".format(abs(c1_point_3[1]-c1_point_1[1])), \n",
    "        \"hypotenuse: {:.2f}m\".format(\n",
    "        math.sqrt(\n",
    "            ((c1_point_3[1]-c1_point_1[1])**2)\n",
    "            +\n",
    "            ((c1_point_3[0]-c1_point_2[0])**2)\n",
    "        ))\n",
    "    ], \n",
    "    loc=\"upper center\"\n",
    ")\n",
    "\n",
    "ax_2ps[0].add_artist(c1_leg1)"
   ]
  },
  {
   "cell_type": "code",
   "execution_count": null,
   "id": "6b95b812",
   "metadata": {
    "scrolled": true
   },
   "outputs": [],
   "source": [
    "print (\n",
    "    \"E/W direction:\\t{:}\".format(c1_dir_x)\n",
    ")\n",
    "c1_x2_pred_temp = 0\n",
    "if(c1_dir_x==\"East\"):\n",
    "    c1_x2_pred_temp = c1_point_1[0] + dt*c1_point_1[2]\n",
    "if(c1_dir_x==\"West\"):\n",
    "    c1_x2_pred_temp = c1_point_1[0] - dt*c1_point_1[2]\n",
    "\n",
    "print (\"s{:}: {:}\".format(get_sub(\"1\"), c1_point_1[2]))\n",
    "print (\"\\u0394t: {:}\".format(dt))\n",
    "print (\"\\u03F4{:}: {:}\\u00B0, \\u03F4{:}: {:}\\u00B0\".format(\n",
    "    get_sub(\"1\"), c1_point_1[3], \n",
    "    get_sub(\"2\"), c1_point_2[3])\n",
    ") \n",
    "print (\"x{:}: {:}, x{:}: {:}, x{:}:{:}\".format(\n",
    "    get_sub(\"1\"), c1_point_1[0], \n",
    "    get_sub(\"2\"), c1_point_2[0], \n",
    "    get_sub(\"2,pr\"), c1_x2_pred_temp)\n",
    ")"
   ]
  },
  {
   "cell_type": "code",
   "execution_count": null,
   "id": "21dff46b",
   "metadata": {
    "scrolled": true
   },
   "outputs": [],
   "source": [
    "print (\n",
    "    \"N/S direction:\\t{:}\".format(c1_dir_y)\n",
    ")\n",
    "c1_y2_pred_temp = 0\n",
    "if(c1_dir_y==\"North\"):\n",
    "    c1_y2_pred_temp = c1_point_1[1] + dt*c1_point_1[2]\n",
    "if(c1_dir_y==\"South\"):\n",
    "    c1_y2_pred_temp = c1_point_1[1] - dt*c1_point_1[2]\n",
    "\n",
    "print (\"s{:}: {:}\".format(get_sub(\"1\"), c1_point_1[2]))\n",
    "print (\"\\u0394t: {:}\".format(dt))\n",
    "print (\"\\u03F4{:}: {:}\\u00B0, \\u03F4{:}: {:}\\u00B0\".format(\n",
    "    get_sub(\"1\"), c1_point_1[3], \n",
    "    get_sub(\"2\"), c1_point_2[3])\n",
    ") \n",
    "print (\"y{:}: {:}, y{:}: {:}, y{:}:{:}\".format(\n",
    "    get_sub(\"1\"), c1_point_1[1], \n",
    "    get_sub(\"2\"), c1_point_2[1], \n",
    "    get_sub(\"2,pr\"), c1_y2_pred_temp)\n",
    ")"
   ]
  },
  {
   "cell_type": "markdown",
   "id": "03cf0c88",
   "metadata": {},
   "source": [
    "### 1(b) Finding new location between two consecutive coordinates via angle"
   ]
  },
  {
   "cell_type": "code",
   "execution_count": null,
   "id": "fbc6c15f",
   "metadata": {
    "scrolled": false
   },
   "outputs": [],
   "source": [
    "print (veh1501_records_temp2)\n",
    "print (veh1501_records_temp3)"
   ]
  },
  {
   "cell_type": "code",
   "execution_count": null,
   "id": "ec465855",
   "metadata": {
    "scrolled": true
   },
   "outputs": [],
   "source": [
    "c2_dif_x = difference_in_unit(veh1501_records_temp2[\"x\"].values[0], veh1501_records_temp3[\"x\"].values[0])\n",
    "c2_dir_x = \"East\" if c2_dif_x>0 else \"West\"\n",
    "c2_dif_y = difference_in_unit(veh1501_records_temp2[\"y\"].values[0], veh1501_records_temp3[\"y\"].values[0])\n",
    "c2_dir_y = \"North\" if c2_dif_y>0 else \"South\"\n",
    "c2_dif_a = difference_in_unit(veh1501_records_temp2[\"angle\"].values[0], veh1501_records_temp3[\"angle\"].values[0])\n",
    "c2_dif_s = difference_in_unit(veh1501_records_temp2[\"speed\"].values[0], veh1501_records_temp3[\"speed\"].values[0])\n",
    "\n",
    "print (\n",
    "    \"Direction:\\t{:}-{:}\".format(c2_dir_y, c2_dir_x)\n",
    ")\n",
    "print (\n",
    "    \"(m)\\t\", \"{:.20f}\\t\\t\".format(c2_dif_x), \n",
    "    \"({:.2f}-{:.2f})\".format(veh1501_records_temp3[\"x\"].values[0], veh1501_records_temp2[\"x\"].values[0]), \n",
    ")\n",
    "print (\n",
    "    \"(m)\\t\", \"{:.20f}\\t\".format(c2_dif_y), \n",
    "    \"({:.2f}-{:.2f})\".format(veh1501_records_temp3[\"y\"].values[0], veh1501_records_temp2[\"y\"].values[0]), \n",
    ")\n",
    "print (\n",
    "    \"(\\u00B0)\\t\", \"{:.20f}\\t\".format(c2_dif_a), \n",
    "    \"({:.2f}-{:.2f})\".format(veh1501_records_temp3[\"angle\"].values[0], veh1501_records_temp2[\"angle\"].values[0]), \n",
    ")\n",
    "print (\n",
    "    \"(m/s)\\t\", \"{:.20f}\\t\\t\".format(c2_dif_s), \n",
    "    \"({:.2f}-{:.2f})\".format(veh1501_records_temp3[\"speed\"].values[0], veh1501_records_temp2[\"speed\"].values[0]), \n",
    ")"
   ]
  },
  {
   "cell_type": "code",
   "execution_count": null,
   "id": "c677598c",
   "metadata": {
    "scrolled": true
   },
   "outputs": [],
   "source": [
    "c2_point_1 = [\n",
    "    veh1501_records_temp2[\"x\"].values[0], \n",
    "    veh1501_records_temp2[\"y\"].values[0], \n",
    "    veh1501_records_temp2[\"speed\"].values[0], \n",
    "    veh1501_records_temp2[\"angle\"].values[0] \n",
    "]\n",
    "c2_point_2 = [\n",
    "    veh1501_records_temp3[\"x\"].values[0], \n",
    "    veh1501_records_temp3[\"y\"].values[0], \n",
    "    veh1501_records_temp3[\"speed\"].values[0], \n",
    "    veh1501_records_temp3[\"angle\"].values[0] \n",
    "]\n",
    "\n",
    "if(c2_dir_y==\"South\"):\n",
    "    c2_point_3_y = c2_point_2[1]\n",
    "    print (\"extended-point (y) should be taken from point_2\")\n",
    "if(c1_dir_y==\"North\"):\n",
    "    c2_point_3_y = c2_point_2[1]\n",
    "    print (\"extended-point (y) should be taken from point_1\")\n",
    "\n",
    "if(c2_dir_x==\"East\"):\n",
    "    c2_point_3_x = c2_point_1[0]\n",
    "    print (\"extended-point (x) should be taken from point_1\")\n",
    "if(c1_dir_x==\"West\"):\n",
    "    c2_point_3_x = c2_point_1[0]\n",
    "    print (\"extended-point (x) should be taken from point_2\")\n",
    "\n",
    "c2_point_3 = [c2_point_1[0], c2_point_2[1]]\n",
    "print (c2_point_3)\n",
    "c2_point_3 = [c2_point_3_x, c2_point_3_y]\n",
    "print (c2_point_3)"
   ]
  },
  {
   "cell_type": "code",
   "execution_count": null,
   "id": "9d0f41c8",
   "metadata": {
    "scrolled": true
   },
   "outputs": [],
   "source": [
    "c2_fig_2ps_g2_p1, = ax_2ps[0].plot(\n",
    "    c2_point_1[0], \n",
    "    c2_point_1[1], \n",
    "    \"ro\", \n",
    "    markersize=MARKER_SZ+5, \n",
    "    mfc=\"None\", \n",
    "    mew=2, \n",
    "    alpha=0.7, \n",
    "    linewidth=1.5, \n",
    "    label=\"point # {:}\".format(temp_counter+2)\n",
    ")\n",
    "\n",
    "c2_fig_2ps_g2_p2, = ax_2ps[0].plot(\n",
    "    c2_point_2[0], \n",
    "    c2_point_2[1], \n",
    "    \"go\", \n",
    "    markersize=MARKER_SZ+5, \n",
    "    mfc=\"None\", \n",
    "    mew=2, \n",
    "    alpha=0.7, \n",
    "    linewidth=1.5, \n",
    "    label=\"point # {:}\".format(temp_counter+3)\n",
    ")\n",
    "\n",
    "c2_fig_2ps_g2_p3, = ax_2ps[0].plot(\n",
    "    c2_point_3[0], \n",
    "    c2_point_3[1], \n",
    "    \"ys\", \n",
    "    markersize=MARKER_SZ+4, \n",
    "    mfc=\"None\", \n",
    "    mew=2, \n",
    "    alpha=0.7, \n",
    "    linewidth=1.5, \n",
    "    label=\"self-extended point\", \n",
    ")\n",
    "\n",
    "c2_fig_2ps_g2_p4, = ax_2ps[0].plot(\n",
    "    [c2_point_2[0], c2_point_3[0]], \n",
    "    [c2_point_2[1], c2_point_3[1]], \n",
    "    \"c\", \n",
    "    label=\"base: {:.2f}m\".format(abs(c2_point_3[0]-c2_point_2[0])) \n",
    ")\n",
    "\n",
    "c2_fig_2ps_g2_p5, = ax_2ps[0].plot(\n",
    "    [c2_point_1[0], c2_point_3[0]], \n",
    "    [c2_point_1[1], c2_point_3[1]], \n",
    "    \"m\", \n",
    "    label=\"perpendicular: {:.2f}m\".format(abs(c2_point_3[1]-c2_point_1[1])) \n",
    ")\n",
    "\n",
    "c2_fig_2ps_g2_p6, = ax_2ps[0].plot(\n",
    "    [c2_point_1[0], c2_point_2[0]], \n",
    "    [c2_point_1[1], c2_point_2[1]], \n",
    "    \"r\", \n",
    "    label=\"hypotenuse: {:.2f}m\".format(\n",
    "        math.sqrt(\n",
    "            ((c2_point_3[1]-c2_point_1[1])**2)\n",
    "            +\n",
    "            ((c2_point_3[0]-c2_point_2[0])**2)\n",
    "        )\n",
    "    ), \n",
    "    linestyle=\"dashed\", \n",
    ")\n",
    "\n",
    "c2_leg2 = ax_2ps[0].legend(\n",
    "    [c2_fig_2ps_g2_p1, c2_fig_2ps_g2_p2, c2_fig_2ps_g2_p3, c2_fig_2ps_g2_p4, c2_fig_2ps_g2_p5, c2_fig_2ps_g2_p6], \n",
    "    [\n",
    "        \"point # {:}\".format(temp_counter+2), \n",
    "        \"point # {:}\".format(temp_counter+3), \n",
    "        \"self-extended point\", \n",
    "        \"base: {:.2f}m\".format(abs(c2_point_3[0]-c2_point_2[0])), \n",
    "        \"perpendicular: {:.2f}m\".format(abs(c2_point_3[1]-c2_point_1[1])), \n",
    "        \"hypotenuse: {:.2f}m\".format(\n",
    "        math.sqrt(\n",
    "            ((c2_point_3[1]-c2_point_1[1])**2)\n",
    "            +\n",
    "            ((c2_point_3[0]-c2_point_2[0])**2)\n",
    "        ))\n",
    "    ], \n",
    "    loc=\"center right\"\n",
    ")\n",
    "\n",
    "ax_2ps[0].add_artist(c2_leg2)"
   ]
  },
  {
   "cell_type": "code",
   "execution_count": null,
   "id": "831e1d0c",
   "metadata": {
    "scrolled": false
   },
   "outputs": [],
   "source": [
    "c_fig_2ps"
   ]
  },
  {
   "cell_type": "code",
   "execution_count": null,
   "id": "66e071c1",
   "metadata": {
    "scrolled": true
   },
   "outputs": [],
   "source": [
    "print (\n",
    "    \"E/W direction:\\t{:}\".format(c2_dir_x)\n",
    ")\n",
    "c2_x2_pred_temp = 0\n",
    "if(c2_dir_x==\"East\"):\n",
    "    c2_x2_pred_temp = c2_point_1[0] + dt*c2_point_1[2]\n",
    "if(c1_dir_x==\"West\"):\n",
    "    c2_x2_pred_temp = c2_point_1[0] - dt*c2_point_1[2]\n",
    "\n",
    "print (\"s{:}: {:}\".format(get_sub(\"1\"), c2_point_1[2]))\n",
    "print (\"\\u0394t: {:}\".format(dt))\n",
    "print (\"\\u03F4{:}: {:}\\u00B0, \\u03F4{:}: {:}\\u00B0\".format(\n",
    "    get_sub(\"1\"), c2_point_1[3], \n",
    "    get_sub(\"2\"), c2_point_2[3])\n",
    ") \n",
    "print (\"x{:}: {:}, x{:}: {:}, x{:}:{:}\".format(\n",
    "    get_sub(\"1\"), c2_point_1[0], \n",
    "    get_sub(\"2\"), c2_point_2[0], \n",
    "    get_sub(\"2,pr\"), c2_x2_pred_temp)\n",
    ")"
   ]
  },
  {
   "cell_type": "code",
   "execution_count": null,
   "id": "497bd234",
   "metadata": {
    "scrolled": true
   },
   "outputs": [],
   "source": [
    "print (\n",
    "    \"N/S direction:\\t{:}\".format(c1_dir_y)\n",
    ")\n",
    "c2_y2_pred_temp = 0\n",
    "if(c2_dir_y==\"North\"):\n",
    "    c2_y2_pred_temp = c2_point_1[1] + dt*c2_point_1[2]\n",
    "if(c2_dir_y==\"South\"):\n",
    "    c2_y2_pred_temp = c2_point_1[1] - dt*c2_point_1[2]\n",
    "\n",
    "print (\"s{:}: {:}\".format(get_sub(\"1\"), c2_point_1[2]))\n",
    "print (\"\\u0394t: {:}\".format(dt))\n",
    "print (\"\\u03F4{:}: {:}\\u00B0, \\u03F4{:}: {:}\\u00B0\".format(\n",
    "    get_sub(\"1\"), c2_point_1[3], \n",
    "    get_sub(\"2\"), c2_point_2[3])\n",
    ") \n",
    "print (\"y{:}: {:}, y{:}: {:}, y{:}:{:}\".format(\n",
    "    get_sub(\"1\"), c2_point_1[1], \n",
    "    get_sub(\"2\"), c2_point_2[1], \n",
    "    get_sub(\"2,pr\"), c2_y2_pred_temp)\n",
    ")"
   ]
  },
  {
   "cell_type": "markdown",
   "id": "01d3b6da",
   "metadata": {},
   "source": [
    "### 2(a) Finding new location between two consecutive coordinates via angle"
   ]
  },
  {
   "cell_type": "code",
   "execution_count": null,
   "id": "cae874d1",
   "metadata": {
    "scrolled": false
   },
   "outputs": [],
   "source": [
    "print (veh1501_records_temp4)\n",
    "print (veh1501_records_temp5)"
   ]
  },
  {
   "cell_type": "code",
   "execution_count": null,
   "id": "b598c787",
   "metadata": {
    "scrolled": true
   },
   "outputs": [],
   "source": [
    "c3_dif_x = difference_in_unit(veh1501_records_temp4[\"x\"].values[0], veh1501_records_temp5[\"x\"].values[0])\n",
    "c3_dir_x = \"East\" if c3_dif_x>0 else \"West\"\n",
    "c3_dif_y = difference_in_unit(veh1501_records_temp4[\"y\"].values[0], veh1501_records_temp5[\"y\"].values[0])\n",
    "c3_dir_y = \"North\" if c3_dif_y>0 else \"South\"\n",
    "c3_dif_a = difference_in_unit(veh1501_records_temp4[\"angle\"].values[0], veh1501_records_temp5[\"angle\"].values[0])\n",
    "c3_dif_s = difference_in_unit(veh1501_records_temp4[\"speed\"].values[0], veh1501_records_temp5[\"speed\"].values[0])\n",
    "\n",
    "print (\n",
    "    \"Direction:\\t{:}-{:}\".format(c3_dir_y, c3_dir_x)\n",
    ")\n",
    "print (\n",
    "    \"(m)\\t\", \"{:.20f}\\t\".format(c3_dif_x), \n",
    "    \"({:.2f}-{:.2f})\".format(veh1501_records_temp4[\"x\"].values[0], veh1501_records_temp5[\"x\"].values[0]), \n",
    ")\n",
    "print (\n",
    "    \"(m)\\t\", \"{:.20f}\\t\".format(c3_dif_y), \n",
    "    \"({:.2f}-{:.2f})\".format(veh1501_records_temp4[\"y\"].values[0], veh1501_records_temp5[\"y\"].values[0]), \n",
    ")\n",
    "print (\n",
    "    \"(\\u00B0)\\t\", \"{:.20f}\\t\".format(c3_dif_a), \n",
    "    \"({:.2f}-{:.2f})\".format(veh1501_records_temp4[\"angle\"].values[0], veh1501_records_temp5[\"angle\"].values[0]), \n",
    ")\n",
    "print (\n",
    "    \"(m/s)\\t\", \"{:.20f}\\t\".format(c3_dif_s), \n",
    "    \"({:.2f}-{:.2f})\".format(veh1501_records_temp4[\"speed\"].values[0], veh1501_records_temp5[\"speed\"].values[0]), \n",
    ")"
   ]
  },
  {
   "cell_type": "code",
   "execution_count": null,
   "id": "d034d560",
   "metadata": {
    "scrolled": true
   },
   "outputs": [],
   "source": [
    "c3_point_1 = [\n",
    "    veh1501_records_temp4[\"x\"].values[0], \n",
    "    veh1501_records_temp4[\"y\"].values[0], \n",
    "    veh1501_records_temp4[\"speed\"].values[0], \n",
    "    veh1501_records_temp4[\"angle\"].values[0] \n",
    "]\n",
    "c3_point_2 = [\n",
    "    veh1501_records_temp5[\"x\"].values[0], \n",
    "    veh1501_records_temp5[\"y\"].values[0], \n",
    "    veh1501_records_temp5[\"speed\"].values[0], \n",
    "    veh1501_records_temp5[\"angle\"].values[0] \n",
    "]\n",
    "\n",
    "if(c3_dir_y==\"South\"):\n",
    "    c3_point_3_y = c3_point_2[1]\n",
    "    print (\"extended-point (y) should be taken from point_2\")\n",
    "if(c3_dir_y==\"North\"):\n",
    "    c3_point_3_y = c3_point_2[1]\n",
    "    print (\"extended-point (y) should be taken from point_1\")\n",
    "\n",
    "if(c3_dir_x==\"East\"):\n",
    "    c3_point_3_x = c3_point_1[0]\n",
    "    print (\"extended-point (x) should be taken from point_1\")\n",
    "if(c3_dir_x==\"West\"):\n",
    "    c3_point_3_x = c3_point_1[0]\n",
    "    print (\"extended-point (x) should be taken from point_2\")\n",
    "\n",
    "c3_point_3 = [c3_point_1[0], c3_point_2[1]]\n",
    "print (c3_point_3)\n",
    "c3_point_3 = [c3_point_3_x, c3_point_3_y]\n",
    "print (c3_point_3)"
   ]
  },
  {
   "cell_type": "code",
   "execution_count": null,
   "id": "7ea826ef",
   "metadata": {
    "scrolled": true
   },
   "outputs": [],
   "source": [
    "c3_fig_2ps_g3_p1, = ax_2ps[1].plot(\n",
    "    c3_point_1[0], \n",
    "    c3_point_1[1], \n",
    "    \"ro\", \n",
    "    markersize=MARKER_SZ+5, \n",
    "    mfc=\"None\", \n",
    "    mew=2, \n",
    "    alpha=0.7, \n",
    "    linewidth=1.5, \n",
    "    label=\"point # {:}\".format(temp_counter+4)\n",
    ")\n",
    "\n",
    "c3_fig_2ps_g3_p2, = ax_2ps[1].plot(\n",
    "    c3_point_2[0], \n",
    "    c3_point_2[1], \n",
    "    \"go\", \n",
    "    markersize=MARKER_SZ+5, \n",
    "    mfc=\"None\", \n",
    "    mew=2, \n",
    "    alpha=0.7, \n",
    "    linewidth=1.5, \n",
    "    label=\"point # {:}\".format(temp_counter+5)\n",
    ")\n",
    "\n",
    "c3_fig_2ps_g3_p3, = ax_2ps[1].plot(\n",
    "    c3_point_3[0], \n",
    "    c3_point_3[1], \n",
    "    \"ys\", \n",
    "    markersize=MARKER_SZ+5, \n",
    "    mfc=\"None\", \n",
    "    mew=2, \n",
    "    alpha=0.7, \n",
    "    linewidth=1.5, \n",
    "    label=\"self-extended point\", \n",
    ")\n",
    "\n",
    "c3_fig_2ps_g3_p4, = ax_2ps[1].plot(\n",
    "    [c3_point_2[0], c3_point_3[0]], \n",
    "    [c3_point_2[1], c3_point_3[1]], \n",
    "    \"c\", \n",
    "    label=\"base: {:.2f}m\".format(abs(c3_point_3[0]-c3_point_2[0])) \n",
    ")\n",
    "\n",
    "c3_fig_2ps_g3_p5, = ax_2ps[1].plot(\n",
    "    [c3_point_1[0], c3_point_3[0]], \n",
    "    [c3_point_1[1], c3_point_3[1]], \n",
    "    \"m\", \n",
    "    label=\"perpendicular: {:.2f}m\".format(abs(c3_point_3[1]-c3_point_1[1])) \n",
    ")\n",
    "\n",
    "c3_fig_2ps_g3_p6, = ax_2ps[1].plot(\n",
    "    [c3_point_1[0], c3_point_2[0]], \n",
    "    [c3_point_1[1], c3_point_2[1]], \n",
    "    \"r\", \n",
    "    label=\"hypotenuse: {:.2f}m\".format(\n",
    "        math.sqrt(\n",
    "            ((c3_point_3[1]-c3_point_1[1])**2)\n",
    "            +\n",
    "            ((c3_point_3[0]-c3_point_2[0])**2)\n",
    "        )\n",
    "    ), \n",
    "    linestyle=\"dashed\", \n",
    ")\n",
    "\n",
    "c3_leg3 = ax_2ps[1].legend(\n",
    "    [c3_fig_2ps_g3_p1, c3_fig_2ps_g3_p2, c3_fig_2ps_g3_p3, c3_fig_2ps_g3_p4, c3_fig_2ps_g3_p5, c3_fig_2ps_g3_p6], \n",
    "    [\n",
    "        \"point # {:}\".format(temp_counter+4), \n",
    "        \"point # {:}\".format(temp_counter+5), \n",
    "        \"self-extended point\", \n",
    "        \"base: {:.2f}m\".format(abs(c3_point_3[0]-c3_point_2[0])), \n",
    "        \"perpendicular: {:.2f}m\".format(abs(c3_point_3[1]-c3_point_1[1])), \n",
    "        \"hypotenuse: {:.2f}m\".format(\n",
    "        math.sqrt(\n",
    "            ((c3_point_3[1]-c3_point_1[1])**2)\n",
    "            +\n",
    "            ((c3_point_3[0]-c3_point_2[0])**2)\n",
    "        ))\n",
    "    ], \n",
    "    loc=\"center right\"\n",
    ")\n",
    "\n",
    "ax_2ps[1].add_artist(c3_leg3)"
   ]
  },
  {
   "cell_type": "code",
   "execution_count": null,
   "id": "0104b9df",
   "metadata": {
    "scrolled": false
   },
   "outputs": [],
   "source": [
    "c_fig_2ps"
   ]
  },
  {
   "cell_type": "code",
   "execution_count": null,
   "id": "282d2144",
   "metadata": {
    "scrolled": true
   },
   "outputs": [],
   "source": [
    "print (\n",
    "    \"E/W direction:\\t{:}\".format(c2_dir_x)\n",
    ")\n",
    "c3_x2_pred_temp = 0\n",
    "if(c3_dir_x==\"East\"):\n",
    "    c3_x2_pred_temp = c3_point_1[0] + dt*c3_point_1[2]\n",
    "if(c1_dir_x==\"West\"):\n",
    "    c3_x2_pred_temp = c3_point_1[0] - dt*c3_point_1[2]\n",
    "\n",
    "print (\"s{:}: {:}\".format(get_sub(\"1\"), c3_point_1[2]))\n",
    "print (\"\\u0394t: {:}\".format(dt))\n",
    "print (\"\\u03F4{:}: {:}\\u00B0, \\u03F4{:}: {:}\\u00B0\".format(\n",
    "    get_sub(\"1\"), c3_point_1[3], \n",
    "    get_sub(\"2\"), c3_point_2[3])\n",
    ") \n",
    "print (\"x{:}: {:}, x{:}: {:}, x{:}:{:}\".format(\n",
    "    get_sub(\"1\"), c3_point_1[0], \n",
    "    get_sub(\"2\"), c3_point_2[0], \n",
    "    get_sub(\"2,pr\"), c3_x2_pred_temp)\n",
    ")"
   ]
  },
  {
   "cell_type": "code",
   "execution_count": null,
   "id": "c129cbc6",
   "metadata": {
    "scrolled": true
   },
   "outputs": [],
   "source": [
    "print (\n",
    "    \"N/S direction:\\t{:}\".format(c1_dir_y)\n",
    ")\n",
    "c3_y2_pred_temp = 0\n",
    "if(c3_dir_y==\"North\"):\n",
    "    c3_y2_pred_temp = c3_point_1[1] + dt*c3_point_1[2]\n",
    "if(c3_dir_y==\"South\"):\n",
    "    c3_y2_pred_temp = c3_point_1[1] - dt*c3_point_1[2]\n",
    "\n",
    "print (\"s{:}: {:}\".format(get_sub(\"1\"), c3_point_1[2]))\n",
    "print (\"\\u0394t: {:}\".format(dt))\n",
    "print (\"\\u03F4{:}: {:}\\u00B0, \\u03F4{:}: {:}\\u00B0\".format(\n",
    "    get_sub(\"1\"), c3_point_1[3], \n",
    "    get_sub(\"2\"), c3_point_2[3])\n",
    ") \n",
    "print (\"y{:}: {:}, y{:}: {:}, y{:}:{:}\".format(\n",
    "    get_sub(\"1\"), c3_point_1[1], \n",
    "    get_sub(\"2\"), c3_point_2[1], \n",
    "    get_sub(\"2,pr\"), c3_y2_pred_temp)\n",
    ")"
   ]
  },
  {
   "cell_type": "markdown",
   "id": "1c820b12",
   "metadata": {},
   "source": [
    "### 2(b) Finding new location between two consecutive coordinates via angle"
   ]
  },
  {
   "cell_type": "code",
   "execution_count": null,
   "id": "c4f341bf",
   "metadata": {
    "scrolled": false
   },
   "outputs": [],
   "source": [
    "print (veh1501_records_temp5)\n",
    "print (veh1501_records_temp6)"
   ]
  },
  {
   "cell_type": "code",
   "execution_count": null,
   "id": "f5032f65",
   "metadata": {
    "scrolled": true
   },
   "outputs": [],
   "source": [
    "c4_dif_x = difference_in_unit(veh1501_records_temp5[\"x\"].values[0], veh1501_records_temp6[\"x\"].values[0])\n",
    "c4_dir_x = \"East\" if c4_dif_x>0 else \"West\"\n",
    "c4_dif_y = difference_in_unit(veh1501_records_temp5[\"y\"].values[0], veh1501_records_temp6[\"y\"].values[0])\n",
    "c4_dir_y = \"North\" if c4_dif_y>0 else \"South\"\n",
    "c4_dif_a = difference_in_unit(veh1501_records_temp5[\"angle\"].values[0], veh1501_records_temp6[\"angle\"].values[0])\n",
    "c4_dif_s = difference_in_unit(veh1501_records_temp5[\"speed\"].values[0], veh1501_records_temp6[\"speed\"].values[0])\n",
    "\n",
    "print (\n",
    "    \"Direction:\\t{:}-{:}\".format(c4_dir_y, c4_dir_x)\n",
    ")\n",
    "print (\n",
    "    \"(m)\\t\", \"{:.20f}\\t\".format(c4_dif_x), \n",
    "    \"({:.2f}-{:.2f})\".format(veh1501_records_temp5[\"x\"].values[0], veh1501_records_temp6[\"x\"].values[0]), \n",
    ")\n",
    "print (\n",
    "    \"(m)\\t\", \"{:.20f}\\t\\t\".format(c4_dif_y), \n",
    "    \"({:.2f}-{:.2f})\".format(veh1501_records_temp5[\"y\"].values[0], veh1501_records_temp6[\"y\"].values[0]), \n",
    ")\n",
    "print (\n",
    "    \"(\\u00B0)\\t\", \"{:.20f}\\t\".format(c4_dif_a), \n",
    "    \"({:.2f}-{:.2f})\".format(veh1501_records_temp5[\"angle\"].values[0], veh1501_records_temp6[\"angle\"].values[0]), \n",
    ")\n",
    "print (\n",
    "    \"(m/s)\\t\", \"{:.20f}\\t\\t\".format(c4_dif_s), \n",
    "    \"({:.2f}-{:.2f})\".format(veh1501_records_temp5[\"speed\"].values[0], veh1501_records_temp6[\"speed\"].values[0]), \n",
    ")"
   ]
  },
  {
   "cell_type": "code",
   "execution_count": null,
   "id": "e66911b7",
   "metadata": {
    "scrolled": true
   },
   "outputs": [],
   "source": [
    "c4_point_1 = [\n",
    "    veh1501_records_temp5[\"x\"].values[0], \n",
    "    veh1501_records_temp5[\"y\"].values[0], \n",
    "    veh1501_records_temp5[\"speed\"].values[0], \n",
    "    veh1501_records_temp5[\"angle\"].values[0] \n",
    "]\n",
    "c4_point_2 = [\n",
    "    veh1501_records_temp6[\"x\"].values[0], \n",
    "    veh1501_records_temp6[\"y\"].values[0], \n",
    "    veh1501_records_temp6[\"speed\"].values[0], \n",
    "    veh1501_records_temp6[\"angle\"].values[0] \n",
    "]\n",
    "\n",
    "if(c4_dir_y==\"South\"):\n",
    "    c4_point_3_y = c4_point_2[1]\n",
    "    print (\"extended-point (y) should be taken from point_2\")\n",
    "if(c4_dir_y==\"North\"):\n",
    "    c4_point_3_y = c4_point_2[1]\n",
    "    print (\"extended-point (y) should be taken from point_1\")\n",
    "\n",
    "if(c4_dir_x==\"East\"):\n",
    "    c4_point_3_x = c4_point_1[0]\n",
    "    print (\"extended-point (x) should be taken from point_1\")\n",
    "if(c4_dir_x==\"West\"):\n",
    "    c4_point_3_x = c4_point_1[0]\n",
    "    print (\"extended-point (x) should be taken from point_2\")\n",
    "\n",
    "c4_point_3 = [c4_point_1[0], c4_point_2[1]]\n",
    "print (c4_point_3)\n",
    "c4_point_3 = [c4_point_3_x, c4_point_3_y]\n",
    "print (c4_point_3)"
   ]
  },
  {
   "cell_type": "code",
   "execution_count": null,
   "id": "6ada4f30",
   "metadata": {
    "scrolled": true
   },
   "outputs": [],
   "source": [
    "c4_fig_2ps_g4_p1, = ax_2ps[1].plot(\n",
    "    c4_point_1[0], \n",
    "    c4_point_1[1], \n",
    "    \"ro\", \n",
    "    markersize=MARKER_SZ+5, \n",
    "    mfc=\"None\", \n",
    "    mew=2, \n",
    "    alpha=0.7, \n",
    "    linewidth=1.5, \n",
    "    label=\"point # {:}\".format(temp_counter+5)\n",
    ")\n",
    "\n",
    "c4_fig_2ps_g4_p2, = ax_2ps[1].plot(\n",
    "    c4_point_2[0], \n",
    "    c4_point_2[1], \n",
    "    \"go\", \n",
    "    markersize=MARKER_SZ+5, \n",
    "    mfc=\"None\", \n",
    "    mew=2, \n",
    "    alpha=0.7, \n",
    "    linewidth=1.5, \n",
    "    label=\"point # {:}\".format(temp_counter+6)\n",
    ")\n",
    "\n",
    "c4_fig_2ps_g4_p3, = ax_2ps[1].plot(\n",
    "    c4_point_3[0], \n",
    "    c4_point_3[1], \n",
    "    \"ys\", \n",
    "    markersize=MARKER_SZ+5, \n",
    "    mfc=\"None\", \n",
    "    mew=2, \n",
    "    alpha=0.7, \n",
    "    linewidth=1.5, \n",
    "    label=\"self-extended point\", \n",
    ")\n",
    "\n",
    "c4_fig_2ps_g4_p4, = ax_2ps[1].plot(\n",
    "    [c4_point_2[0], c4_point_3[0]], \n",
    "    [c4_point_2[1], c4_point_3[1]], \n",
    "    \"c\", \n",
    "    label=\"base: {:.2f}m\".format(abs(c4_point_3[0]-c4_point_2[0])) \n",
    ")\n",
    "\n",
    "c4_fig_2ps_g4_p5, = ax_2ps[1].plot(\n",
    "    [c4_point_1[0], c4_point_3[0]], \n",
    "    [c4_point_1[1], c4_point_3[1]], \n",
    "    \"m\", \n",
    "    label=\"perpendicular: {:.2f}m\".format(abs(c4_point_3[1]-c4_point_1[1])) \n",
    ")\n",
    "\n",
    "c4_fig_2ps_g4_p6, = ax_2ps[1].plot(\n",
    "    [c4_point_1[0], c4_point_2[0]], \n",
    "    [c4_point_1[1], c4_point_2[1]], \n",
    "    \"r\", \n",
    "    label=\"hypotenuse: {:.2f}m\".format(\n",
    "        math.sqrt(\n",
    "            ((c4_point_3[1]-c4_point_1[1])**2)\n",
    "            +\n",
    "            ((c4_point_3[0]-c4_point_2[0])**2)\n",
    "        )\n",
    "    ), \n",
    "    linestyle=\"dashed\", \n",
    ")\n",
    "\n",
    "c4_leg4 = ax_2ps[1].legend(\n",
    "    [c4_fig_2ps_g4_p1, c4_fig_2ps_g4_p2, c4_fig_2ps_g4_p3, c4_fig_2ps_g4_p4, c4_fig_2ps_g4_p5, c4_fig_2ps_g4_p6], \n",
    "    [\n",
    "        \"point # {:}\".format(temp_counter+5), \n",
    "        \"point # {:}\".format(temp_counter+6), \n",
    "        \"self-extended point\", \n",
    "        \"base: {:.2f}m\".format(abs(c4_point_3[0]-c4_point_2[0])), \n",
    "        \"perpendicular: {:.2f}m\".format(abs(c4_point_3[1]-c4_point_1[1])), \n",
    "        \"hypotenuse: {:.2f}m\".format(\n",
    "        math.sqrt(\n",
    "            ((c4_point_3[1]-c4_point_1[1])**2)\n",
    "            +\n",
    "            ((c4_point_3[0]-c4_point_2[0])**2)\n",
    "        ))\n",
    "    ], \n",
    "    loc=\"center left\"\n",
    ")\n",
    "\n",
    "ax_2ps[1].add_artist(c4_leg4)"
   ]
  },
  {
   "cell_type": "code",
   "execution_count": null,
   "id": "fab6e925",
   "metadata": {
    "scrolled": false
   },
   "outputs": [],
   "source": [
    "c_fig_2ps"
   ]
  },
  {
   "cell_type": "code",
   "execution_count": null,
   "id": "161f41ae",
   "metadata": {
    "scrolled": true
   },
   "outputs": [],
   "source": [
    "c4_x2_pred_temp = c4_point_1[0] - dt*c4_point_1[2]\n",
    "\n",
    "print (\"s{:}: {:}\".format(get_sub(\"1\"), c4_point_1[2]))\n",
    "print (\"\\u0394t: {:}\".format(dt))\n",
    "print (\"\\u03F4{:}: {:}\\u00B0, \\u03F4{:}: {:}\\u00B0\".format(\n",
    "    get_sub(\"1\"), c4_point_1[3], \n",
    "    get_sub(\"2\"), c4_point_2[3])\n",
    ") \n",
    "print (\"x{:}: {:}, x{:}: {:}, x{:}:{:}\".format(\n",
    "    get_sub(\"1\"), c4_point_1[0], \n",
    "    get_sub(\"2\"), c4_point_2[0], \n",
    "    get_sub(\"2,pr\"), c4_x2_pred_temp)\n",
    ")"
   ]
  },
  {
   "cell_type": "code",
   "execution_count": null,
   "id": "fb8bf972",
   "metadata": {
    "scrolled": false
   },
   "outputs": [],
   "source": [
    "c4_y2_pred_temp = c4_point_1[1] - dt*c4_point_1[2]\n",
    "\n",
    "print (\"s{:}: {:}\".format(get_sub(\"1\"), c4_point_1[2]))\n",
    "print (\"\\u0394t: {:}\".format(dt))\n",
    "print (\"\\u03F4{:}: {:}\\u00B0, \\u03F4{:}: {:}\\u00B0\".format(\n",
    "    get_sub(\"1\"), c4_point_1[3], \n",
    "    get_sub(\"2\"), c4_point_2[3])\n",
    ") \n",
    "print (\"y{:}: {:}, y{:}: {:}, y{:}:{:}\".format(\n",
    "    get_sub(\"1\"), c4_point_1[1], \n",
    "    get_sub(\"2\"), c4_point_2[1], \n",
    "    get_sub(\"2,pr\"), c4_y2_pred_temp)\n",
    ")"
   ]
  },
  {
   "cell_type": "markdown",
   "id": "c91c3539",
   "metadata": {},
   "source": [
    "## Dividing all [east / turn / south / turn / west] movements"
   ]
  },
  {
   "cell_type": "code",
   "execution_count": null,
   "id": "4332851c",
   "metadata": {},
   "outputs": [],
   "source": [
    "def prexict(x, y, a, s, dir=\"East\"): \n",
    "    if (dir == \"East\"): \n",
    "        return x+s*dt\n",
    "    elif(dir == \"West\"): \n",
    "        return x-s*dt"
   ]
  },
  {
   "cell_type": "code",
   "execution_count": null,
   "id": "b8959a70",
   "metadata": {},
   "outputs": [],
   "source": [
    "def preyict(x, y, a, s, dir=\"North\"): \n",
    "    if (dir == \"North\"): \n",
    "        return y+s*dt\n",
    "    elif(dir == \"South\"): \n",
    "        return y-s*dt"
   ]
  },
  {
   "cell_type": "code",
   "execution_count": null,
   "id": "e95d0edc",
   "metadata": {},
   "outputs": [],
   "source": [
    "# East movement\n",
    "veh1501_records_temp_east = veh1501_records[veh1501_records[\"time\"] >= 8029]\n",
    "veh1501_records_temp_east = veh1501_records_temp_east[veh1501_records_temp_east[\"time\"] <=8047]\n",
    "\n",
    "# East to South (Angle) movement\n",
    "veh1501_records_temp_east_south1 = veh1501_records_temp[veh1501_records_temp[\"time\"] == 8047]\n",
    "veh1501_records_temp_east_south2 = veh1501_records_temp[veh1501_records_temp[\"time\"] == 8048]\n",
    "veh1501_records_temp_east_south3 = veh1501_records_temp[veh1501_records_temp[\"time\"] == 8049]\n",
    "\n",
    "# South movement\n",
    "veh1501_records_temp_south = veh1501_records[veh1501_records[\"time\"] >= 8049]\n",
    "veh1501_records_temp_south = veh1501_records_temp_south[veh1501_records_temp_south[\"time\"] <= 8063]\n",
    "\n",
    "# South to West (Angle)\n",
    "veh1501_records_temp_south_west4 = veh1501_records_temp[veh1501_records_temp[\"time\"] == 8063]\n",
    "veh1501_records_temp_south_west5 = veh1501_records_temp[veh1501_records_temp[\"time\"] == 8064]\n",
    "veh1501_records_temp_south_west6 = veh1501_records_temp[veh1501_records_temp[\"time\"] == 8065]\n",
    "\n",
    "# West movement\n",
    "veh1501_records_temp_west = veh1501_records[veh1501_records[\"time\"] >= 8065]\n",
    "veh1501_records_temp_west = veh1501_records_temp_west[veh1501_records_temp_west[\"time\"] <= 8087]"
   ]
  },
  {
   "cell_type": "markdown",
   "id": "9e306f4d",
   "metadata": {},
   "source": [
    "### East movement"
   ]
  },
  {
   "cell_type": "code",
   "execution_count": null,
   "id": "971c5b59",
   "metadata": {},
   "outputs": [],
   "source": [
    "print (veh1501_records_temp_east)"
   ]
  },
  {
   "cell_type": "code",
   "execution_count": null,
   "id": "95f64d44",
   "metadata": {},
   "outputs": [],
   "source": [
    "fig_veh1501_east, ax_veh1501_east = plt.subplots(\n",
    "    1, \n",
    "    # sharex=True, sharey=True, \n",
    "    figsize=(18,12)\n",
    ")\n",
    "\n",
    "fig_veh1501_east_actual, = ax_veh1501_east.plot(\n",
    "    veh1501_records_temp_east[\"x\"], \n",
    "    veh1501_records_temp_east[\"y\"], \n",
    "    marker=\".\", \n",
    "    markersize=MARKER_SZ, \n",
    ")\n",
    "\n",
    "fig_veh1501_east_actual_legend = ax_veh1501_east.legend(\n",
    "    [fig_veh1501_east_actual], \n",
    "    [\n",
    "        \"Vehicle 1501 (East-movement)\" \n",
    "    ], \n",
    "    loc=\"upper center\"\n",
    ")\n",
    "\n",
    "ax_veh1501_east.add_artist(fig_veh1501_east_actual_legend)"
   ]
  },
  {
   "cell_type": "markdown",
   "id": "79abf428",
   "metadata": {},
   "source": [
    "### Predicting using Kalman filter (East)"
   ]
  },
  {
   "cell_type": "code",
   "execution_count": null,
   "id": "deaf1a60",
   "metadata": {},
   "outputs": [],
   "source": [
    "#dataset_cols = [\"time\", \"id\", \"x\", \"y\", \"angle\", \"speed\"]\n",
    "dataset_cols = [\"x\", \"y\"]\n",
    "dataset_rows = []"
   ]
  },
  {
   "cell_type": "code",
   "execution_count": null,
   "id": "a8620c94",
   "metadata": {
    "scrolled": true
   },
   "outputs": [],
   "source": [
    "for index, vehicle in veh1501_records_temp_east.iterrows(): \n",
    "    next_index_x = prexict(vehicle[\"x\"], vehicle[\"y\"], vehicle[\"angle\"], vehicle[\"speed\"], \"East\") \n",
    "    next_index_y = veh1501_records[veh1501_records[\"time\"] == vehicle[\"time\"]+1][\"y\"].values[0]\n",
    "    print (\n",
    "        \"{:}, {:}, {:.2f}, {:.2f}, {:.2f}, {:.2f}\".format(\n",
    "            vehicle[\"time\"], \n",
    "            vehicle[\"id\"], \n",
    "            vehicle[\"x\"], \n",
    "            vehicle[\"y\"], \n",
    "            vehicle[\"angle\"], \n",
    "            vehicle[\"speed\"] \n",
    "        )\n",
    "    )\n",
    "    dataset_rows.append({\n",
    "        \"x\": next_index_x, \n",
    "        \"y\": next_index_y, \n",
    "    })\n",
    "\n",
    "veh1501_records_temp_east_pred = pd.DataFrame(dataset_rows, columns = dataset_cols)"
   ]
  },
  {
   "cell_type": "code",
   "execution_count": null,
   "id": "0eb67f54",
   "metadata": {},
   "outputs": [],
   "source": [
    "fig_veh1501_east_predicted, = ax_veh1501_east.plot(\n",
    "    veh1501_records_temp_east_pred[\"x\"], \n",
    "    veh1501_records_temp_east_pred[\"y\"], \n",
    "    \"ro\", \n",
    "    markersize=MARKER_SZ, \n",
    "    mfc=\"None\", \n",
    "    mew=2, \n",
    "    alpha=0.7, \n",
    "    linewidth=1.0, \n",
    ")\n",
    "\n",
    "fig_veh1501_east_legend = ax_veh1501_east.legend(\n",
    "    [fig_veh1501_east_actual, fig_veh1501_east_predicted], \n",
    "    [\n",
    "        \"Vehicle 1501 Actual (East-movement)\", \n",
    "        \"Vehicle 1501 Predicted (East-movement)\" \n",
    "    ], \n",
    "    loc=\"upper center\"\n",
    ")\n",
    "\n",
    "ax_veh1501_east.add_artist(fig_veh1501_east_legend)\n",
    "\n",
    "fig_veh1501_east"
   ]
  },
  {
   "cell_type": "markdown",
   "id": "78492eff",
   "metadata": {},
   "source": [
    "### East to South (Angle) movement"
   ]
  },
  {
   "cell_type": "code",
   "execution_count": null,
   "id": "2ff71461",
   "metadata": {},
   "outputs": [],
   "source": [
    "veh1501_records_temp_east_south = pd.concat(\n",
    "    [\n",
    "        veh1501_records_temp_east_south1, \n",
    "        veh1501_records_temp_east_south2, \n",
    "        veh1501_records_temp_east_south3\n",
    "    ], \n",
    "    ignore_index=True\n",
    ")\n",
    "print (veh1501_records_temp_east_south)"
   ]
  },
  {
   "cell_type": "code",
   "execution_count": null,
   "id": "b0d984c5",
   "metadata": {},
   "outputs": [],
   "source": [
    "fig_veh1501_east_south, ax_veh1501_east_south = plt.subplots(\n",
    "    1, \n",
    "    # sharex=True, sharey=True, \n",
    "    figsize=(13.5,9)\n",
    ")\n",
    "\n",
    "fig_veh1501_east_south_actual, = ax_veh1501_east_south.plot(\n",
    "    veh1501_records_temp_east_south[\"x\"], \n",
    "    veh1501_records_temp_east_south[\"y\"], \n",
    "    marker=\".\", \n",
    "    markersize=MARKER_SZ, \n",
    ")\n",
    "\n",
    "fig_veh1501_east_south_actual_legend = ax_veh1501_east_south.legend(\n",
    "    [fig_veh1501_east_south_actual], \n",
    "    [\n",
    "        \"Vehicle 1501 (East-South-movement)\" \n",
    "    ], \n",
    "    loc=\"best\"\n",
    ")\n",
    "\n",
    "ax_veh1501_east_south.add_artist(fig_veh1501_east_south_actual_legend)"
   ]
  },
  {
   "cell_type": "markdown",
   "id": "71ca8e48",
   "metadata": {},
   "source": [
    "### Predicting using Kalman filter (East-South)"
   ]
  },
  {
   "cell_type": "code",
   "execution_count": null,
   "id": "c01c48e8",
   "metadata": {},
   "outputs": [],
   "source": [
    "#dataset_cols = [\"time\", \"id\", \"x\", \"y\", \"angle\", \"speed\"]\n",
    "dataset_cols = [\"x\", \"y\"]\n",
    "dataset_rows = []"
   ]
  },
  {
   "cell_type": "code",
   "execution_count": null,
   "id": "d0fd6607",
   "metadata": {},
   "outputs": [],
   "source": [
    "for index, vehicle in veh1501_records_temp_east_south.iterrows():\n",
    "    next_index_x, next_index_y = preaict(vehicle[\"x\"], vehicle[\"y\"], vehicle[\"angle\"], vehicle[\"speed\"])\n",
    "    dataset_rows.append({\n",
    "        \"x\": next_index_x, \n",
    "        \"y\": next_index_y, \n",
    "    })\n",
    "veh1501_records_temp_east_south_pred = pd.DataFrame(dataset_rows, columns = dataset_cols)"
   ]
  },
  {
   "cell_type": "code",
   "execution_count": null,
   "id": "31ca5cc7",
   "metadata": {},
   "outputs": [],
   "source": [
    "fig_veh1501_east_south_pred, = ax_veh1501_east_south.plot(\n",
    "    veh1501_records_temp_east_south_pred[\"x\"], \n",
    "    veh1501_records_temp_east_south_pred[\"y\"], \n",
    "    \"ro\", \n",
    "    markersize=MARKER_SZ, \n",
    "    mfc=\"None\", \n",
    "    mew=2, \n",
    "    alpha=0.7, \n",
    "    linewidth=1.0, \n",
    ") \n",
    "\n",
    "fig_veh1501_east_south_legend = ax_veh1501_east_south.legend(\n",
    "    [fig_veh1501_east_south_actual, fig_veh1501_east_south_pred], \n",
    "    [\n",
    "        \"Vehicle 1501 Actual (East-South-movement)\", \n",
    "        \"Vehicle 1501 Predicted (East-South-movement)\" \n",
    "    ], \n",
    "    loc=\"best\"\n",
    ") \n",
    "\n",
    "ax_veh1501_east_south.add_artist(fig_veh1501_east_south_legend) \n",
    "\n",
    "fig_veh1501_east_south"
   ]
  },
  {
   "cell_type": "markdown",
   "id": "27c28b64",
   "metadata": {},
   "source": [
    "### South movement"
   ]
  },
  {
   "cell_type": "code",
   "execution_count": null,
   "id": "0f6c92d2",
   "metadata": {},
   "outputs": [],
   "source": [
    "print (veh1501_records_temp_south)"
   ]
  },
  {
   "cell_type": "code",
   "execution_count": null,
   "id": "ea5f406a",
   "metadata": {},
   "outputs": [],
   "source": [
    "fig_veh1501_south, ax_veh1501_south = plt.subplots(\n",
    "    1, \n",
    "    # sharex=True, sharey=True, \n",
    "    figsize=(18,12)\n",
    ")\n",
    "\n",
    "fig_veh1501_south_actual, = ax_veh1501_south.plot(\n",
    "    veh1501_records_temp_south[\"x\"], \n",
    "    veh1501_records_temp_south[\"y\"], \n",
    "    marker=\".\", \n",
    "    markersize=MARKER_SZ, \n",
    ")\n",
    "\n",
    "fig_veh1501_south_actual_legend = ax_veh1501_south.legend(\n",
    "    [fig_veh1501_south_actual], \n",
    "    [\n",
    "        \"Vehicle 1501 (South-movement)\" \n",
    "    ], \n",
    "    loc=\"upper center\"\n",
    ")\n",
    "\n",
    "ax_veh1501_south.add_artist(fig_veh1501_south_actual_legend)"
   ]
  },
  {
   "cell_type": "markdown",
   "id": "ba6dd881",
   "metadata": {},
   "source": [
    "### Predicting using Kalman filter (South)"
   ]
  },
  {
   "cell_type": "code",
   "execution_count": null,
   "id": "cb135883",
   "metadata": {},
   "outputs": [],
   "source": [
    "#dataset_cols = [\"time\", \"id\", \"x\", \"y\", \"angle\", \"speed\"]\n",
    "dataset_cols = [\"x\", \"y\"]\n",
    "dataset_rows = []"
   ]
  },
  {
   "cell_type": "code",
   "execution_count": null,
   "id": "a652a2b0",
   "metadata": {
    "scrolled": true
   },
   "outputs": [],
   "source": [
    "for index, vehicle in veh1501_records_temp_south.iterrows():\n",
    "    next_index_x = veh1501_records[veh1501_records[\"time\"] == vehicle[\"time\"]+1][\"x\"].values[0]\n",
    "    next_index_y = preyict(vehicle[\"x\"], vehicle[\"y\"], vehicle[\"angle\"], vehicle[\"speed\"], \"South\") \n",
    "    print (\n",
    "        \"{:}, {:}, {:.2f}, {:.2f}, {:.2f}, {:.2f}, {:.2f}\".format(\n",
    "            vehicle[\"time\"], \n",
    "            vehicle[\"id\"], \n",
    "            vehicle[\"x\"], next_index_x, \n",
    "            vehicle[\"y\"], \n",
    "            vehicle[\"angle\"], \n",
    "            vehicle[\"speed\"] \n",
    "        )\n",
    "    )\n",
    "    dataset_rows.append({\n",
    "        \"x\": next_index_x, \n",
    "        \"y\": next_index_y, \n",
    "    })\n",
    "\n",
    "veh1501_records_temp_south_pred = pd.DataFrame(dataset_rows, columns = dataset_cols)"
   ]
  },
  {
   "cell_type": "code",
   "execution_count": null,
   "id": "068d324b",
   "metadata": {},
   "outputs": [],
   "source": [
    "fig_veh1501_south_predicted, = ax_veh1501_south.plot(\n",
    "    veh1501_records_temp_south_pred[\"x\"], \n",
    "    veh1501_records_temp_south_pred[\"y\"], \n",
    "    \"ro\", \n",
    "    markersize=MARKER_SZ, \n",
    "    mfc=\"None\", \n",
    "    mew=2, \n",
    "    alpha=0.7, \n",
    "    linewidth=1.0, \n",
    ") \n",
    "\n",
    "fig_veh1501_south_legend = ax_veh1501_south.legend(\n",
    "    [fig_veh1501_south_actual, fig_veh1501_south_predicted], \n",
    "    [\n",
    "        \"Vehicle 1501 Actual (South-movement)\", \n",
    "        \"Vehicle 1501 Predicted (South-movement)\" \n",
    "    ], \n",
    "    loc=\"upper center\"\n",
    ") \n",
    "\n",
    "ax_veh1501_south.add_artist(fig_veh1501_south_legend) \n",
    "\n",
    "fig_veh1501_south "
   ]
  },
  {
   "cell_type": "markdown",
   "id": "d69ac3b4",
   "metadata": {},
   "source": [
    "### Angle ()"
   ]
  },
  {
   "cell_type": "code",
   "execution_count": null,
   "id": "86dbc804",
   "metadata": {},
   "outputs": [],
   "source": [
    "print (veh1501_records_temp_south_west4)\n",
    "print (veh1501_records_temp_south_west5)\n",
    "print (veh1501_records_temp_south_west6)"
   ]
  },
  {
   "cell_type": "markdown",
   "id": "96d4d6b2",
   "metadata": {},
   "source": [
    "### West movement"
   ]
  },
  {
   "cell_type": "code",
   "execution_count": null,
   "id": "c7557a15",
   "metadata": {},
   "outputs": [],
   "source": [
    "print (veh1501_records_temp_west)"
   ]
  },
  {
   "cell_type": "code",
   "execution_count": null,
   "id": "4fd312a6",
   "metadata": {},
   "outputs": [],
   "source": [
    "fig_veh1501_west, ax_veh1501_west = plt.subplots(\n",
    "    1, \n",
    "    # sharex=True, sharey=True, \n",
    "    figsize=(18,12)\n",
    ")\n",
    "\n",
    "fig_veh1501_west_actual, = ax_veh1501_west.plot(\n",
    "    veh1501_records_temp_west[\"x\"], \n",
    "    veh1501_records_temp_west[\"y\"], \n",
    "    marker=\".\", \n",
    "    markersize=MARKER_SZ, \n",
    ")\n",
    "\n",
    "fig_veh1501_west_actual_legend = ax_veh1501_west.legend(\n",
    "    [fig_veh1501_west_actual], \n",
    "    [\n",
    "        \"Vehicle 1501 (West-movement)\" \n",
    "    ], \n",
    "    loc=\"upper center\"\n",
    ")\n",
    "\n",
    "ax_veh1501_west.add_artist(fig_veh1501_west_actual_legend)"
   ]
  },
  {
   "cell_type": "markdown",
   "id": "da88f1c8",
   "metadata": {},
   "source": [
    "### Predicting using Kalman filter (West)"
   ]
  },
  {
   "cell_type": "code",
   "execution_count": null,
   "id": "50cc4541",
   "metadata": {},
   "outputs": [],
   "source": [
    "#dataset_cols = [\"time\", \"id\", \"x\", \"y\", \"angle\", \"speed\"]\n",
    "dataset_cols = [\"x\", \"y\"]\n",
    "dataset_rows = []"
   ]
  },
  {
   "cell_type": "code",
   "execution_count": null,
   "id": "574c0720",
   "metadata": {
    "scrolled": true
   },
   "outputs": [],
   "source": [
    "for index, vehicle in veh1501_records_temp_west.iterrows():\n",
    "    next_index_x = prexict(vehicle[\"x\"], vehicle[\"y\"], vehicle[\"angle\"], vehicle[\"speed\"], \"West\") \n",
    "    next_index_y = veh1501_records[veh1501_records[\"time\"] == vehicle[\"time\"]+1][\"y\"].values[0]\n",
    "    print (\n",
    "        \"{:}, {:}, {:.2f}, {:.2f}, {:.2f}, {:.2f}, {:.2f}\".format(\n",
    "            vehicle[\"time\"], \n",
    "            vehicle[\"id\"], \n",
    "            vehicle[\"x\"], next_index_x, \n",
    "            vehicle[\"y\"], \n",
    "            vehicle[\"angle\"], \n",
    "            vehicle[\"speed\"] \n",
    "        )\n",
    "    )\n",
    "    dataset_rows.append({\n",
    "        \"x\": next_index_x, \n",
    "        \"y\": next_index_y, \n",
    "    })\n",
    "\n",
    "veh1501_records_temp_west_pred = pd.DataFrame(dataset_rows, columns = dataset_cols)"
   ]
  },
  {
   "cell_type": "code",
   "execution_count": null,
   "id": "ef4736e3",
   "metadata": {},
   "outputs": [],
   "source": [
    "fig_veh1501_west_predicted, = ax_veh1501_west.plot(\n",
    "    veh1501_records_temp_west_pred[\"x\"], \n",
    "    veh1501_records_temp_west_pred[\"y\"], \n",
    "    \"ro\", \n",
    "    markersize=MARKER_SZ, \n",
    "    mfc=\"None\", \n",
    "    mew=2, \n",
    "    alpha=0.7, \n",
    "    linewidth=1.0, \n",
    ") \n",
    "\n",
    "fig_veh1501_west_legend = ax_veh1501_west.legend(\n",
    "    [fig_veh1501_west_actual, fig_veh1501_west_predicted], \n",
    "    [\n",
    "        \"Vehicle 1501 Actual (West-movement)\", \n",
    "        \"Vehicle 1501 Predicted (West-movement)\" \n",
    "    ], \n",
    "    loc=\"upper center\"\n",
    ") \n",
    "\n",
    "ax_veh1501_west.add_artist(fig_veh1501_west_legend) \n",
    "\n",
    "fig_veh1501_west"
   ]
  },
  {
   "cell_type": "code",
   "execution_count": null,
   "id": "68c0c923",
   "metadata": {},
   "outputs": [],
   "source": []
  },
  {
   "cell_type": "code",
   "execution_count": null,
   "id": "e24a7755",
   "metadata": {},
   "outputs": [],
   "source": []
  },
  {
   "cell_type": "markdown",
   "id": "8b083a36",
   "metadata": {},
   "source": [
    "## Predicting all together for Vehicle # veh1501"
   ]
  },
  {
   "cell_type": "code",
   "execution_count": null,
   "id": "2a333959",
   "metadata": {},
   "outputs": [],
   "source": [
    "veh1501_records = df_org[df_org[\"id\"] == \"veh1501\"]"
   ]
  },
  {
   "cell_type": "code",
   "execution_count": null,
   "id": "685a9b6c",
   "metadata": {},
   "outputs": [],
   "source": [
    "#dataset_cols = [\"time\", \"id\", \"x\", \"y\", \"angle\", \"speed\"]\n",
    "dataset_cols = [\"x\", \"y\"]\n",
    "dataset_rows = []"
   ]
  },
  {
   "cell_type": "code",
   "execution_count": null,
   "id": "c4d5e4d5",
   "metadata": {},
   "outputs": [],
   "source": [
    "# for index, vehicle in veh1501_records.iterrows():\n",
    "#     next_index_x, next_index_y = preaict(vehicle[\"x\"], vehicle[\"y\"], vehicle[\"angle\"], vehicle[\"speed\"])\n",
    "#     dataset_rows.append({\n",
    "#         \"x\": next_index_x, \n",
    "#         \"y\": next_index_y, \n",
    "#     }) \n",
    "#     print (vehicle[\"x\"], next_index_x) \n",
    "#     print (vehicle[\"y\"], next_index_y)\n",
    "# veh1501_records_pred = pd.DataFrame(dataset_rows, columns = dataset_cols)"
   ]
  },
  {
   "cell_type": "code",
   "execution_count": null,
   "id": "3dd03ec7",
   "metadata": {},
   "outputs": [],
   "source": [
    "for index, vehicle in veh1501_records.iterrows():\n",
    "    next_index_x, next_index_y = preaict(vehicle[\"x\"], vehicle[\"y\"], vehicle[\"angle\"], vehicle[\"speed\"])\n",
    "    dataset_rows.append({\n",
    "        \"time\": vehicle[\"time\"]+1, \n",
    "        \"x\": next_index_x, \n",
    "        \"y\": next_index_y, \n",
    "    }) \n",
    "    print (vehicle[\"x\"], next_index_x) \n",
    "    print (vehicle[\"y\"], next_index_y)\n",
    "veh1501_records_pred = pd.DataFrame(dataset_rows, columns = dataset_cols)"
   ]
  },
  {
   "cell_type": "code",
   "execution_count": null,
   "id": "88f5d084",
   "metadata": {},
   "outputs": [],
   "source": [
    "fig_veh1501_all, ax_veh1501_all = plt.subplots(\n",
    "    1, \n",
    "    # sharex=True, sharey=True, \n",
    "    figsize=(18,12)\n",
    ")\n",
    "\n",
    "fig_veh1501_all_actual, = ax_veh1501_all.plot(\n",
    "    veh1501_records[\"x\"], \n",
    "    veh1501_records[\"y\"], \n",
    "    marker=\".\", \n",
    "    markersize=MARKER_SZ, \n",
    ")\n",
    "\n",
    "fig_veh1501_all_pred, = ax_veh1501_all.plot(\n",
    "    veh1501_records_pred[\"x\"], \n",
    "    veh1501_records_pred[\"y\"], \n",
    "    \"ro\", \n",
    "    markersize=MARKER_SZ, \n",
    "    mfc=\"None\", \n",
    "    mew=2, \n",
    "    alpha=0.7, \n",
    "    linewidth=1.0, \n",
    ")\n",
    "\n",
    "fig_veh1501_all_legend = ax_veh1501_all.legend(\n",
    "    [fig_veh1501_all_actual, fig_veh1501_all_pred], \n",
    "    [\n",
    "        \"Vehicle 1501 Actual (All-movement)\", \n",
    "        \"Vehicle 1501 Predicted (All-movement)\" \n",
    "    ], \n",
    "    loc=\"best\"\n",
    ")\n",
    "\n",
    "ax_veh1501_all.add_artist(fig_veh1501_all_legend)"
   ]
  },
  {
   "cell_type": "markdown",
   "id": "0b7a07c1",
   "metadata": {},
   "source": [
    "## Predicting all together for Vehicle # veh1502"
   ]
  },
  {
   "cell_type": "code",
   "execution_count": null,
   "id": "b321d0b6",
   "metadata": {},
   "outputs": [],
   "source": [
    "veh1502_records = df_org[df_org[\"id\"] == \"veh1502\"]"
   ]
  },
  {
   "cell_type": "code",
   "execution_count": null,
   "id": "2be03597",
   "metadata": {},
   "outputs": [],
   "source": [
    "#dataset_cols = [\"time\", \"id\", \"x\", \"y\", \"angle\", \"speed\"]\n",
    "dataset_cols = [\"time\", \"x\", \"y\"]\n",
    "dataset_rows = []"
   ]
  },
  {
   "cell_type": "code",
   "execution_count": null,
   "id": "9ad3c1ed",
   "metadata": {},
   "outputs": [],
   "source": [
    "for index, vehicle in veh1502_records.iterrows():\n",
    "    next_index_x, next_index_y = preaict(vehicle[\"x\"], vehicle[\"y\"], vehicle[\"angle\"], vehicle[\"speed\"])\n",
    "    dataset_rows.append({\n",
    "        \"time\": vehicle[\"time\"]+1, \n",
    "        \"x\": next_index_x, \n",
    "        \"y\": next_index_y, \n",
    "    }) \n",
    "    print (vehicle[\"x\"], next_index_x) \n",
    "    print (vehicle[\"y\"], next_index_y)\n",
    "veh1502_records_pred = pd.DataFrame(dataset_rows, columns = dataset_cols)"
   ]
  },
  {
   "cell_type": "code",
   "execution_count": null,
   "id": "95047592",
   "metadata": {},
   "outputs": [],
   "source": [
    "fig_veh1502_all, ax_veh1502_all = plt.subplots(\n",
    "    1, \n",
    "    # sharex=True, sharey=True, \n",
    "    figsize=(18,12)\n",
    ")\n",
    "\n",
    "fig_veh1502_all_actual, = ax_veh1502_all.plot(\n",
    "    veh1502_records[\"x\"], \n",
    "    veh1502_records[\"y\"], \n",
    "    marker=\".\", \n",
    "    markersize=MARKER_SZ, \n",
    ")\n",
    "\n",
    "fig_veh1502_all_pred, = ax_veh1502_all.plot(\n",
    "    veh1502_records_pred[\"x\"], \n",
    "    veh1502_records_pred[\"y\"], \n",
    "    \"ro\", \n",
    "    markersize=MARKER_SZ, \n",
    "    mfc=\"None\", \n",
    "    mew=2, \n",
    "    alpha=0.7, \n",
    "    linewidth=1.0, \n",
    ")\n",
    "\n",
    "fig_veh1502_all_legend = ax_veh1502_all.legend(\n",
    "    [\n",
    "        fig_veh1502_all_actual, fig_veh1502_all_pred\n",
    "    ], \n",
    "    [\n",
    "        \"Vehicle 1502 Actual (All-movement)\", \n",
    "        \"Vehicle 1502 Predicted (All-movement)\" \n",
    "    ], \n",
    "    loc=\"best\"\n",
    ")\n",
    "\n",
    "ax_veh1502_all.add_artist(fig_veh1502_all_legend)"
   ]
  },
  {
   "cell_type": "code",
   "execution_count": null,
   "id": "34245da7",
   "metadata": {},
   "outputs": [],
   "source": []
  },
  {
   "cell_type": "code",
   "execution_count": null,
   "id": "057ed85d",
   "metadata": {},
   "outputs": [],
   "source": []
  },
  {
   "cell_type": "markdown",
   "id": "b9b39510",
   "metadata": {},
   "source": [
    "## Predicting all together for Vehicle # veh1503"
   ]
  },
  {
   "cell_type": "code",
   "execution_count": null,
   "id": "35f13d68",
   "metadata": {},
   "outputs": [],
   "source": []
  },
  {
   "cell_type": "code",
   "execution_count": null,
   "id": "5995d5ce",
   "metadata": {},
   "outputs": [],
   "source": [
    "def detect_direction(angle=0.00): \n",
    "    if (angle == 0.00): \n",
    "        return \"None\", \"North\" \n",
    "    elif (angle>0.00 and angle<90.00): #\n",
    "        return \"East\", \"North\" \n",
    "    elif (angle == 90.00): \n",
    "        return \"East\", \"None\" \n",
    "    elif (angle>90.00 and angle<180.00): #\n",
    "        return \"East\", \"South\" \n",
    "    elif (angle == 180.00): \n",
    "        return \"None\", \"South\" \n",
    "    elif (angle>180.00 and angle<270.00): #\n",
    "        return \"West\", \"South\" \n",
    "    elif (angle == 270.00): \n",
    "        return \"West\", \"None\" \n",
    "    elif (angle>270.00 and angle<360.00): #\n",
    "        return \"West\", \"North\" "
   ]
  },
  {
   "cell_type": "code",
   "execution_count": null,
   "id": "995bbcc3",
   "metadata": {},
   "outputs": [],
   "source": [
    "def find_min_max_weight(x_dir, y_dir): \n",
    "    if (x_dir == \"East\" and y_dir == \"North\"): \n",
    "        return 0, 90\n",
    "    elif (x_dir == \"East\" and y_dir == \"South\"): \n",
    "        return 90, 180\n",
    "    elif (x_dir == \"West\" and y_dir == \"South\"): \n",
    "        return 180, 270\n",
    "    elif (x_dir == \"West\" and y_dir == \"North\"): \n",
    "        return 270, 360\n",
    "    else: \n",
    "        return 0.0, 0.0"
   ]
  },
  {
   "cell_type": "code",
   "execution_count": null,
   "id": "536f0058",
   "metadata": {},
   "outputs": [],
   "source": [
    "def preaict(x, y, a, s): \n",
    "    x_dir , y_dir = detect_direction(a)\n",
    "    minweight_angle, maxweight_angle = find_min_max_weight(x_dir, y_dir)\n",
    "    weight_range = maxweight_angle-minweight_angle\n",
    "    xweight_angle, yweight_angle = (maxweight_angle-a)/weight_range, (a-minweight_angle)/weight_range\n",
    "    print (\"{:}, {:}, {:.2f}, {:.2f}, {:.2f}\".format(\n",
    "        x_dir, y_dir, a, xweight_angle, yweight_angle\n",
    "    ))\n",
    "    if (x_dir == \"None\" or y_dir == \"None\"): \n",
    "        if (x_dir == \"None\"): \n",
    "            yweight_angle = 1\n",
    "            if (y_dir == \"North\"): \n",
    "                #print (\"None-North: {:.2f}\".format(a))\n",
    "                x_pred, y_pred = x, y+yweight_angle*dt*s\n",
    "            elif (y_dir == \"South\"): \n",
    "                #print (\"None-South: {:.2f}\".format(a))\n",
    "                x_pred, y_pred = x, y-yweight_angle*dt*s\n",
    "        elif (y_dir == \"None\"): \n",
    "            xweight_angle = 1\n",
    "            if (x_dir == \"East\"): \n",
    "                #print (\"East-None: {:.2f}\".format(a))\n",
    "                x_pred, y_pred = x+yweight_angle*dt*s, y\n",
    "            elif (x_dir == \"West\"): \n",
    "                #print (\"West-None: {:.2f}\".format(a))\n",
    "                x_pred, y_pred = x-yweight_angle*dt*s, y\n",
    "    elif (x_dir == \"East\" and y_dir == \"North\"): \n",
    "        #print (\"East-North: {:.2f}\".format(a))\n",
    "        xweight_angle, yweight_angle = (a-minweight_angle)/weight_range, (maxweight_angle-a)/weight_range\n",
    "        x_pred, y_pred = x+xweight_angle*dt*s, y+yweight_angle*dt*s\n",
    "    elif (x_dir == \"East\" and y_dir == \"South\"): \n",
    "        #print (\"East-South: {:.2f}\".format(a))\n",
    "        xweight_angle, yweight_angle = (maxweight_angle-a)/weight_range, (a-minweight_angle)/weight_range\n",
    "        x_pred, y_pred = x+xweight_angle*dt*s, y-yweight_angle*dt*s\n",
    "    elif (x_dir == \"West\" and y_dir == \"South\"): \n",
    "        #print (\"West-South: {:.2f}\".format(a))\n",
    "        xweight_angle, yweight_angle = (a-minweight_angle)/weight_range, (maxweight_angle-a)/weight_range\n",
    "        x_pred, y_pred = x-xweight_angle*dt*s, y-yweight_angle*dt*s\n",
    "    elif (x_dir == \"West\" and y_dir == \"North\"): \n",
    "        #print (\"West-North: {:.2f}\".format(a))\n",
    "        xweight_angle, yweight_angle = (maxweight_angle-a)/weight_range, (a-minweight_angle)/weight_range\n",
    "        x_pred, y_pred = x-xweight_angle*dt*s, y+yweight_angle*dt*s\n",
    "    return round(x_pred, 2), round(y_pred, 2)"
   ]
  },
  {
   "cell_type": "code",
   "execution_count": null,
   "id": "43f630ad",
   "metadata": {},
   "outputs": [],
   "source": [
    "veh1503_records = df_org[df_org[\"id\"] == \"veh1503\"]"
   ]
  },
  {
   "cell_type": "code",
   "execution_count": null,
   "id": "95496701",
   "metadata": {},
   "outputs": [],
   "source": [
    "#dataset_cols = [\"time\", \"id\", \"x\", \"y\", \"angle\", \"speed\"]\n",
    "dataset_cols = [\"time\", \"xp\", \"yp\"]\n",
    "dataset_rows = []"
   ]
  },
  {
   "cell_type": "code",
   "execution_count": null,
   "id": "6ed27a0b",
   "metadata": {},
   "outputs": [],
   "source": [
    "for index, vehicle in veh1503_records.iterrows():\n",
    "    next_index_x, next_index_y = preaict(vehicle[\"x\"], vehicle[\"y\"], vehicle[\"angle\"], vehicle[\"speed\"])\n",
    "    dataset_rows.append({\n",
    "        \"time\": vehicle[\"time\"]+1, \n",
    "        \"xp\": next_index_x, \n",
    "        \"yp\": next_index_y, \n",
    "    }) \n",
    "    print (vehicle[\"x\"], next_index_x) \n",
    "    print (vehicle[\"y\"], next_index_y)\n",
    "veh1503_records_pred = pd.DataFrame(dataset_rows, columns = dataset_cols)"
   ]
  },
  {
   "cell_type": "code",
   "execution_count": null,
   "id": "8eaffabd",
   "metadata": {},
   "outputs": [],
   "source": [
    "fig_veh1503_all, ax_veh1503_all = plt.subplots(\n",
    "    1, \n",
    "    # sharex=True, sharey=True, \n",
    "    figsize=(18,12)\n",
    ")\n",
    "\n",
    "fig_veh1503_all_actual, = ax_veh1503_all.plot(\n",
    "    veh1503_records[\"x\"], \n",
    "    veh1503_records[\"y\"], \n",
    "    marker=\".\", \n",
    "    markersize=MARKER_SZ, \n",
    ")\n",
    "\n",
    "fig_veh1503_all_pred, = ax_veh1503_all.plot(\n",
    "    veh1503_records_pred[\"xp\"], \n",
    "    veh1503_records_pred[\"yp\"], \n",
    "    \"ro\", \n",
    "    markersize=MARKER_SZ, \n",
    "    mfc=\"None\", \n",
    "    mew=2, \n",
    "    alpha=0.7, \n",
    "    linewidth=1.0, \n",
    ")\n",
    "\n",
    "fig_veh1503_all_legend = ax_veh1503_all.legend(\n",
    "    [\n",
    "        fig_veh1503_all_actual, fig_veh1503_all_pred\n",
    "    ], \n",
    "    [\n",
    "        \"Vehicle 1503 Actual (All-movement)\", \n",
    "        \"Vehicle 1503 Predicted (All-movement)\" \n",
    "    ], \n",
    "    loc=\"best\"\n",
    ")\n",
    "\n",
    "ax_veh1503_all.add_artist(fig_veh1503_all_legend)"
   ]
  },
  {
   "cell_type": "markdown",
   "id": "4392a354",
   "metadata": {},
   "source": [
    "## Error for vehicle 1501"
   ]
  },
  {
   "cell_type": "code",
   "execution_count": null,
   "id": "ee3a5bf5",
   "metadata": {},
   "outputs": [],
   "source": [
    "veh1501_records_actual1 = veh1501_records.drop(veh1501_records.index[0], inplace=False)"
   ]
  },
  {
   "cell_type": "code",
   "execution_count": null,
   "id": "c6683f48",
   "metadata": {},
   "outputs": [],
   "source": [
    "veh1501_records_actual1"
   ]
  },
  {
   "cell_type": "code",
   "execution_count": null,
   "id": "61ff187e",
   "metadata": {},
   "outputs": [],
   "source": [
    "veh1501_records_pred1 = veh1501_records_pred.drop(veh1501_records_pred.index[-1], inplace=False)"
   ]
  },
  {
   "cell_type": "code",
   "execution_count": null,
   "id": "d868533d",
   "metadata": {},
   "outputs": [],
   "source": [
    "veh1501_records_pred1"
   ]
  },
  {
   "cell_type": "code",
   "execution_count": null,
   "id": "e5e0676a",
   "metadata": {},
   "outputs": [],
   "source": [
    "veh1501_records_actual_pred_diff = pd.merge(\n",
    "    veh1501_records_actual1.reset_index(), \n",
    "    veh1501_records_pred1.reset_index(), \n",
    "    on=\"time\" \n",
    ")\n",
    "\n",
    "veh1501_records_actual_pred_diff = veh1501_records_actual_pred_diff.drop(columns=[\"index_x\", \"index_y\"])\n",
    "\n",
    "veh1501_records_actual_pred_diff[\"xd\"] = abs(\n",
    "    round(veh1501_records_actual_pred_diff[\"x\"]-veh1501_records_actual_pred_diff[\"xp\"], 2)\n",
    ")\n",
    "veh1501_records_actual_pred_diff[\"yd\"] = abs(\n",
    "    veh1501_records_actual_pred_diff[\"y\"]-veh1501_records_actual_pred_diff[\"yp\"]\n",
    ")"
   ]
  },
  {
   "cell_type": "code",
   "execution_count": null,
   "id": "3f0595a8",
   "metadata": {},
   "outputs": [],
   "source": [
    "veh1501_records_actual_pred_diff = veh1501_records_actual_pred_diff[[\n",
    "#     \"time\", \n",
    "#     \"id\", \n",
    "    \"angle\", \n",
    "    \"speed\", \n",
    "    \"x\", \n",
    "    \"xp\", \n",
    "    \"xd\", \n",
    "    \"y\", \n",
    "    \"yp\", \n",
    "    \"yd\" \n",
    "]]"
   ]
  },
  {
   "cell_type": "code",
   "execution_count": null,
   "id": "7dafcdf5",
   "metadata": {},
   "outputs": [],
   "source": [
    "veh1503_records_actual_pred_diff_sorted = veh1503_records_actual_pred_diff\n",
    "\n",
    "pd.set_option(\"display.max_rows\", veh1503_records_actual_pred_diff_sorted.shape[0])\n",
    "print (veh1503_records_actual_pred_diff_sorted)\n",
    "pd.set_option(\"display.max_rows\", display_max_rows)"
   ]
  },
  {
   "cell_type": "code",
   "execution_count": null,
   "id": "8b54b1fe",
   "metadata": {},
   "outputs": [],
   "source": [
    "error_data_veh1501 = error_xy_array(veh1501_records_actual1, veh1501_records_pred1)\n",
    "error_data_veh1501 = error_data_veh1501.sort_values([\"distance\"], ascending=True)"
   ]
  },
  {
   "cell_type": "code",
   "execution_count": null,
   "id": "d7d973b3",
   "metadata": {},
   "outputs": [],
   "source": [
    "error_data_veh1501"
   ]
  },
  {
   "cell_type": "markdown",
   "id": "b1edf4ff",
   "metadata": {},
   "source": [
    "## Error for vehicle 1502"
   ]
  },
  {
   "cell_type": "code",
   "execution_count": null,
   "id": "7c8776e1",
   "metadata": {},
   "outputs": [],
   "source": [
    "veh1502_records_actual1 = veh1502_records.drop(veh1502_records.index[0], inplace=False)"
   ]
  },
  {
   "cell_type": "code",
   "execution_count": null,
   "id": "265852e9",
   "metadata": {},
   "outputs": [],
   "source": [
    "veh1502_records_pred1 = veh1502_records_pred.drop(veh1502_records_pred.index[-1], inplace=False)"
   ]
  },
  {
   "cell_type": "code",
   "execution_count": null,
   "id": "bcba85f0",
   "metadata": {},
   "outputs": [],
   "source": [
    "veh1502_records_actual_pred_diff = pd.merge(\n",
    "    veh1502_records_actual1.reset_index(), \n",
    "    veh1502_records_pred1.reset_index(), \n",
    "    on=\"time\" \n",
    ")\n",
    "\n",
    "veh1502_records_actual_pred_diff = veh1502_records_actual_pred_diff.drop(columns=[\"index_x\", \"index_y\"])\n",
    "\n",
    "veh1502_records_actual_pred_diff[\"xd\"] = abs(\n",
    "    round(veh1503_records_actual_pred_diff[\"x\"]-veh1502_records_actual_pred_diff[\"xp\"], 2)\n",
    ")\n",
    "veh1502_records_actual_pred_diff[\"yd\"] = abs(\n",
    "    veh1502_records_actual_pred_diff[\"y\"]-veh1502_records_actual_pred_diff[\"yp\"]\n",
    ")"
   ]
  },
  {
   "cell_type": "code",
   "execution_count": null,
   "id": "b66dbb27",
   "metadata": {},
   "outputs": [],
   "source": [
    "veh1502_records_actual_pred_diff = veh1502_records_actual_pred_diff[[\n",
    "#     \"time\", \n",
    "#     \"id\", \n",
    "    \"angle\", \n",
    "    \"speed\", \n",
    "    \"x\", \n",
    "    \"xp\", \n",
    "    \"xd\", \n",
    "    \"y\", \n",
    "    \"yp\", \n",
    "    \"yd\" \n",
    "]]"
   ]
  },
  {
   "cell_type": "code",
   "execution_count": null,
   "id": "fd8950cc",
   "metadata": {},
   "outputs": [],
   "source": [
    "veh1502_records_actual_pred_diff_sorted = veh1502_records_actual_pred_diff \n",
    "\n",
    "pd.set_option(\"display.max_rows\", veh1502_records_actual_pred_diff_sorted.shape[0]) \n",
    "print (veh1502_records_actual_pred_diff_sorted) \n",
    "pd.set_option(\"display.max_rows\", display_max_rows) "
   ]
  },
  {
   "cell_type": "code",
   "execution_count": null,
   "id": "253f5e84",
   "metadata": {},
   "outputs": [],
   "source": [
    "error_data_veh1502 = error_xy_array(veh1502_records_actual1, veh1502_records_pred1)\n",
    "error_data_veh1502 = error_data_veh1502.sort_values([\"distance\"], ascending=True)"
   ]
  },
  {
   "cell_type": "code",
   "execution_count": null,
   "id": "5d1025d6",
   "metadata": {},
   "outputs": [],
   "source": [
    "error_data_veh1502"
   ]
  },
  {
   "cell_type": "code",
   "execution_count": null,
   "id": "40836e64",
   "metadata": {},
   "outputs": [],
   "source": [
    "# created my own RMSE function \n",
    "root_mean_square_error(error_data_veh1502) "
   ]
  },
  {
   "cell_type": "markdown",
   "id": "7371f882",
   "metadata": {},
   "source": [
    "## Error for vehicle 1503"
   ]
  },
  {
   "cell_type": "code",
   "execution_count": null,
   "id": "e09cd878",
   "metadata": {},
   "outputs": [],
   "source": [
    "veh1503_records_actual1 = veh1503_records.drop(veh1503_records.index[0], inplace=False)"
   ]
  },
  {
   "cell_type": "code",
   "execution_count": null,
   "id": "b6853886",
   "metadata": {},
   "outputs": [],
   "source": [
    "veh1503_records_pred1 = veh1503_records_pred.drop(veh1503_records_pred.index[-1], inplace=False)"
   ]
  },
  {
   "cell_type": "code",
   "execution_count": null,
   "id": "c8384aa5",
   "metadata": {},
   "outputs": [],
   "source": [
    "veh1503_records_actual_pred_diff = pd.merge(\n",
    "    veh1503_records_actual1.reset_index(), \n",
    "    veh1503_records_pred1.reset_index(), \n",
    "    on=\"time\" \n",
    ")\n",
    "\n",
    "veh1503_records_actual_pred_diff = veh1503_records_actual_pred_diff.drop(columns=[\"index_x\", \"index_y\"])\n",
    "\n",
    "veh1503_records_actual_pred_diff[\"xd\"] = abs(\n",
    "    round(veh1503_records_actual_pred_diff[\"x\"]-veh1503_records_actual_pred_diff[\"xp\"], 2)\n",
    ")\n",
    "veh1503_records_actual_pred_diff[\"yd\"] = abs(\n",
    "    veh1503_records_actual_pred_diff[\"y\"]-veh1503_records_actual_pred_diff[\"yp\"]\n",
    ")"
   ]
  },
  {
   "cell_type": "code",
   "execution_count": null,
   "id": "d8f6e2be",
   "metadata": {},
   "outputs": [],
   "source": [
    "veh1503_records_actual_pred_diff = veh1503_records_actual_pred_diff[[\n",
    "#     \"time\", \n",
    "#     \"id\", \n",
    "    \"angle\", \n",
    "    \"speed\", \n",
    "    \"x\", \n",
    "    \"xp\", \n",
    "    \"xd\", \n",
    "    \"y\", \n",
    "    \"yp\", \n",
    "    \"yd\" \n",
    "]]"
   ]
  },
  {
   "cell_type": "code",
   "execution_count": null,
   "id": "2d96d3d0",
   "metadata": {},
   "outputs": [],
   "source": [
    "veh1503_records_actual_pred_diff_sorted = veh1503_records_actual_pred_diff\n",
    "\n",
    "pd.set_option(\"display.max_rows\", veh1503_records_actual_pred_diff_sorted.shape[0])\n",
    "print (veh1503_records_actual_pred_diff_sorted)\n",
    "pd.set_option(\"display.max_rows\", display_max_rows)"
   ]
  },
  {
   "cell_type": "code",
   "execution_count": null,
   "id": "55ffaf89",
   "metadata": {},
   "outputs": [],
   "source": [
    "error_data_veh1503 = error_xy_array(veh1503_records_actual1, veh1503_records_pred1)\n",
    "error_data_veh1503 = error_data_veh1503.sort_values([\"distance\"], ascending=True)"
   ]
  },
  {
   "cell_type": "code",
   "execution_count": null,
   "id": "d7bae108",
   "metadata": {},
   "outputs": [],
   "source": [
    "error_data_veh1503"
   ]
  },
  {
   "cell_type": "code",
   "execution_count": null,
   "id": "b5c8de7f",
   "metadata": {},
   "outputs": [],
   "source": [
    "# created my own RMSE function \n",
    "root_mean_square_error(error_data_veh1503) "
   ]
  },
  {
   "cell_type": "code",
   "execution_count": null,
   "id": "29d6e4c1",
   "metadata": {},
   "outputs": [],
   "source": []
  },
  {
   "cell_type": "code",
   "execution_count": null,
   "id": "e33e59e5",
   "metadata": {},
   "outputs": [],
   "source": []
  }
 ],
 "metadata": {
  "kernelspec": {
   "display_name": "Python 3",
   "language": "python",
   "name": "python3"
  },
  "language_info": {
   "codemirror_mode": {
    "name": "ipython",
    "version": 3
   },
   "file_extension": ".py",
   "mimetype": "text/x-python",
   "name": "python",
   "nbconvert_exporter": "python",
   "pygments_lexer": "ipython3",
   "version": "3.9.6"
  }
 },
 "nbformat": 4,
 "nbformat_minor": 5
}
